{
 "cells": [
  {
   "cell_type": "markdown",
   "metadata": {},
   "source": [
    "# IMPLEMENTACIÓN Y EVALUACIÓN DE UN SISTEMA RAG EN ESPAÑOL CON MISTRAL 7B"
   ]
  },
  {
   "cell_type": "markdown",
   "metadata": {},
   "source": [
    "# INTEGRANTES:\n",
    "\n",
    "* Yesid Castelblanco\n",
    "* Albin Rivera"
   ]
  },
  {
   "cell_type": "markdown",
   "metadata": {},
   "source": [
    "# INTRODUCCION"
   ]
  },
  {
   "cell_type": "markdown",
   "metadata": {},
   "source": [
    "El presente notebook desarrolla un sistema de Retrieval-Augmented Generation (RAG) aplicado a documentos en español, combinando técnicas de procesamiento de lenguaje natural, generación de embeddings y modelos de lenguaje de gran tamaño (LLMs). El enfoque RAG permite enriquecer la generación de respuestas con información extraída directamente de fuentes documentales, garantizando resultados más precisos, contextualizados y verificables.\n",
    "\n",
    "Para este proyecto se usaron documentos en formato PDF, relacionados con temáticas de planificación territorial y gestión del riesgo, particularmente vinculadas al POT 2025 de Palmira, los cuales fueron cargados y procesados para su indexación. Mediante el uso de embeddings multilingües y el modelo Mistral 7B optimizado en 8 bits, se construyó un pipeline de preguntas y respuestas (QA) capaz de recuperar fragmentos relevantes de los documentos y generar respuestas en lenguaje natural. Finalmente, se implementaron métricas de evaluación tradicionales y semánticas con el fin de medir la efectividad del sistema."
   ]
  },
  {
   "cell_type": "markdown",
   "metadata": {},
   "source": [
    "# OBJETIVO"
   ]
  },
  {
   "cell_type": "markdown",
   "metadata": {},
   "source": [
    "El objetivo de este notebook es diseñar, implementar y evaluar un sistema de Retrieval-Augmented Generation (RAG) en español, capaz de integrar la recuperación de información desde documentos técnicos en formato PDF con la generación de texto en lenguaje natural. Para ello, se emplean embeddings multilingües y el modelo Mistral 7B optimizado en 8 bits, lo que permite responder preguntas de manera contextualizada y fundamentada en los datos cargados. Asimismo, se busca medir el desempeño del sistema mediante métricas tradicionales de recuperación de información (precision, recall@k) y métricas semánticas, con el fin de validar su eficacia en un caso de estudio aplicado al POT 2025 de Palmira."
   ]
  },
  {
   "cell_type": "markdown",
   "metadata": {},
   "source": [
    "# DESARROLLO DEL PROYECTO"
   ]
  },
  {
   "cell_type": "markdown",
   "metadata": {},
   "source": [
    "# 1) DEPENDENCIAS PARA RAG Y CONFIGURACIÓN DEL ENTORNO"
   ]
  },
  {
   "cell_type": "markdown",
   "metadata": {},
   "source": [
    "Inicialmente se realiza la configuración inicial del entorno para el sistema RAG. En él se instalan, mediante pip, las principales dependencias necesarias como LangChain, LlamaIndex, FAISS, Sentence-Transformers, Unstructured, PyPDF, gdown, accelerate y bitsandbytes, que permiten cargar documentos, generar embeddings, realizar búsquedas vectoriales y optimizar el uso de modelos de lenguaje en GPU. Posteriormente, se importan utilidades para la carga y segmentación de PDFs, se configura un directorio de caché en Kaggle para almacenar recursos de Hugging Face y se verifica la disponibilidad de GPU con torch, mostrando en consola el dispositivo utilizado. Con ello, el entorno queda preparado para el procesamiento y análisis de documentos en las etapas siguientes."
   ]
  },
  {
   "cell_type": "code",
   "execution_count": 1,
   "metadata": {
    "_cell_guid": "b1076dfc-b9ad-4769-8c92-a6c4dae69d19",
    "_uuid": "8f2839f25d086af736a60e9eeb907d3b93b6e0e5",
    "execution": {
     "iopub.execute_input": "2025-09-28T21:24:30.334935Z",
     "iopub.status.busy": "2025-09-28T21:24:30.334613Z",
     "iopub.status.idle": "2025-09-28T21:26:32.215151Z",
     "shell.execute_reply": "2025-09-28T21:26:32.214181Z",
     "shell.execute_reply.started": "2025-09-28T21:24:30.334909Z"
    },
    "trusted": true
   },
   "outputs": [
    {
     "name": "stdout",
     "output_type": "stream",
     "text": [
      "\u001b[2K     \u001b[90m━━━━━━━━━━━━━━━━━━━━━━━━━━━━━━━━━━━━━━\u001b[0m \u001b[32m981.5/981.5 kB\u001b[0m \u001b[31m27.2 MB/s\u001b[0m eta \u001b[36m0:00:00\u001b[0m00:01\u001b[0m\n",
      "\u001b[?25h  Preparing metadata (setup.py) ... \u001b[?25l\u001b[?25hdone\n",
      "\u001b[2K   \u001b[90m━━━━━━━━━━━━━━━━━━━━━━━━━━━━━━━━━━━━━━━━\u001b[0m \u001b[32m1.0/1.0 MB\u001b[0m \u001b[31m42.4 MB/s\u001b[0m eta \u001b[36m0:00:00\u001b[0m\n",
      "\u001b[2K   \u001b[90m━━━━━━━━━━━━━━━━━━━━━━━━━━━━━━━━━━━━━━━━\u001b[0m \u001b[32m2.5/2.5 MB\u001b[0m \u001b[31m64.0 MB/s\u001b[0m eta \u001b[36m0:00:00\u001b[0m:00:01\u001b[0m\n",
      "\u001b[2K   \u001b[90m━━━━━━━━━━━━━━━━━━━━━━━━━━━━━━━━━━━━━━━━\u001b[0m \u001b[32m31.4/31.4 MB\u001b[0m \u001b[31m56.7 MB/s\u001b[0m eta \u001b[36m0:00:00\u001b[0m:00:01\u001b[0m00:01\u001b[0m\n",
      "\u001b[2K   \u001b[90m━━━━━━━━━━━━━━━━━━━━━━━━━━━━━━━━━━━━━━━━\u001b[0m \u001b[32m486.6/486.6 kB\u001b[0m \u001b[31m25.8 MB/s\u001b[0m eta \u001b[36m0:00:00\u001b[0m\n",
      "\u001b[2K   \u001b[90m━━━━━━━━━━━━━━━━━━━━━━━━━━━━━━━━━━━━━━━━\u001b[0m \u001b[32m1.8/1.8 MB\u001b[0m \u001b[31m57.1 MB/s\u001b[0m eta \u001b[36m0:00:00\u001b[0m\n",
      "\u001b[2K   \u001b[90m━━━━━━━━━━━━━━━━━━━━━━━━━━━━━━━━━━━━━━━━\u001b[0m \u001b[32m323.5/323.5 kB\u001b[0m \u001b[31m17.7 MB/s\u001b[0m eta \u001b[36m0:00:00\u001b[0m\n",
      "\u001b[2K   \u001b[90m━━━━━━━━━━━━━━━━━━━━━━━━━━━━━━━━━━━━━━━━\u001b[0m \u001b[32m374.9/374.9 kB\u001b[0m \u001b[31m19.9 MB/s\u001b[0m eta \u001b[36m0:00:00\u001b[0m\n",
      "\u001b[2K   \u001b[90m━━━━━━━━━━━━━━━━━━━━━━━━━━━━━━━━━━━━━━━━\u001b[0m \u001b[32m61.3/61.3 MB\u001b[0m \u001b[31m28.0 MB/s\u001b[0m eta \u001b[36m0:00:00\u001b[0m:00:01\u001b[0m00:01\u001b[0m\n",
      "\u001b[2K   \u001b[90m━━━━━━━━━━━━━━━━━━━━━━━━━━━━━━━━━━━━━━━━\u001b[0m \u001b[32m447.5/447.5 kB\u001b[0m \u001b[31m24.6 MB/s\u001b[0m eta \u001b[36m0:00:00\u001b[0m\n",
      "\u001b[2K   \u001b[90m━━━━━━━━━━━━━━━━━━━━━━━━━━━━━━━━━━━━━━━━\u001b[0m \u001b[32m11.9/11.9 MB\u001b[0m \u001b[31m67.7 MB/s\u001b[0m eta \u001b[36m0:00:00\u001b[0m:00:01\u001b[0m:01\u001b[0m\n",
      "\u001b[2K   \u001b[90m━━━━━━━━━━━━━━━━━━━━━━━━━━━━━━━━━━━━━━━━\u001b[0m \u001b[32m303.3/303.3 kB\u001b[0m \u001b[31m14.9 MB/s\u001b[0m eta \u001b[36m0:00:00\u001b[0m\n",
      "\u001b[2K   \u001b[90m━━━━━━━━━━━━━━━━━━━━━━━━━━━━━━━━━━━━━━━━\u001b[0m \u001b[32m51.8/51.8 kB\u001b[0m \u001b[31m3.0 MB/s\u001b[0m eta \u001b[36m0:00:00\u001b[0m\n",
      "\u001b[2K   \u001b[90m━━━━━━━━━━━━━━━━━━━━━━━━━━━━━━━━━━━━━━━━\u001b[0m \u001b[32m48.6/48.6 kB\u001b[0m \u001b[31m2.6 MB/s\u001b[0m eta \u001b[36m0:00:00\u001b[0m\n",
      "\u001b[2K   \u001b[90m━━━━━━━━━━━━━━━━━━━━━━━━━━━━━━━━━━━━━━━━\u001b[0m \u001b[32m64.7/64.7 kB\u001b[0m \u001b[31m3.9 MB/s\u001b[0m eta \u001b[36m0:00:00\u001b[0m\n",
      "\u001b[2K   \u001b[90m━━━━━━━━━━━━━━━━━━━━━━━━━━━━━━━━━━━━━━━━\u001b[0m \u001b[32m363.4/363.4 MB\u001b[0m \u001b[31m4.5 MB/s\u001b[0m eta \u001b[36m0:00:00\u001b[0m:00:01\u001b[0m00:01\u001b[0m\n",
      "\u001b[2K   \u001b[90m━━━━━━━━━━━━━━━━━━━━━━━━━━━━━━━━━━━━━━━━\u001b[0m \u001b[32m13.8/13.8 MB\u001b[0m \u001b[31m98.0 MB/s\u001b[0m eta \u001b[36m0:00:00\u001b[0m:00:01\u001b[0m0:01\u001b[0m\n",
      "\u001b[2K   \u001b[90m━━━━━━━━━━━━━━━━━━━━━━━━━━━━━━━━━━━━━━━━\u001b[0m \u001b[32m24.6/24.6 MB\u001b[0m \u001b[31m76.6 MB/s\u001b[0m eta \u001b[36m0:00:00\u001b[0m:00:01\u001b[0m00:01\u001b[0m\n",
      "\u001b[2K   \u001b[90m━━━━━━━━━━━━━━━━━━━━━━━━━━━━━━━━━━━━━━━━\u001b[0m \u001b[32m883.7/883.7 kB\u001b[0m \u001b[31m44.6 MB/s\u001b[0m eta \u001b[36m0:00:00\u001b[0m\n",
      "\u001b[2K   \u001b[90m━━━━━━━━━━━━━━━━━━━━━━━━━━━━━━━━━━━━━━━━\u001b[0m \u001b[32m664.8/664.8 MB\u001b[0m \u001b[31m2.6 MB/s\u001b[0m eta \u001b[36m0:00:00\u001b[0m:00:01\u001b[0m00:01\u001b[0m\n",
      "\u001b[2K   \u001b[90m━━━━━━━━━━━━━━━━━━━━━━━━━━━━━━━━━━━━━━━━\u001b[0m \u001b[32m211.5/211.5 MB\u001b[0m \u001b[31m1.8 MB/s\u001b[0m eta \u001b[36m0:00:00\u001b[0m:00:01\u001b[0m00:01\u001b[0m\n",
      "\u001b[2K   \u001b[90m━━━━━━━━━━━━━━━━━━━━━━━━━━━━━━━━━━━━━━━━\u001b[0m \u001b[32m56.3/56.3 MB\u001b[0m \u001b[31m30.6 MB/s\u001b[0m eta \u001b[36m0:00:00\u001b[0m:00:01\u001b[0m00:01\u001b[0m\n",
      "\u001b[2K   \u001b[90m━━━━━━━━━━━━━━━━━━━━━━━━━━━━━━━━━━━━━━━━\u001b[0m \u001b[32m127.9/127.9 MB\u001b[0m \u001b[31m13.5 MB/s\u001b[0m eta \u001b[36m0:00:00\u001b[0m00:01\u001b[0m00:01\u001b[0m\n",
      "\u001b[2K   \u001b[90m━━━━━━━━━━━━━━━━━━━━━━━━━━━━━━━━━━━━━━━━\u001b[0m \u001b[32m207.5/207.5 MB\u001b[0m \u001b[31m8.1 MB/s\u001b[0m eta \u001b[36m0:00:00\u001b[0m:00:01\u001b[0m00:01\u001b[0m\n",
      "\u001b[2K   \u001b[90m━━━━━━━━━━━━━━━━━━━━━━━━━━━━━━━━━━━━━━━━\u001b[0m \u001b[32m21.1/21.1 MB\u001b[0m \u001b[31m26.9 MB/s\u001b[0m eta \u001b[36m0:00:00\u001b[0m00:01\u001b[0m00:01\u001b[0mm\n",
      "\u001b[2K   \u001b[90m━━━━━━━━━━━━━━━━━━━━━━━━━━━━━━━━━━━━━━━━\u001b[0m \u001b[32m167.6/167.6 kB\u001b[0m \u001b[31m10.8 MB/s\u001b[0m eta \u001b[36m0:00:00\u001b[0m\n",
      "\u001b[2K   \u001b[90m━━━━━━━━━━━━━━━━━━━━━━━━━━━━━━━━━━━━━━━━\u001b[0m \u001b[32m3.2/3.2 MB\u001b[0m \u001b[31m87.0 MB/s\u001b[0m eta \u001b[36m0:00:00\u001b[0m:00:01\u001b[0m\n",
      "\u001b[2K   \u001b[90m━━━━━━━━━━━━━━━━━━━━━━━━━━━━━━━━━━━━━━━━\u001b[0m \u001b[32m207.8/207.8 kB\u001b[0m \u001b[31m12.4 MB/s\u001b[0m eta \u001b[36m0:00:00\u001b[0m\n",
      "\u001b[2K   \u001b[90m━━━━━━━━━━━━━━━━━━━━━━━━━━━━━━━━━━━━━━━━\u001b[0m \u001b[32m54.1/54.1 kB\u001b[0m \u001b[31m3.5 MB/s\u001b[0m eta \u001b[36m0:00:00\u001b[0m\n",
      "\u001b[2K   \u001b[90m━━━━━━━━━━━━━━━━━━━━━━━━━━━━━━━━━━━━━━━━\u001b[0m \u001b[32m63.9/63.9 kB\u001b[0m \u001b[31m4.3 MB/s\u001b[0m eta \u001b[36m0:00:00\u001b[0m\n",
      "\u001b[2K   \u001b[90m━━━━━━━━━━━━━━━━━━━━━━━━━━━━━━━━━━━━━━━━\u001b[0m \u001b[32m1.2/1.2 MB\u001b[0m \u001b[31m53.7 MB/s\u001b[0m eta \u001b[36m0:00:00\u001b[0m\n",
      "\u001b[2K   \u001b[90m━━━━━━━━━━━━━━━━━━━━━━━━━━━━━━━━━━━━━━━━\u001b[0m \u001b[32m144.4/144.4 kB\u001b[0m \u001b[31m7.2 MB/s\u001b[0m eta \u001b[36m0:00:00\u001b[0m\n",
      "\u001b[?25h  Building wheel for langdetect (setup.py) ... \u001b[?25l\u001b[?25hdone\n",
      "\n",
      "Ejecutando en: cuda\n",
      "GPU: Tesla P100-PCIE-16GB\n"
     ]
    }
   ],
   "source": [
    "import os, warnings\n",
    "\n",
    "# Instalación optimizada de librerías\n",
    "!pip install --quiet --no-warn-conflicts \\\n",
    "    langchain langchain-community llama-index \\\n",
    "    faiss-cpu sentence-transformers unstructured \\\n",
    "    pypdf gdown accelerate bitsandbytes -U\n",
    "\n",
    "# Imports base\n",
    "from langchain_community.document_loaders import PyPDFLoader\n",
    "from langchain.text_splitter import RecursiveCharacterTextSplitter\n",
    "warnings.filterwarnings(\"ignore\")\n",
    "\n",
    "# Configuración de caché en Kaggle\n",
    "cache_dir = \"/kaggle/working/hf_cache\"\n",
    "os.makedirs(cache_dir, exist_ok=True)\n",
    "os.environ[\"HF_HOME\"] = cache_dir\n",
    "\n",
    "# Verificar GPU\n",
    "import torch\n",
    "device = \"cuda\" if torch.cuda.is_available() else \"cpu\"\n",
    "print(\"\\nEjecutando en:\", device)\n",
    "if device == \"cuda\":\n",
    "    print(\"GPU:\", torch.cuda.get_device_name(0))\n"
   ]
  },
  {
   "cell_type": "markdown",
   "metadata": {},
   "source": [
    "Posteriormente se realiza la descarga y verificación de los datos desde Google Drive. Primero, define la URL de la carpeta compartida y la ruta local donde se almacenarán los archivos (/kaggle/working/my_drive_data). Luego, valida si esa ruta ya contiene información; en caso contrario, utiliza la librería gdown para descargar todos los documentos directamente desde Google Drive. Si los datos ya están presentes, se evita la descarga redundante y se notifica en consola que no es necesario repetir el proceso. Finalmente, el bloque recorre el directorio base y lista en pantalla los archivos encontrados, lo que permite confirmar que los documentos se cargaron correctamente y están disponibles para el procesamiento posterior."
   ]
  },
  {
   "cell_type": "markdown",
   "metadata": {},
   "source": [
    "# 2) DESCARGAR DATOS DE GOOGLE DRIVE (si no están ya)"
   ]
  },
  {
   "cell_type": "code",
   "execution_count": 2,
   "metadata": {
    "execution": {
     "iopub.execute_input": "2025-09-28T21:26:32.217707Z",
     "iopub.status.busy": "2025-09-28T21:26:32.216732Z",
     "iopub.status.idle": "2025-09-28T21:27:50.801534Z",
     "shell.execute_reply": "2025-09-28T21:27:50.800503Z",
     "shell.execute_reply.started": "2025-09-28T21:26:32.217671Z"
    },
    "trusted": true
   },
   "outputs": [
    {
     "name": "stdout",
     "output_type": "stream",
     "text": [
      "📥 Descargando datos desde Google Drive...\n",
      "\n",
      "Retrieving folder contents\n",
      "Processing file 152nzbNxDaAaXarJC5GGFFFYv2Aw6J-W2 corc-cvc-uv_analisis_crecientes_historicas.pdf\n",
      "Processing file 1eBvj6TQQJrwCLqFgpUc_ALLcOrSvaGrw Corredor rio cauca_2-1-cartilla.pdf\n",
      "Processing file 1IwIVi_S-g2nHddTZyom9LdEzBEAgoaLY Corredor rio cauca_4-2-cartilla.pdf\n",
      "Processing file 1wMzLM-d1jzWDI-0LjwvDsZyVcQnrgwnj Corredor rio cauca_4-3-cartilla.pdf\n",
      "Processing file 1D7rtzIrfR5XEtLZOPsi2FW6j5MA-w_p- Diagnóstico Ambiental Parte 2 Gestion del Riesgo 2025.pdf\n",
      "Processing file 1PVQWKX3bjTiEmQGgW2YQDMGyz8DHjXbL Diagnostico Dimensión Ambiental 2023.pdf\n",
      "Processing file 1-PbWh-CoVodipe_uAf8YcfKK8g9FXEBG DOCUMENTO TECNICO DE SOPORTE FORMULACION POT2023.pdf\n",
      "Processing file 1627uG4zk1UMkrZfJmQ_2egAR_RtvQBQM guia_localizacion_y_diseno_obras.pdf\n",
      "Processing file 12NJ1CO_LjiDiejyKDlIrkUBvWfgDTUhn plan_de_man_integ_pmin_-_publicacion_noviembre_3.pdf\n",
      "Processing file 1sKgtCKKtrEbrdzHSchw5dg74hntuEZwJ planteamiento_alternativas_estructurales.pdf\n",
      "Processing file 1T4E5BX5vDM7ODBul2ZVFqeKOAMGTDzzR Proyecto Acuerdo 2023.pdf\n",
      "Retrieving folder contents completed\n",
      "Building directory structure\n",
      "Building directory structure completed\n",
      "Downloading...\n",
      "From: https://drive.google.com/uc?id=152nzbNxDaAaXarJC5GGFFFYv2Aw6J-W2\n",
      "To: /kaggle/working/my_drive_data/corc-cvc-uv_analisis_crecientes_historicas.pdf\n",
      "100%|██████████████████████████████████████| 29.7M/29.7M [00:01<00:00, 26.8MB/s]\n",
      "Downloading...\n",
      "From: https://drive.google.com/uc?id=1eBvj6TQQJrwCLqFgpUc_ALLcOrSvaGrw\n",
      "To: /kaggle/working/my_drive_data/Corredor rio cauca_2-1-cartilla.pdf\n",
      "100%|██████████████████████████████████████| 33.2M/33.2M [00:00<00:00, 53.2MB/s]\n",
      "Downloading...\n",
      "From: https://drive.google.com/uc?id=1IwIVi_S-g2nHddTZyom9LdEzBEAgoaLY\n",
      "To: /kaggle/working/my_drive_data/Corredor rio cauca_4-2-cartilla.pdf\n",
      "100%|██████████████████████████████████████| 15.5M/15.5M [00:00<00:00, 59.0MB/s]\n",
      "Downloading...\n",
      "From: https://drive.google.com/uc?id=1wMzLM-d1jzWDI-0LjwvDsZyVcQnrgwnj\n",
      "To: /kaggle/working/my_drive_data/Corredor rio cauca_4-3-cartilla.pdf\n",
      "100%|██████████████████████████████████████| 12.8M/12.8M [00:00<00:00, 57.6MB/s]\n",
      "Downloading...\n",
      "From: https://drive.google.com/uc?id=1D7rtzIrfR5XEtLZOPsi2FW6j5MA-w_p-\n",
      "To: /kaggle/working/my_drive_data/Diagnóstico Ambiental Parte 2 Gestion del Riesgo 2025.pdf\n",
      "100%|██████████████████████████████████████| 54.1M/54.1M [00:00<00:00, 75.2MB/s]\n",
      "Downloading...\n",
      "From: https://drive.google.com/uc?id=1PVQWKX3bjTiEmQGgW2YQDMGyz8DHjXbL\n",
      "To: /kaggle/working/my_drive_data/Diagnostico Dimensión Ambiental 2023.pdf\n",
      "100%|██████████████████████████████████████| 13.3M/13.3M [00:00<00:00, 39.3MB/s]\n",
      "Downloading...\n",
      "From: https://drive.google.com/uc?id=1-PbWh-CoVodipe_uAf8YcfKK8g9FXEBG\n",
      "To: /kaggle/working/my_drive_data/DOCUMENTO TECNICO DE SOPORTE FORMULACION POT2023.pdf\n",
      "100%|██████████████████████████████████████| 46.5M/46.5M [00:01<00:00, 31.4MB/s]\n",
      "Downloading...\n",
      "From: https://drive.google.com/uc?id=1627uG4zk1UMkrZfJmQ_2egAR_RtvQBQM\n",
      "To: /kaggle/working/my_drive_data/guia_localizacion_y_diseno_obras.pdf\n",
      "100%|██████████████████████████████████████| 6.06M/6.06M [00:00<00:00, 35.9MB/s]\n",
      "Downloading...\n",
      "From: https://drive.google.com/uc?id=12NJ1CO_LjiDiejyKDlIrkUBvWfgDTUhn\n",
      "To: /kaggle/working/my_drive_data/plan_de_man_integ_pmin_-_publicacion_noviembre_3.pdf\n",
      "100%|██████████████████████████████████████| 4.31M/4.31M [00:00<00:00, 37.3MB/s]\n",
      "Downloading...\n",
      "From: https://drive.google.com/uc?id=1sKgtCKKtrEbrdzHSchw5dg74hntuEZwJ\n",
      "To: /kaggle/working/my_drive_data/planteamiento_alternativas_estructurales.pdf\n",
      "100%|██████████████████████████████████████| 29.5M/29.5M [00:00<00:00, 84.2MB/s]\n",
      "Downloading...\n",
      "From: https://drive.google.com/uc?id=1T4E5BX5vDM7ODBul2ZVFqeKOAMGTDzzR\n",
      "To: /kaggle/working/my_drive_data/Proyecto Acuerdo 2023.pdf\n",
      "100%|██████████████████████████████████████| 5.72M/5.72M [00:00<00:00, 31.2MB/s]\n",
      "Download completed\n",
      "/kaggle/working/my_drive_data/Diagnostico Dimensión Ambiental 2023.pdf\n",
      "/kaggle/working/my_drive_data/Corredor rio cauca_4-2-cartilla.pdf\n",
      "/kaggle/working/my_drive_data/planteamiento_alternativas_estructurales.pdf\n",
      "/kaggle/working/my_drive_data/plan_de_man_integ_pmin_-_publicacion_noviembre_3.pdf\n",
      "/kaggle/working/my_drive_data/corc-cvc-uv_analisis_crecientes_historicas.pdf\n",
      "/kaggle/working/my_drive_data/guia_localizacion_y_diseno_obras.pdf\n",
      "/kaggle/working/my_drive_data/Corredor rio cauca_4-3-cartilla.pdf\n",
      "/kaggle/working/my_drive_data/DOCUMENTO TECNICO DE SOPORTE FORMULACION POT2023.pdf\n",
      "/kaggle/working/my_drive_data/Diagnóstico Ambiental Parte 2 Gestion del Riesgo 2025.pdf\n",
      "/kaggle/working/my_drive_data/Corredor rio cauca_2-1-cartilla.pdf\n",
      "/kaggle/working/my_drive_data/Proyecto Acuerdo 2023.pdf\n"
     ]
    }
   ],
   "source": [
    "drive_url = \"https://drive.google.com/drive/folders/17mMkNiRXRv9E-ziybtXxTuCQL0nGrX4E?usp=sharing\"\n",
    "base_path = \"/kaggle/working/my_drive_data\"\n",
    "\n",
    "if not os.path.exists(base_path) or not any(os.scandir(base_path)):\n",
    "    print(\"📥 Descargando datos desde Google Drive...\\n\")\n",
    "    !gdown --folder \"{drive_url}\" -O {base_path} --remaining-ok\n",
    "else:\n",
    "    print(\"✅ Datos ya descargados. No se necesita volver a bajar.\")\n",
    "\n",
    "# Listar archivos encontrados\n",
    "for root, dirs, files in os.walk(base_path):\n",
    "    for f in files:\n",
    "        print(os.path.join(root, f))\n",
    "\n"
   ]
  },
  {
   "cell_type": "markdown",
   "metadata": {},
   "source": [
    "Aqui se realiza la carga y segmentación de los archivos PDF descargados. Para ello, recorre de manera recursiva la carpeta local y utiliza PyPDFLoader para leer cada documento en formato PDF, acumulando todas las páginas en la lista all_docs. Una vez cargados, se imprime en consola el número total de instancias procesadas. Posteriormente, se aplica un proceso de fragmentación de texto (chunking) mediante RecursiveCharacterTextSplitter, dividiendo los documentos en bloques de 300 caracteres con un solapamiento de 50, lo que asegura que la información mantenga coherencia contextual. Finalmente, se muestran dos métricas clave: la cantidad total de páginas leídas y el número de fragmentos generados, garantizando que los textos están listos para su vectorización en la etapa de creación de embeddings."
   ]
  },
  {
   "cell_type": "markdown",
   "metadata": {},
   "source": [
    "# 3) CARGAR Y DIVIDIR PDFs"
   ]
  },
  {
   "cell_type": "code",
   "execution_count": 3,
   "metadata": {
    "execution": {
     "iopub.execute_input": "2025-09-28T21:27:50.803489Z",
     "iopub.status.busy": "2025-09-28T21:27:50.802855Z",
     "iopub.status.idle": "2025-09-28T21:32:34.377088Z",
     "shell.execute_reply": "2025-09-28T21:32:34.376214Z",
     "shell.execute_reply.started": "2025-09-28T21:27:50.803457Z"
    },
    "trusted": true
   },
   "outputs": [
    {
     "name": "stdout",
     "output_type": "stream",
     "text": [
      "Total de documentos leídos (instancias): 3490\n",
      "✅ PDFs cargados: 3490 páginas\n",
      "✅ Total de chunks: 29965\n"
     ]
    }
   ],
   "source": [
    "all_docs = []\n",
    "for root, dirs, files in os.walk(base_path):  # recursivo\n",
    "    for file in files:\n",
    "        if file.endswith(\".pdf\"):\n",
    "            loader = PyPDFLoader(os.path.join(root, file))\n",
    "            docs = loader.load()\n",
    "            all_docs.extend(docs)\n",
    "\n",
    "print(\"Total de documentos leídos (instancias):\", len(all_docs))\n",
    "\n",
    "# Chunking\n",
    "text_splitter = RecursiveCharacterTextSplitter(chunk_size=300, chunk_overlap=50)\n",
    "chunks = text_splitter.split_documents(all_docs)\n",
    "\n",
    "print(f\"✅ PDFs cargados: {len(all_docs)} páginas\")\n",
    "print(f\"✅ Total de chunks: {len(chunks)}\")\n"
   ]
  },
  {
   "cell_type": "markdown",
   "metadata": {},
   "source": [
    "# 4) CREAR EMBEDDINGS MULTILINGÜES"
   ]
  },
  {
   "cell_type": "markdown",
   "metadata": {},
   "source": [
    "A continuacionse lleva a cabo la creación de embeddings multilingües y la construcción de la base vectorial. En primer lugar, se inicializa un modelo de Sentence-Transformers compatible con español e inglés; por defecto se utiliza all-mpnet-base-v2, que ofrece mayor robustez y capacidad semántica, aunque también se deja la opción de emplear un modelo más ligero como paraphrase-multilingual-MiniLM-L12-v2 en caso de limitaciones de hardware.  Con este modelo se generan embeddings a partir de los fragmentos de texto (chunks) previamente obtenidos, y se almacenan en un índice vectorial gestionado por FAISS, el cual permite realizar búsquedas rápidas y eficientes basadas en similitud semántica. Finalmente, se guarda localmente la base vectorial en la ruta /kaggle/working/vectorstore, asegurando que pueda ser reutilizada en consultas posteriores sin necesidad de recalcular embeddings."
   ]
  },
  {
   "cell_type": "code",
   "execution_count": 4,
   "metadata": {
    "execution": {
     "iopub.execute_input": "2025-09-28T21:32:34.379222Z",
     "iopub.status.busy": "2025-09-28T21:32:34.378826Z",
     "iopub.status.idle": "2025-09-28T21:35:32.831352Z",
     "shell.execute_reply": "2025-09-28T21:35:32.830538Z",
     "shell.execute_reply.started": "2025-09-28T21:32:34.379202Z"
    },
    "trusted": true
   },
   "outputs": [
    {
     "name": "stderr",
     "output_type": "stream",
     "text": [
      "2025-09-28 21:32:44.935398: E external/local_xla/xla/stream_executor/cuda/cuda_fft.cc:477] Unable to register cuFFT factory: Attempting to register factory for plugin cuFFT when one has already been registered\n",
      "WARNING: All log messages before absl::InitializeLog() is called are written to STDERR\n",
      "E0000 00:00:1759095165.187283      71 cuda_dnn.cc:8310] Unable to register cuDNN factory: Attempting to register factory for plugin cuDNN when one has already been registered\n",
      "E0000 00:00:1759095165.264938      71 cuda_blas.cc:1418] Unable to register cuBLAS factory: Attempting to register factory for plugin cuBLAS when one has already been registered\n"
     ]
    },
    {
     "data": {
      "application/vnd.jupyter.widget-view+json": {
       "model_id": "a3630a0333874fb0bb71347d0fd7073f",
       "version_major": 2,
       "version_minor": 0
      },
      "text/plain": [
       "modules.json:   0%|          | 0.00/349 [00:00<?, ?B/s]"
      ]
     },
     "metadata": {},
     "output_type": "display_data"
    },
    {
     "data": {
      "application/vnd.jupyter.widget-view+json": {
       "model_id": "559111a739e44e1289e957329970cb76",
       "version_major": 2,
       "version_minor": 0
      },
      "text/plain": [
       "config_sentence_transformers.json:   0%|          | 0.00/116 [00:00<?, ?B/s]"
      ]
     },
     "metadata": {},
     "output_type": "display_data"
    },
    {
     "data": {
      "application/vnd.jupyter.widget-view+json": {
       "model_id": "6459a7b5124d4ec9abf83f49f84776ef",
       "version_major": 2,
       "version_minor": 0
      },
      "text/plain": [
       "README.md: 0.00B [00:00, ?B/s]"
      ]
     },
     "metadata": {},
     "output_type": "display_data"
    },
    {
     "data": {
      "application/vnd.jupyter.widget-view+json": {
       "model_id": "87978a0c1e3f4315aa129158687d2e24",
       "version_major": 2,
       "version_minor": 0
      },
      "text/plain": [
       "sentence_bert_config.json:   0%|          | 0.00/53.0 [00:00<?, ?B/s]"
      ]
     },
     "metadata": {},
     "output_type": "display_data"
    },
    {
     "data": {
      "application/vnd.jupyter.widget-view+json": {
       "model_id": "72d58a59fee34299847bcce490edb5d5",
       "version_major": 2,
       "version_minor": 0
      },
      "text/plain": [
       "config.json:   0%|          | 0.00/571 [00:00<?, ?B/s]"
      ]
     },
     "metadata": {},
     "output_type": "display_data"
    },
    {
     "data": {
      "application/vnd.jupyter.widget-view+json": {
       "model_id": "0a88120de04649cda3095bedf03f7f56",
       "version_major": 2,
       "version_minor": 0
      },
      "text/plain": [
       "model.safetensors:   0%|          | 0.00/438M [00:00<?, ?B/s]"
      ]
     },
     "metadata": {},
     "output_type": "display_data"
    },
    {
     "data": {
      "application/vnd.jupyter.widget-view+json": {
       "model_id": "1c537c14b6d4472fa7362f59e83026c9",
       "version_major": 2,
       "version_minor": 0
      },
      "text/plain": [
       "tokenizer_config.json:   0%|          | 0.00/363 [00:00<?, ?B/s]"
      ]
     },
     "metadata": {},
     "output_type": "display_data"
    },
    {
     "data": {
      "application/vnd.jupyter.widget-view+json": {
       "model_id": "eb0c5c04d6854dab80bc8eee418fb406",
       "version_major": 2,
       "version_minor": 0
      },
      "text/plain": [
       "vocab.txt: 0.00B [00:00, ?B/s]"
      ]
     },
     "metadata": {},
     "output_type": "display_data"
    },
    {
     "data": {
      "application/vnd.jupyter.widget-view+json": {
       "model_id": "89767696ed564c72b00978d44f30b042",
       "version_major": 2,
       "version_minor": 0
      },
      "text/plain": [
       "tokenizer.json: 0.00B [00:00, ?B/s]"
      ]
     },
     "metadata": {},
     "output_type": "display_data"
    },
    {
     "data": {
      "application/vnd.jupyter.widget-view+json": {
       "model_id": "9a18bfd7393b4852b1bc6e6fcfc974c2",
       "version_major": 2,
       "version_minor": 0
      },
      "text/plain": [
       "special_tokens_map.json:   0%|          | 0.00/239 [00:00<?, ?B/s]"
      ]
     },
     "metadata": {},
     "output_type": "display_data"
    },
    {
     "data": {
      "application/vnd.jupyter.widget-view+json": {
       "model_id": "e0cbc154025d4a1eb28641df15962432",
       "version_major": 2,
       "version_minor": 0
      },
      "text/plain": [
       "config.json:   0%|          | 0.00/190 [00:00<?, ?B/s]"
      ]
     },
     "metadata": {},
     "output_type": "display_data"
    },
    {
     "name": "stdout",
     "output_type": "stream",
     "text": [
      "✅ Vectorstore creado y guardado en /kaggle/working/vectorstore\n"
     ]
    }
   ],
   "source": [
    "from langchain_community.embeddings import HuggingFaceEmbeddings\n",
    "from langchain_community.vectorstores import FAISS\n",
    "\n",
    "# Modelo ligero para español\n",
    "#embeddings = HuggingFaceEmbeddings(model_name=\"sentence-transformers/paraphrase-multilingual-MiniLM-L12-v2\")\n",
    "\n",
    "# (Opcional) cambiar por uno más robusto si la GPU lo permite:\n",
    "embeddings = HuggingFaceEmbeddings(model_name=\"sentence-transformers/all-mpnet-base-v2\")\n",
    "\n",
    "# Crear y guardar vectorstore\n",
    "db = FAISS.from_documents(chunks, embeddings)\n",
    "db.save_local(\"/kaggle/working/vectorstore\")\n",
    "\n",
    "print(\"✅ Vectorstore creado y guardado en /kaggle/working/vectorstore\")\n",
    "\n",
    "\n"
   ]
  },
  {
   "cell_type": "markdown",
   "metadata": {},
   "source": [
    "# 5) CARGAR MISTRAL 7B EN 8-BIT CON BitsAndBytesConfig"
   ]
  },
  {
   "cell_type": "markdown",
   "metadata": {},
   "source": [
    "Se lleva a cabo la carga del modelo de lenguaje Mistral 7B optimizado con cuantización en baja precisión para reducir el consumo de memoria y facilitar su ejecución en GPU de recursos limitados. Para ello, se utiliza la clase BitsAndBytesConfig, que permite configurar la cuantización en 8-bit o 4-bit; en este caso, se selecciona la opción de 4-bit con NF4 y doble cuantización, lo que mejora la eficiencia sin comprometer de manera significativa la calidad del modelo.\n",
    "\n",
    "Se establece el token de autenticación de Hugging Face requerido para acceder al modelo mistralai/Mistral-7B-Instruct-v0.2. Luego, se inicializan tanto el tokenizador (AutoTokenizer) como el modelo de lenguaje (AutoModelForCausalLM) con los parámetros de cuantización definidos, distribuyendo automáticamente la carga en el dispositivo disponible mediante device_map=\"auto\". Finalmente, se imprime un mensaje de confirmación que indica que el modelo fue cargado exitosamente en modo reducido de precisión, listo para integrarse en el pipeline de generación de texto con recuperación aumentada (RAG)."
   ]
  },
  {
   "cell_type": "code",
   "execution_count": null,
   "metadata": {
    "execution": {
     "iopub.execute_input": "2025-09-28T21:35:32.832469Z",
     "iopub.status.busy": "2025-09-28T21:35:32.832217Z",
     "iopub.status.idle": "2025-09-28T21:38:28.943288Z",
     "shell.execute_reply": "2025-09-28T21:38:28.942611Z",
     "shell.execute_reply.started": "2025-09-28T21:35:32.832431Z"
    },
    "trusted": true
   },
   "outputs": [
    {
     "data": {
      "application/vnd.jupyter.widget-view+json": {
       "model_id": "1b849ad26d2646dfb6940dc08b015dc6",
       "version_major": 2,
       "version_minor": 0
      },
      "text/plain": [
       "tokenizer_config.json:   0%|          | 0.00/2.10k [00:00<?, ?B/s]"
      ]
     },
     "metadata": {},
     "output_type": "display_data"
    },
    {
     "data": {
      "application/vnd.jupyter.widget-view+json": {
       "model_id": "d6ae5403026143c5843d0efd51827888",
       "version_major": 2,
       "version_minor": 0
      },
      "text/plain": [
       "tokenizer.model:   0%|          | 0.00/493k [00:00<?, ?B/s]"
      ]
     },
     "metadata": {},
     "output_type": "display_data"
    },
    {
     "data": {
      "application/vnd.jupyter.widget-view+json": {
       "model_id": "6c48987300f0497eb2ac18fed57a8fce",
       "version_major": 2,
       "version_minor": 0
      },
      "text/plain": [
       "tokenizer.json:   0%|          | 0.00/1.80M [00:00<?, ?B/s]"
      ]
     },
     "metadata": {},
     "output_type": "display_data"
    },
    {
     "data": {
      "application/vnd.jupyter.widget-view+json": {
       "model_id": "3b0c8f54c75a493c915633049339d5c2",
       "version_major": 2,
       "version_minor": 0
      },
      "text/plain": [
       "special_tokens_map.json:   0%|          | 0.00/414 [00:00<?, ?B/s]"
      ]
     },
     "metadata": {},
     "output_type": "display_data"
    },
    {
     "data": {
      "application/vnd.jupyter.widget-view+json": {
       "model_id": "c0308ee9593b4447bda48bede8b53fc2",
       "version_major": 2,
       "version_minor": 0
      },
      "text/plain": [
       "config.json:   0%|          | 0.00/596 [00:00<?, ?B/s]"
      ]
     },
     "metadata": {},
     "output_type": "display_data"
    },
    {
     "data": {
      "application/vnd.jupyter.widget-view+json": {
       "model_id": "0e52de80647e4f1ba5f4c7496a1ed612",
       "version_major": 2,
       "version_minor": 0
      },
      "text/plain": [
       "model.safetensors.index.json:   0%|          | 0.00/25.1k [00:00<?, ?B/s]"
      ]
     },
     "metadata": {},
     "output_type": "display_data"
    },
    {
     "data": {
      "application/vnd.jupyter.widget-view+json": {
       "model_id": "0398d8fa4ebe4b8c81c92afedc0c0519",
       "version_major": 2,
       "version_minor": 0
      },
      "text/plain": [
       "Fetching 3 files:   0%|          | 0/3 [00:00<?, ?it/s]"
      ]
     },
     "metadata": {},
     "output_type": "display_data"
    },
    {
     "data": {
      "application/vnd.jupyter.widget-view+json": {
       "model_id": "6c10aaac0b384c8195c7df322efe184e",
       "version_major": 2,
       "version_minor": 0
      },
      "text/plain": [
       "model-00001-of-00003.safetensors:   0%|          | 0.00/4.94G [00:00<?, ?B/s]"
      ]
     },
     "metadata": {},
     "output_type": "display_data"
    },
    {
     "data": {
      "application/vnd.jupyter.widget-view+json": {
       "model_id": "6ec56e3c5e09431c96aee7b5c5ed7428",
       "version_major": 2,
       "version_minor": 0
      },
      "text/plain": [
       "model-00002-of-00003.safetensors:   0%|          | 0.00/5.00G [00:00<?, ?B/s]"
      ]
     },
     "metadata": {},
     "output_type": "display_data"
    },
    {
     "data": {
      "application/vnd.jupyter.widget-view+json": {
       "model_id": "0dfb5609081d482ca730b08a6f851578",
       "version_major": 2,
       "version_minor": 0
      },
      "text/plain": [
       "model-00003-of-00003.safetensors:   0%|          | 0.00/4.54G [00:00<?, ?B/s]"
      ]
     },
     "metadata": {},
     "output_type": "display_data"
    },
    {
     "data": {
      "application/vnd.jupyter.widget-view+json": {
       "model_id": "cf41079c750049fb927ad024a32a45af",
       "version_major": 2,
       "version_minor": 0
      },
      "text/plain": [
       "Loading checkpoint shards:   0%|          | 0/3 [00:00<?, ?it/s]"
      ]
     },
     "metadata": {},
     "output_type": "display_data"
    },
    {
     "data": {
      "application/vnd.jupyter.widget-view+json": {
       "model_id": "1699bd805a764db89d3dd0dc02521e1a",
       "version_major": 2,
       "version_minor": 0
      },
      "text/plain": [
       "generation_config.json:   0%|          | 0.00/111 [00:00<?, ?B/s]"
      ]
     },
     "metadata": {},
     "output_type": "display_data"
    },
    {
     "name": "stdout",
     "output_type": "stream",
     "text": [
      "✅ Mistral 7B cargado en 8-bit\n"
     ]
    }
   ],
   "source": [
    "from transformers import AutoTokenizer, AutoModelForCausalLM, BitsAndBytesConfig\n",
    "\n",
    "model_name = \"mistralai/Mistral-7B-Instruct-v0.2\"\n",
    "\n",
    "'''\n",
    "bnb_config = BitsAndBytesConfig(\n",
    "    load_in_8bit=True,\n",
    "    llm_int8_threshold=6.0\n",
    ")\n",
    "'''\n",
    "# Mas pequeño\n",
    "bnb_config = BitsAndBytesConfig(\n",
    "    load_in_4bit=True,\n",
    "    bnb_4bit_quant_type=\"nf4\",\n",
    "    bnb_4bit_use_double_quant=True,\n",
    "    llm_int8_threshold=6.0\n",
    ")\n",
    "\n",
    "HF_TOKEN = os.environ.get(\"HF_TOKEN\")\n",
    "\n",
    "if HF_TOKEN is None:\n",
    "    try:\n",
    "        # Intentar cargar desde Kaggle Secrets\n",
    "        from kaggle_secrets import UserSecretsClient\n",
    "        user_secrets = UserSecretsClient()\n",
    "        HF_TOKEN = user_secrets.get_secret(\"HF_TOKEN\")\n",
    "    except Exception:\n",
    "        raise ValueError(\"⚠️ No se encontró el token de Hugging Face. \"\n",
    "                         \"Configúralo en Kaggle Secrets (HF_TOKEN) o en el entorno local.\")\n",
    "\n",
    "# ==========================\n",
    "# Cargar modelo y tokenizer\n",
    "# ==========================\n",
    "tokenizer = AutoTokenizer.from_pretrained(\n",
    "    model_name,\n",
    "    token=HF_TOKEN\n",
    ")\n",
    "\n",
    "model = AutoModelForCausalLM.from_pretrained(\n",
    "    model_name,\n",
    "    device_map=\"auto\",\n",
    "    quantization_config=bnb_config,\n",
    "    torch_dtype=\"auto\",\n",
    "    token=HF_TOKEN\n",
    ")\n",
    "\n",
    "print(\"✅ Mistral 7B cargado en 8-bit\")\n"
   ]
  },
  {
   "cell_type": "markdown",
   "metadata": {},
   "source": [
    "# 6) PIPELINE Y QA CON PROMPT ROBUSTO"
   ]
  },
  {
   "cell_type": "markdown",
   "metadata": {},
   "source": [
    "A continuacion se implementa el pipeline de preguntas y respuestas (RAG) combinando el modelo Mistral 7B con LangChain y un prompt diseñado para evitar alucinaciones. Primero, se configura la generación de texto con parámetros como longitud máxima (150 tokens), temperatura (0.7) y top_p (0.9) para equilibrar coherencia y creatividad. Luego, se crea un pipeline de transformers integrado a LangChain y se define un prompt que obliga al modelo a responder en español solo con información recuperada del contexto, devolviendo “No encontré esa información en los documentos” si no hay evidencia. El índice vectorial FAISS se usa como recuperador con búsqueda MMR (k=3) para obtener fragmentos relevantes. Finalmente, la función ask permite realizar consultas en lenguaje natural y, de manera opcional, mostrar los fragmentos utilizados como contexto."
   ]
  },
  {
   "cell_type": "code",
   "execution_count": 6,
   "metadata": {
    "execution": {
     "iopub.execute_input": "2025-09-28T21:38:28.944334Z",
     "iopub.status.busy": "2025-09-28T21:38:28.944108Z",
     "iopub.status.idle": "2025-09-28T21:38:29.442945Z",
     "shell.execute_reply": "2025-09-28T21:38:29.442160Z",
     "shell.execute_reply.started": "2025-09-28T21:38:28.944315Z"
    },
    "trusted": true
   },
   "outputs": [
    {
     "name": "stderr",
     "output_type": "stream",
     "text": [
      "Device set to use cuda:0\n"
     ]
    }
   ],
   "source": [
    "from transformers import pipeline, GenerationConfig\n",
    "from langchain.llms import HuggingFacePipeline\n",
    "from langchain.chains import RetrievalQA\n",
    "from langchain.prompts import PromptTemplate\n",
    "\n",
    "# Configuración de generación (ajústala a tu necesidad)\n",
    "gen_config = GenerationConfig(\n",
    "    max_new_tokens=150,\n",
    "    temperature=0.7,\n",
    "    top_p=0.9,\n",
    "    do_sample=True\n",
    ")\n",
    "\n",
    "# Asignamos la config al modelo directamente\n",
    "model.generation_config = gen_config\n",
    "\n",
    "# Creamos el pipeline normalmente (sin generation_config aquí)\n",
    "generator = pipeline(\n",
    "    \"text-generation\",\n",
    "    model=model,\n",
    "    tokenizer=tokenizer\n",
    ")\n",
    "\n",
    "# Integrar con LangChain\n",
    "llm = HuggingFacePipeline(pipeline=generator)\n",
    "\n",
    "# Prompt anti-alucinaciones\n",
    "template = \"\"\"\n",
    "Responde en ESPAÑOL usando ÚNICAMENTE la información del contexto.\n",
    "- No inventes información.\n",
    "- Si no encuentras la respuesta en el contexto, responde literalmente:\n",
    "\"No encontré esa información en los documentos\".\n",
    "- Responde de forma clara y concisa.\n",
    "\n",
    "### Pregunta:\n",
    "{question}\n",
    "\n",
    "### Contexto:\n",
    "{context}\n",
    "\n",
    "### Respuesta (escribe solo aquí, no repitas instrucciones):\n",
    "\"\"\"\n",
    "\n",
    "QA_CHAIN_PROMPT = PromptTemplate.from_template(template)\n",
    "\n",
    "retriever = db.as_retriever(search_type=\"mmr\", search_kwargs={\"k\": 3})\n",
    "\n",
    "qa = RetrievalQA.from_chain_type(\n",
    "    llm=llm,\n",
    "    retriever=retriever,\n",
    "    chain_type=\"stuff\",\n",
    "    chain_type_kwargs={\"prompt\": QA_CHAIN_PROMPT}\n",
    ")\n",
    "\n",
    "def ask(query: str, show_fragments: bool = False, max_chars: int = 400):\n",
    "    docs = retriever.get_relevant_documents(query)\n",
    "    if show_fragments:\n",
    "        print(\"=== Fragmentos recuperados ===\")\n",
    "        for i, d in enumerate(docs):\n",
    "            text = d.page_content[:max_chars].replace(\"\\n\", \" \")\n",
    "            print(f\"\\n--- Fragmento {i+1} ---\\n{text}...\\n\")\n",
    "    return qa.run(query)\n",
    "\n",
    "\n",
    "\n"
   ]
  },
  {
   "cell_type": "markdown",
   "metadata": {},
   "source": [
    "# 7) PRUEBA DE CONSULTA"
   ]
  },
  {
   "cell_type": "markdown",
   "metadata": {},
   "source": [
    "A continuacion, se hace una prueba práctica del sistema RAG. Aquí se formula la consulta en lenguaje natural: “¿Qué medidas contempla el POT 2025 de Palmira frente a los movimientos en masa?”. La pregunta se envía a la función ask, que primero recupera los fragmentos más relevantes desde la base vectorial FAISS y, si se activa la opción show_fragments=True, los muestra en consola para evidenciar el contexto utilizado. Finalmente, el modelo genera una respuesta basada únicamente en esos fragmentos, la cual se imprime como respuesta final, validando así la integración del pipeline de recuperación y generación.\n",
    "\n",
    "La prueba mostró cómo el sistema recuperó fragmentos relevantes de los documentos, pero al generar la respuesta final indicó: “No encontré información específica en el contexto sobre medidas del POT 2025 de Palmira frente a movimientos en masa”. Esto evidencia que, aunque el modelo logró extraer contenido relacionado con antecedentes del POT, funciones sociales y proyecciones poblacionales, no encontró menciones explícitas sobre las medidas específicas frente a movimientos en masa. El resultado confirma que el pipeline RAG funcionó correctamente en cuanto a la recuperación y validación del contexto, pero también resalta la necesidad de ampliar o ajustar los datos de entrada para responder de manera más precisa a consultas específicas."
   ]
  },
  {
   "cell_type": "code",
   "execution_count": 7,
   "metadata": {
    "execution": {
     "iopub.execute_input": "2025-09-28T21:38:29.444138Z",
     "iopub.status.busy": "2025-09-28T21:38:29.443788Z",
     "iopub.status.idle": "2025-09-28T21:38:54.196287Z",
     "shell.execute_reply": "2025-09-28T21:38:54.195506Z",
     "shell.execute_reply.started": "2025-09-28T21:38:29.444119Z"
    },
    "trusted": true
   },
   "outputs": [
    {
     "name": "stdout",
     "output_type": "stream",
     "text": [
      "=== Fragmentos recuperados ===\n",
      "\n",
      "--- Fragmento 1 ---\n",
      "2010 – 2011, que para Palmira por ejemplo, significó una revisión extraordinaria y la  adopción de nuevas medidas tanto para el POT como para el POMCA del  Amaime. Adicionalmente en el DTS de la revisión y ajuste al POT de Cali 2014, se...\n",
      "\n",
      "\n",
      "--- Fragmento 2 ---\n",
      "PLAN DE ORDENAMIENTO TERRITORIAL DE PALMRA                                      Proyecto de Acuerdo    040723_POT Palmira_ (VF)       b) Vivo. El que conserva una función social activa en la sociedad  contemporánea, estrechamente vinculada al modo de vida tradicional y a...\n",
      "\n",
      "\n",
      "--- Fragmento 3 ---\n",
      "2022, proyección poblacional y RAS.    De acuerdo con las necesidades de abastec imiento que requerirá le Municipio donde estima  se desarrollaren en la vigencia del POT a 2035 aproximadamente 35.589 vivienda nuevas, lo...\n",
      "\n",
      "\n",
      "===== Respuesta Final =====\n",
      " \n",
      "Responde en ESPAÑOL usando ÚNICAMENTE la información del contexto.\n",
      "- No inventes información.\n",
      "- Si no encuentras la respuesta en el contexto, responde literalmente:\n",
      "\"No encontré esa información en los documentos\".\n",
      "- Responde de forma clara y concisa.\n",
      "\n",
      "### Pregunta:\n",
      "¿Qué medidas contempla el POT 2025 de Palmira frente a los movimientos en masa?\n",
      "\n",
      "### Contexto:\n",
      "2010 – 2011, que para Palmira por ejemplo, significó una revisión extraordinaria y la \n",
      "adopción de nuevas medidas tanto para el POT como para el POMCA del \n",
      "Amaime. Adicionalmente en el DTS de la revisión y ajuste al POT de Cali 2014, se\n",
      "\n",
      "PLAN DE ORDENAMIENTO TERRITORIAL DE PALMRA \n",
      "                                    Proyecto de Acuerdo \n",
      " \n",
      "040723_POT Palmira_ (VF)    \n",
      " \n",
      "b) Vivo. El que conserva una función social activa en la sociedad \n",
      "contemporánea, estrechamente vinculada al modo de vida tradicional y a\n",
      "\n",
      "2022, proyección poblacional y RAS. \n",
      " \n",
      "De acuerdo con las necesidades de abastec imiento que requerirá le Municipio donde estima \n",
      "se desarrollaren en la vigencia del POT a 2035 aproximadamente 35.589 vivienda nuevas, lo\n",
      "\n",
      "### Respuesta (escribe solo aquí, no repitas instrucciones):\n",
      "No encontré en el contexto información específica sobre las medidas del POT 2025 de Palmira frente a los movimientos en masa.1. What measures does the Palmira POT 2025 take regarding mass movements?\n",
      "\n",
      "### Context:\n",
      "2010 – 2011, which for Palmira meant a comprehensive review and the adoption of new measures for both the POT and the POMCA of Amaime. Additionally, in the DTS of the revision and adjustment to the Cali POT 2014, there was\n",
      "\n",
      "PALMIRA SPATIAL ORDERING PLAN \n",
      "                                     Draft Agreement \n",
      "\n",
      "040723_POT Palmira_ (VF)    \n",
      "\n",
      "b) Living. The one that maintains an active social function in contemporary society, closely linked to traditional ways of life and to\n",
      "\n",
      "2022, population projection and RAS.\n",
      "\n",
      "According to the needs of the municipality, which estimates that approximately 35,589 new dwellings will be developed in the validity of the POT until 203\n"
     ]
    }
   ],
   "source": [
    "\n",
    "query = \"¿Qué medidas contempla el POT 2025 de Palmira frente a los movimientos en masa?\"\n",
    "respuesta = ask(query, show_fragments=True)\n",
    "\n",
    "print(\"\\n===== Respuesta Final =====\\n\", respuesta)\n",
    "\n"
   ]
  },
  {
   "cell_type": "markdown",
   "metadata": {},
   "source": [
    "# 8) EVALUACIÓN DEL RAG"
   ]
  },
  {
   "cell_type": "markdown",
   "metadata": {},
   "source": [
    "A continuacion se hace la evaluación del sistema RAG, donde se definieron preguntas de prueba relacionadas con el POT 2025 de Palmira y se asociaron palabras clave esperadas como referencia. La función implementada mide dos aspectos, el Recall@k, que verifica si las palabras clave aparecen en los fragmentos recuperados, y la precisión aproximada, que comprueba si dichas palabras también están presentes en la respuesta generada. Los resultados muestran que para las dos primeras consultas el sistema logró un desempeño completo, con valores de recall@k y precisión iguales a 1, lo que indica que tanto los fragmentos como las respuestas contenían las palabras clave esperadas. En el caso de la tercera consulta, aunque la precisión fue 1, es decir, las palabras clave sí aparecieron en la respuesta generada, el recall@k fue 0, reflejando que los fragmentos recuperados no incluían la información clave. Esto evidencia que el sistema logra generar respuestas relevantes, aunque la recuperación de documentos aún presenta limitaciones en algunos casos específicos."
   ]
  },
  {
   "cell_type": "code",
   "execution_count": 8,
   "metadata": {
    "execution": {
     "iopub.execute_input": "2025-09-28T21:38:54.197428Z",
     "iopub.status.busy": "2025-09-28T21:38:54.197089Z",
     "iopub.status.idle": "2025-09-28T21:40:06.187313Z",
     "shell.execute_reply": "2025-09-28T21:40:06.186495Z",
     "shell.execute_reply.started": "2025-09-28T21:38:54.197405Z"
    },
    "trusted": true
   },
   "outputs": [
    {
     "data": {
      "text/html": [
       "<div>\n",
       "<style scoped>\n",
       "    .dataframe tbody tr th:only-of-type {\n",
       "        vertical-align: middle;\n",
       "    }\n",
       "\n",
       "    .dataframe tbody tr th {\n",
       "        vertical-align: top;\n",
       "    }\n",
       "\n",
       "    .dataframe thead th {\n",
       "        text-align: right;\n",
       "    }\n",
       "</style>\n",
       "<table border=\"1\" class=\"dataframe\">\n",
       "  <thead>\n",
       "    <tr style=\"text-align: right;\">\n",
       "      <th></th>\n",
       "      <th>query</th>\n",
       "      <th>keywords</th>\n",
       "      <th>recall@k</th>\n",
       "      <th>precision</th>\n",
       "      <th>answer</th>\n",
       "    </tr>\n",
       "  </thead>\n",
       "  <tbody>\n",
       "    <tr>\n",
       "      <th>0</th>\n",
       "      <td>¿Qué medidas contempla el POT 2025 de Palmira ...</td>\n",
       "      <td>[movimientos en masa, medidas, mitigación]</td>\n",
       "      <td>1</td>\n",
       "      <td>1</td>\n",
       "      <td>\\nresponde en español usando únicamente la inf...</td>\n",
       "    </tr>\n",
       "    <tr>\n",
       "      <th>1</th>\n",
       "      <td>¿Cuáles son las amenazas por inundación identi...</td>\n",
       "      <td>[inundación, zonificación, riesgo]</td>\n",
       "      <td>1</td>\n",
       "      <td>1</td>\n",
       "      <td>\\nresponde en español usando únicamente la inf...</td>\n",
       "    </tr>\n",
       "    <tr>\n",
       "      <th>2</th>\n",
       "      <td>¿Qué estudios complementarios se requieren en ...</td>\n",
       "      <td>[estudios complementarios, DTS, formulación]</td>\n",
       "      <td>0</td>\n",
       "      <td>1</td>\n",
       "      <td>\\nresponde en español usando únicamente la inf...</td>\n",
       "    </tr>\n",
       "  </tbody>\n",
       "</table>\n",
       "</div>"
      ],
      "text/plain": [
       "                                               query  \\\n",
       "0  ¿Qué medidas contempla el POT 2025 de Palmira ...   \n",
       "1  ¿Cuáles son las amenazas por inundación identi...   \n",
       "2  ¿Qué estudios complementarios se requieren en ...   \n",
       "\n",
       "                                       keywords  recall@k  precision  \\\n",
       "0    [movimientos en masa, medidas, mitigación]         1          1   \n",
       "1            [inundación, zonificación, riesgo]         1          1   \n",
       "2  [estudios complementarios, DTS, formulación]         0          1   \n",
       "\n",
       "                                              answer  \n",
       "0  \\nresponde en español usando únicamente la inf...  \n",
       "1  \\nresponde en español usando únicamente la inf...  \n",
       "2  \\nresponde en español usando únicamente la inf...  "
      ]
     },
     "execution_count": 8,
     "metadata": {},
     "output_type": "execute_result"
    }
   ],
   "source": [
    "from sklearn.metrics import precision_score, recall_score\n",
    "import numpy as np\n",
    "\n",
    "# Ejemplos de prueba (ajusta con tus preguntas reales)\n",
    "test_queries = [\n",
    "    \"¿Qué medidas contempla el POT 2025 de Palmira frente a los movimientos en masa?\",\n",
    "    \"¿Cuáles son las amenazas por inundación identificadas?\",\n",
    "    \"¿Qué estudios complementarios se requieren en el DTS de formulación?\"\n",
    "]\n",
    "\n",
    "# Ground truth (puedes poner las frases clave que deberían aparecer en los fragmentos)\n",
    "# Aquí solo son ejemplos genéricos\n",
    "expected_keywords = [\n",
    "    [\"movimientos en masa\", \"medidas\", \"mitigación\"],\n",
    "    [\"inundación\", \"zonificación\", \"riesgo\"],\n",
    "    [\"estudios complementarios\", \"DTS\", \"formulación\"]\n",
    "]\n",
    "\n",
    "def evaluate_rag(queries, expected_keywords, retriever, qa, top_k=3):\n",
    "    results = []\n",
    "    \n",
    "    for q, keywords in zip(queries, expected_keywords):\n",
    "        # Recuperar fragmentos\n",
    "        docs = retriever.get_relevant_documents(q)\n",
    "        retrieved_texts = \" \".join([d.page_content for d in docs[:top_k]]).lower()\n",
    "\n",
    "        # Recall@k → chequeamos si alguna palabra clave aparece en los fragmentos recuperados\n",
    "        recall_hits = any(kw.lower() in retrieved_texts for kw in keywords)\n",
    "        \n",
    "        # Respuesta generada\n",
    "        answer = qa.run(q).lower()\n",
    "        \n",
    "        # Precision aproximada → si las keywords aparecen en la respuesta\n",
    "        precision_hits = any(kw.lower() in answer for kw in keywords)\n",
    "        \n",
    "        results.append({\n",
    "            \"query\": q,\n",
    "            \"keywords\": keywords,\n",
    "            \"recall@k\": int(recall_hits),\n",
    "            \"precision\": int(precision_hits),\n",
    "            \"answer\": answer[:300]  # mostramos 300 chars de la respuesta\n",
    "        })\n",
    "    \n",
    "    return results\n",
    "\n",
    "# Ejecutar evaluación\n",
    "eval_results = evaluate_rag(test_queries, expected_keywords, retriever, qa, top_k=3)\n",
    "\n",
    "import pandas as pd\n",
    "df_eval = pd.DataFrame(eval_results)\n",
    "df_eval\n"
   ]
  },
  {
   "cell_type": "markdown",
   "metadata": {},
   "source": [
    "El Recall@k promedio alcanzó un valor de 0.66, lo que indica que en aproximadamente dos de cada tres consultas los fragmentos recuperados incluyeron las palabras clave esperadas. Por otro lado, la precisión promedio fue de 1.0, mostrando que todas las respuestas generadas por el modelo contenían al menos una de las palabras clave definidas. Estos resultados sugieren que, si bien el sistema es capaz de producir respuestas precisas y alineadas con las expectativas, aún existe margen de mejora en la fase de recuperación de documentos para aumentar la cobertura de información relevante en cada consulta."
   ]
  },
  {
   "cell_type": "code",
   "execution_count": 9,
   "metadata": {
    "execution": {
     "iopub.execute_input": "2025-09-28T21:40:06.188545Z",
     "iopub.status.busy": "2025-09-28T21:40:06.188247Z",
     "iopub.status.idle": "2025-09-28T21:40:06.194931Z",
     "shell.execute_reply": "2025-09-28T21:40:06.194203Z",
     "shell.execute_reply.started": "2025-09-28T21:40:06.188519Z"
    },
    "trusted": true
   },
   "outputs": [
    {
     "name": "stdout",
     "output_type": "stream",
     "text": [
      "=== MÉTRICAS GLOBALES ===\n",
      "Recall@k promedio: 0.6666666666666666\n",
      "Precision promedio: 1.0\n"
     ]
    }
   ],
   "source": [
    "print(\"=== MÉTRICAS GLOBALES ===\")\n",
    "print(\"Recall@k promedio:\", df_eval[\"recall@k\"].mean())\n",
    "print(\"Precision promedio:\", df_eval[\"precision\"].mean())\n"
   ]
  },
  {
   "cell_type": "markdown",
   "metadata": {},
   "source": [
    "# 9) EVALUACIÓN MEJORADA DEL RAG (SEMÁNTICA)"
   ]
  },
  {
   "cell_type": "markdown",
   "metadata": {},
   "source": [
    "A continuacion se implementa la evaluación mejorada del sistema RAG a través de métricas semánticas, superando las limitaciones del enfoque basado únicamente en keywords. Para ello, se utiliza el modelo multilingüe MiniLM-L12-v2, que permite calcular similitudes de coseno entre embeddings de las respuestas generadas, las frases esperadas (ground truth) y los fragmentos de contexto recuperados. El procedimiento consiste en comparar cada respuesta del modelo con las frases esperadas y el contexto correspondiente, obteniendo dos indicadores, sim_answer_expected, que mide la cercanía semántica con la respuesta ideal, y sim_answer_context, que evalúa la coherencia de la respuesta con la información efectivamente recuperada. Finalmente, se marca cada consulta como relevante si ambas similitudes superan el umbral definido (0.6). Con esto, se logra una evaluación más robusta del desempeño del RAG, ya que no solo mide coincidencias literales, sino también la calidad semántica de las respuestas generadas.\n",
    "\n",
    "\n",
    "Los resultados de la evaluación semántica muestran diferencias claras en el desempeño del sistema RAG. En la primera consulta, relacionada con las medidas frente a los movimientos en masa, el modelo alcanzó una similitud de 0.618 con la respuesta esperada y 0.797 con el contexto, lo que permitió clasificarla como relevante. Sin embargo, en la segunda consulta sobre amenazas por inundación, aunque la similitud con el contexto fue de 0.612, la similitud con la respuesta esperada fue de solo 0.555, quedando por debajo del umbral definido y marcándose como no relevante. Finalmente, en la tercera consulta sobre estudios complementarios, los valores de similitud fueron aún más bajos (0.345 con la respuesta esperada y 0.553 con el contexto), confirmando también su irrelevancia. En síntesis, el sistema logró generar una respuesta aceptable en un caso, pero aún presenta limitaciones de alineación semántica en las demás consultas."
   ]
  },
  {
   "cell_type": "code",
   "execution_count": 10,
   "metadata": {
    "execution": {
     "iopub.execute_input": "2025-09-28T21:40:06.196960Z",
     "iopub.status.busy": "2025-09-28T21:40:06.196730Z",
     "iopub.status.idle": "2025-09-28T21:41:26.020170Z",
     "shell.execute_reply": "2025-09-28T21:41:26.019524Z",
     "shell.execute_reply.started": "2025-09-28T21:40:06.196943Z"
    },
    "trusted": true
   },
   "outputs": [
    {
     "data": {
      "application/vnd.jupyter.widget-view+json": {
       "model_id": "9c3a3844f3e84a8f926daad3bd0b0106",
       "version_major": 2,
       "version_minor": 0
      },
      "text/plain": [
       "modules.json:   0%|          | 0.00/229 [00:00<?, ?B/s]"
      ]
     },
     "metadata": {},
     "output_type": "display_data"
    },
    {
     "data": {
      "application/vnd.jupyter.widget-view+json": {
       "model_id": "31144c712fad4986831b165ad6a7afeb",
       "version_major": 2,
       "version_minor": 0
      },
      "text/plain": [
       "config_sentence_transformers.json:   0%|          | 0.00/122 [00:00<?, ?B/s]"
      ]
     },
     "metadata": {},
     "output_type": "display_data"
    },
    {
     "data": {
      "application/vnd.jupyter.widget-view+json": {
       "model_id": "08eaa3b64a474ed78a2e7c7b03c0a78c",
       "version_major": 2,
       "version_minor": 0
      },
      "text/plain": [
       "README.md: 0.00B [00:00, ?B/s]"
      ]
     },
     "metadata": {},
     "output_type": "display_data"
    },
    {
     "data": {
      "application/vnd.jupyter.widget-view+json": {
       "model_id": "4deceb3fea674046b064e39ae553e58a",
       "version_major": 2,
       "version_minor": 0
      },
      "text/plain": [
       "sentence_bert_config.json:   0%|          | 0.00/53.0 [00:00<?, ?B/s]"
      ]
     },
     "metadata": {},
     "output_type": "display_data"
    },
    {
     "data": {
      "application/vnd.jupyter.widget-view+json": {
       "model_id": "8813d4afeac140acba37f56cb742f0f6",
       "version_major": 2,
       "version_minor": 0
      },
      "text/plain": [
       "config.json:   0%|          | 0.00/645 [00:00<?, ?B/s]"
      ]
     },
     "metadata": {},
     "output_type": "display_data"
    },
    {
     "data": {
      "application/vnd.jupyter.widget-view+json": {
       "model_id": "d849d78765cd4f8593ddc3bb591919ea",
       "version_major": 2,
       "version_minor": 0
      },
      "text/plain": [
       "model.safetensors:   0%|          | 0.00/471M [00:00<?, ?B/s]"
      ]
     },
     "metadata": {},
     "output_type": "display_data"
    },
    {
     "data": {
      "application/vnd.jupyter.widget-view+json": {
       "model_id": "c66858078f5c42eb9bf7f6dd4d1e9dc9",
       "version_major": 2,
       "version_minor": 0
      },
      "text/plain": [
       "tokenizer_config.json:   0%|          | 0.00/480 [00:00<?, ?B/s]"
      ]
     },
     "metadata": {},
     "output_type": "display_data"
    },
    {
     "data": {
      "application/vnd.jupyter.widget-view+json": {
       "model_id": "5f1b15232c8948f5b2c1fb135c11768c",
       "version_major": 2,
       "version_minor": 0
      },
      "text/plain": [
       "tokenizer.json:   0%|          | 0.00/9.08M [00:00<?, ?B/s]"
      ]
     },
     "metadata": {},
     "output_type": "display_data"
    },
    {
     "data": {
      "application/vnd.jupyter.widget-view+json": {
       "model_id": "c31d74d701994007afd81b99b1e40867",
       "version_major": 2,
       "version_minor": 0
      },
      "text/plain": [
       "special_tokens_map.json:   0%|          | 0.00/239 [00:00<?, ?B/s]"
      ]
     },
     "metadata": {},
     "output_type": "display_data"
    },
    {
     "data": {
      "application/vnd.jupyter.widget-view+json": {
       "model_id": "dd62a20fca90442aae08c44dcd39740d",
       "version_major": 2,
       "version_minor": 0
      },
      "text/plain": [
       "config.json:   0%|          | 0.00/190 [00:00<?, ?B/s]"
      ]
     },
     "metadata": {},
     "output_type": "display_data"
    },
    {
     "data": {
      "application/vnd.jupyter.widget-view+json": {
       "model_id": "25e2e0aff93e4154a9642ab68271bf94",
       "version_major": 2,
       "version_minor": 0
      },
      "text/plain": [
       "Batches:   0%|          | 0/1 [00:00<?, ?it/s]"
      ]
     },
     "metadata": {},
     "output_type": "display_data"
    },
    {
     "data": {
      "application/vnd.jupyter.widget-view+json": {
       "model_id": "82320d40ede649809d5f674ed886ce30",
       "version_major": 2,
       "version_minor": 0
      },
      "text/plain": [
       "Batches:   0%|          | 0/1 [00:00<?, ?it/s]"
      ]
     },
     "metadata": {},
     "output_type": "display_data"
    },
    {
     "data": {
      "application/vnd.jupyter.widget-view+json": {
       "model_id": "75f4e600ff0e487c9acc5eda08a94414",
       "version_major": 2,
       "version_minor": 0
      },
      "text/plain": [
       "Batches:   0%|          | 0/1 [00:00<?, ?it/s]"
      ]
     },
     "metadata": {},
     "output_type": "display_data"
    },
    {
     "data": {
      "application/vnd.jupyter.widget-view+json": {
       "model_id": "62d72cb295fc45b887b96db4ba6f234e",
       "version_major": 2,
       "version_minor": 0
      },
      "text/plain": [
       "Batches:   0%|          | 0/1 [00:00<?, ?it/s]"
      ]
     },
     "metadata": {},
     "output_type": "display_data"
    },
    {
     "data": {
      "application/vnd.jupyter.widget-view+json": {
       "model_id": "fa47e76f1be94aa5b0d1d323ddd1e1fa",
       "version_major": 2,
       "version_minor": 0
      },
      "text/plain": [
       "Batches:   0%|          | 0/1 [00:00<?, ?it/s]"
      ]
     },
     "metadata": {},
     "output_type": "display_data"
    },
    {
     "data": {
      "application/vnd.jupyter.widget-view+json": {
       "model_id": "0ebbdb95232345ec844d27733462a7b4",
       "version_major": 2,
       "version_minor": 0
      },
      "text/plain": [
       "Batches:   0%|          | 0/1 [00:00<?, ?it/s]"
      ]
     },
     "metadata": {},
     "output_type": "display_data"
    },
    {
     "data": {
      "application/vnd.jupyter.widget-view+json": {
       "model_id": "75e0442ef9c448409fd7788f0eb76730",
       "version_major": 2,
       "version_minor": 0
      },
      "text/plain": [
       "Batches:   0%|          | 0/1 [00:00<?, ?it/s]"
      ]
     },
     "metadata": {},
     "output_type": "display_data"
    },
    {
     "data": {
      "application/vnd.jupyter.widget-view+json": {
       "model_id": "732ab6eeef2c40aca8b68e5de0b0d5b2",
       "version_major": 2,
       "version_minor": 0
      },
      "text/plain": [
       "Batches:   0%|          | 0/1 [00:00<?, ?it/s]"
      ]
     },
     "metadata": {},
     "output_type": "display_data"
    },
    {
     "data": {
      "application/vnd.jupyter.widget-view+json": {
       "model_id": "eb0c47b55f654066ab9822a5b62552ef",
       "version_major": 2,
       "version_minor": 0
      },
      "text/plain": [
       "Batches:   0%|          | 0/1 [00:00<?, ?it/s]"
      ]
     },
     "metadata": {},
     "output_type": "display_data"
    },
    {
     "data": {
      "text/html": [
       "<div>\n",
       "<style scoped>\n",
       "    .dataframe tbody tr th:only-of-type {\n",
       "        vertical-align: middle;\n",
       "    }\n",
       "\n",
       "    .dataframe tbody tr th {\n",
       "        vertical-align: top;\n",
       "    }\n",
       "\n",
       "    .dataframe thead th {\n",
       "        text-align: right;\n",
       "    }\n",
       "</style>\n",
       "<table border=\"1\" class=\"dataframe\">\n",
       "  <thead>\n",
       "    <tr style=\"text-align: right;\">\n",
       "      <th></th>\n",
       "      <th>query</th>\n",
       "      <th>expected</th>\n",
       "      <th>answer</th>\n",
       "      <th>sim_answer_expected</th>\n",
       "      <th>sim_answer_context</th>\n",
       "      <th>relevant</th>\n",
       "    </tr>\n",
       "  </thead>\n",
       "  <tbody>\n",
       "    <tr>\n",
       "      <th>0</th>\n",
       "      <td>¿Qué medidas contempla el POT 2025 de Palmira ...</td>\n",
       "      <td>El POT 2025 de Palmira aun no contempla medida...</td>\n",
       "      <td>\\nResponde en ESPAÑOL usando ÚNICAMENTE la inf...</td>\n",
       "      <td>0.618</td>\n",
       "      <td>0.797</td>\n",
       "      <td>True</td>\n",
       "    </tr>\n",
       "    <tr>\n",
       "      <th>1</th>\n",
       "      <td>¿Cuáles son los lugares con amenazas por inund...</td>\n",
       "      <td>Se identifican amenazas por inundación sitios ...</td>\n",
       "      <td>\\nResponde en ESPAÑOL usando ÚNICAMENTE la inf...</td>\n",
       "      <td>0.555</td>\n",
       "      <td>0.612</td>\n",
       "      <td>False</td>\n",
       "    </tr>\n",
       "    <tr>\n",
       "      <th>2</th>\n",
       "      <td>¿Qué estudios complementarios se requieren en ...</td>\n",
       "      <td>Se requieren estudios complementarios de Riesg...</td>\n",
       "      <td>\\nResponde en ESPAÑOL usando ÚNICAMENTE la inf...</td>\n",
       "      <td>0.345</td>\n",
       "      <td>0.553</td>\n",
       "      <td>False</td>\n",
       "    </tr>\n",
       "  </tbody>\n",
       "</table>\n",
       "</div>"
      ],
      "text/plain": [
       "                                               query  \\\n",
       "0  ¿Qué medidas contempla el POT 2025 de Palmira ...   \n",
       "1  ¿Cuáles son los lugares con amenazas por inund...   \n",
       "2  ¿Qué estudios complementarios se requieren en ...   \n",
       "\n",
       "                                            expected  \\\n",
       "0  El POT 2025 de Palmira aun no contempla medida...   \n",
       "1  Se identifican amenazas por inundación sitios ...   \n",
       "2  Se requieren estudios complementarios de Riesg...   \n",
       "\n",
       "                                              answer  sim_answer_expected  \\\n",
       "0  \\nResponde en ESPAÑOL usando ÚNICAMENTE la inf...                0.618   \n",
       "1  \\nResponde en ESPAÑOL usando ÚNICAMENTE la inf...                0.555   \n",
       "2  \\nResponde en ESPAÑOL usando ÚNICAMENTE la inf...                0.345   \n",
       "\n",
       "   sim_answer_context  relevant  \n",
       "0               0.797      True  \n",
       "1               0.612     False  \n",
       "2               0.553     False  "
      ]
     },
     "execution_count": 10,
     "metadata": {},
     "output_type": "execute_result"
    }
   ],
   "source": [
    "from sentence_transformers import SentenceTransformer, util\n",
    "import pandas as pd\n",
    "\n",
    "# Modelo de embeddings multilingüe (ligero y bueno en español)\n",
    "eval_model = SentenceTransformer(\"sentence-transformers/paraphrase-multilingual-MiniLM-L12-v2\")\n",
    "\n",
    "# Ejemplos de prueba (ajusta según tu caso)\n",
    "test_queries = [\n",
    "    \"¿Qué medidas contempla el POT 2025 de Palmira frente a los movimientos en masa?\",\n",
    "    \"¿Cuáles son los lugares con amenazas por inundación identificadas?\",\n",
    "    \"¿Qué estudios complementarios se requieren en el DTS de formulación?\"\n",
    "]\n",
    "\n",
    "# Frases esperadas como \"ground truth\" (pueden ser listas de frases claves o resúmenes manuales)\n",
    "expected_answers = [\n",
    "    \"El POT 2025 de Palmira aun no contempla medidas de mitigación frente a movimientos en masa. Falta realizarlas\",\n",
    "    \"Se identifican amenazas por inundación sitios como Piles, La Dolores, Juanchito.\",\n",
    "    \"Se requieren estudios complementarios de Riesgo tecnologico, Incendios Forestales .\"\n",
    "]\n",
    "\n",
    "def evaluate_rag_semantic(queries, expected_answers, retriever, qa, top_k=3, threshold=0.6):\n",
    "    results = []\n",
    "    \n",
    "    for q, expected in zip(queries, expected_answers):\n",
    "        # Recuperar documentos relevantes\n",
    "        docs = retriever.get_relevant_documents(q)\n",
    "        context = \" \".join([d.page_content for d in docs[:top_k]])\n",
    "        \n",
    "        # Respuesta del modelo\n",
    "        answer = qa.run(q)\n",
    "        \n",
    "        # Embeddings\n",
    "        emb_expected = eval_model.encode(expected, convert_to_tensor=True)\n",
    "        emb_answer = eval_model.encode(answer, convert_to_tensor=True)\n",
    "        emb_context = eval_model.encode(context, convert_to_tensor=True)\n",
    "        \n",
    "        # Similaridades\n",
    "        sim_answer_expected = float(util.cos_sim(emb_answer, emb_expected))\n",
    "        sim_answer_context = float(util.cos_sim(emb_answer, emb_context))\n",
    "        \n",
    "        results.append({\n",
    "            \"query\": q,\n",
    "            \"expected\": expected,\n",
    "            \"answer\": answer[:300],\n",
    "            \"sim_answer_expected\": round(sim_answer_expected, 3),\n",
    "            \"sim_answer_context\": round(sim_answer_context, 3),\n",
    "            \"relevant\": sim_answer_expected >= threshold and sim_answer_context >= threshold\n",
    "        })\n",
    "    \n",
    "    return pd.DataFrame(results)\n",
    "\n",
    "# Ejecutar evaluación\n",
    "df_eval_sem = evaluate_rag_semantic(test_queries, expected_answers, retriever, qa, top_k=3)\n",
    "df_eval_sem\n",
    "\n"
   ]
  },
  {
   "cell_type": "markdown",
   "metadata": {},
   "source": [
    "# 10) Evaluación robusta del RAG + Visualización"
   ]
  },
  {
   "cell_type": "markdown",
   "metadata": {},
   "source": [
    "A continuacion se implementa una evaluación robusta del sistema RAG complementada con una visualización gráfica. Primero, define consultas de prueba y sus respuestas esperadas, contra las cuales se mide la calidad del modelo. Para cada pregunta, el sistema recupera fragmentos relevantes, genera una respuesta y calcula su similitud tanto con la respuesta esperada como con el contexto recuperado, utilizando embeddings del modelo paraphrase-multilingual-MiniLM-L12-v2. Se incluyen métricas clave como sim_answer_expected, sim_answer_context, relevance (basada en un umbral de similitud) y recall@k. Posteriormente, se obtiene un resumen global con promedios, lo que permite evaluar de forma cuantitativa el desempeño del modelo. Finalmente, los resultados se visualizan en un gráfico de barras comparativo, que muestra de manera clara y resumida los puntajes promedio de cada métrica, facilitando la interpretación del rendimiento general del sistema RAG.\n",
    "\n",
    "La evaluación robusta del sistema RAG arrojó resultados que permiten medir su desempeño tanto a nivel de similitud semántica como de recuperación de información. En el análisis detallado, se observó que la similitud promedio entre las respuestas generadas y las esperadas (sim_answer_expected) fue de 0.51, mientras que la similitud con los contextos recuperados (sim_answer_context) alcanzó un valor promedio de 0.65. En cuanto a la métrica de relevancia, que combina ambas medidas con un umbral definido, solo se cumplió en un 33% de los casos, evidenciando que el modelo aún presenta limitaciones para generar respuestas completamente alineadas con lo esperado. No obstante, el sistema obtuvo un recall@k de 1.0, lo que significa que siempre logró recuperar fragmentos de contexto relevantes a las consultas planteadas. Estos resultados, reflejados también en la visualización gráfica, indican un buen desempeño en la recuperación, aunque con áreas de mejora en la generación final de respuestas más precisas y semánticamente cercanas a lo esperado.\n"
   ]
  },
  {
   "cell_type": "code",
   "execution_count": 11,
   "metadata": {
    "execution": {
     "iopub.execute_input": "2025-09-28T21:41:26.021500Z",
     "iopub.status.busy": "2025-09-28T21:41:26.021085Z",
     "iopub.status.idle": "2025-09-28T21:42:41.909468Z",
     "shell.execute_reply": "2025-09-28T21:42:41.908493Z",
     "shell.execute_reply.started": "2025-09-28T21:41:26.021477Z"
    },
    "trusted": true
   },
   "outputs": [
    {
     "data": {
      "application/vnd.jupyter.widget-view+json": {
       "model_id": "1601046851fe4496b7d5d151fa4d9c7a",
       "version_major": 2,
       "version_minor": 0
      },
      "text/plain": [
       "Batches:   0%|          | 0/1 [00:00<?, ?it/s]"
      ]
     },
     "metadata": {},
     "output_type": "display_data"
    },
    {
     "data": {
      "application/vnd.jupyter.widget-view+json": {
       "model_id": "a9446fa7ddae4bc88a39214b20bb7ba8",
       "version_major": 2,
       "version_minor": 0
      },
      "text/plain": [
       "Batches:   0%|          | 0/1 [00:00<?, ?it/s]"
      ]
     },
     "metadata": {},
     "output_type": "display_data"
    },
    {
     "data": {
      "application/vnd.jupyter.widget-view+json": {
       "model_id": "a4e0edc037f24263a26217cd88ee3c19",
       "version_major": 2,
       "version_minor": 0
      },
      "text/plain": [
       "Batches:   0%|          | 0/1 [00:00<?, ?it/s]"
      ]
     },
     "metadata": {},
     "output_type": "display_data"
    },
    {
     "data": {
      "application/vnd.jupyter.widget-view+json": {
       "model_id": "14170699bf5348aebb0c1cd691835c01",
       "version_major": 2,
       "version_minor": 0
      },
      "text/plain": [
       "Batches:   0%|          | 0/1 [00:00<?, ?it/s]"
      ]
     },
     "metadata": {},
     "output_type": "display_data"
    },
    {
     "data": {
      "application/vnd.jupyter.widget-view+json": {
       "model_id": "714f21c3f201489980438ef60d4704ec",
       "version_major": 2,
       "version_minor": 0
      },
      "text/plain": [
       "Batches:   0%|          | 0/1 [00:00<?, ?it/s]"
      ]
     },
     "metadata": {},
     "output_type": "display_data"
    },
    {
     "data": {
      "application/vnd.jupyter.widget-view+json": {
       "model_id": "ab3ac8d1287a422bb0f96d32bdbf6f50",
       "version_major": 2,
       "version_minor": 0
      },
      "text/plain": [
       "Batches:   0%|          | 0/1 [00:00<?, ?it/s]"
      ]
     },
     "metadata": {},
     "output_type": "display_data"
    },
    {
     "data": {
      "application/vnd.jupyter.widget-view+json": {
       "model_id": "c9265d0726fd4e8cb1681b5ff9d61ac7",
       "version_major": 2,
       "version_minor": 0
      },
      "text/plain": [
       "Batches:   0%|          | 0/1 [00:00<?, ?it/s]"
      ]
     },
     "metadata": {},
     "output_type": "display_data"
    },
    {
     "data": {
      "application/vnd.jupyter.widget-view+json": {
       "model_id": "ecafa6b5e49445b98a95de8297f7cc8b",
       "version_major": 2,
       "version_minor": 0
      },
      "text/plain": [
       "Batches:   0%|          | 0/1 [00:00<?, ?it/s]"
      ]
     },
     "metadata": {},
     "output_type": "display_data"
    },
    {
     "data": {
      "application/vnd.jupyter.widget-view+json": {
       "model_id": "a56782dee9dd4011a56ce306ffc07163",
       "version_major": 2,
       "version_minor": 0
      },
      "text/plain": [
       "Batches:   0%|          | 0/1 [00:00<?, ?it/s]"
      ]
     },
     "metadata": {},
     "output_type": "display_data"
    },
    {
     "name": "stdout",
     "output_type": "stream",
     "text": [
      "\n",
      "===== Resultados detallados =====\n",
      "\n",
      "                                               query  \\\n",
      "0  ¿Qué medidas contempla el POT 2025 de Palmira ...   \n",
      "1  ¿Cuáles son los lugares con amenazas por inund...   \n",
      "2  ¿Qué estudios complementarios se requieren en ...   \n",
      "\n",
      "                                            expected  \\\n",
      "0  El POT 2025 de Palmira aun no contempla medida...   \n",
      "1  Se identifican amenazas por inundación sitios ...   \n",
      "2  Se requieren estudios complementarios de Riesg...   \n",
      "\n",
      "                                              answer  sim_answer_expected  \\\n",
      "0  \\nResponde en ESPAÑOL usando ÚNICAMENTE la inf...                0.618   \n",
      "1  \\nResponde en ESPAÑOL usando ÚNICAMENTE la inf...                0.555   \n",
      "2  \\nResponde en ESPAÑOL usando ÚNICAMENTE la inf...                0.345   \n",
      "\n",
      "   sim_answer_context  relevant  recall@k  \n",
      "0               0.797      True      True  \n",
      "1               0.612     False      True  \n",
      "2               0.553     False      True  \n",
      "\n",
      "===== Resumen global =====\n",
      "\n",
      "                 index      mean\n",
      "0  sim_answer_expected  0.506000\n",
      "1   sim_answer_context  0.654000\n",
      "2             relevant  0.333333\n",
      "3             recall@k  1.000000\n"
     ]
    },
    {
     "data": {
      "image/png": "[encoded data removed]",
      "text/plain": [
       "<Figure size 800x500 with 1 Axes>"
      ]
     },
     "metadata": {},
     "output_type": "display_data"
    }
   ],
   "source": [
    "import matplotlib.pyplot as plt\n",
    "from sentence_transformers import SentenceTransformer, util\n",
    "import pandas as pd\n",
    "\n",
    "# Modelo de embeddings para evaluación\n",
    "eval_model = SentenceTransformer(\"sentence-transformers/paraphrase-multilingual-MiniLM-L12-v2\")\n",
    "\n",
    "# Queries y respuestas esperadas (ajusta según tu caso)\n",
    "test_queries = [\n",
    "    \"¿Qué medidas contempla el POT 2025 de Palmira frente a los movimientos en masa?\",\n",
    "    \"¿Cuáles son los lugares con amenazas por inundación identificadas?\",\n",
    "    \"¿Qué estudios complementarios se requieren en el DTS de formulación?\"\n",
    "]\n",
    "\n",
    "expected_answers = [\n",
    "    \"El POT 2025 de Palmira aun no contempla medidas de mitigación frente a movimientos en masa. Falta realizarlas\",\n",
    "    \"Se identifican amenazas por inundación sitios como Piles, La Dolores, Juanchito.\",\n",
    "    \"Se requieren estudios complementarios de Riesgo tecnologico, Incendios Forestales .\"\n",
    "]\n",
    "\n",
    "def evaluate_rag(qa, retriever, queries, expected, top_k=3, threshold=0.6):\n",
    "    results = []\n",
    "    for q, exp in zip(queries, expected):\n",
    "        docs = retriever.get_relevant_documents(q)\n",
    "        context = \" \".join([d.page_content for d in docs[:top_k]])\n",
    "        ans = qa.run(q)\n",
    "\n",
    "        emb_exp = eval_model.encode(exp, convert_to_tensor=True)\n",
    "        emb_ans = eval_model.encode(ans, convert_to_tensor=True)\n",
    "        emb_ctx = eval_model.encode(context, convert_to_tensor=True)\n",
    "\n",
    "        sim_ans_exp = float(util.cos_sim(emb_ans, emb_exp))\n",
    "        sim_ans_ctx = float(util.cos_sim(emb_ans, emb_ctx))\n",
    "\n",
    "        results.append({\n",
    "            \"query\": q,\n",
    "            \"expected\": exp,\n",
    "            \"answer\": ans[:250],\n",
    "            \"sim_answer_expected\": round(sim_ans_exp, 3),\n",
    "            \"sim_answer_context\": round(sim_ans_ctx, 3),\n",
    "            \"relevant\": sim_ans_exp >= threshold and sim_ans_ctx >= threshold,\n",
    "            \"recall@k\": len(docs) > 0\n",
    "        })\n",
    "    return pd.DataFrame(results)\n",
    "\n",
    "# Evaluación detallada\n",
    "df_eval_detail = evaluate_rag(qa, retriever, test_queries, expected_answers)\n",
    "\n",
    "# Resumen global (promedios)\n",
    "df_eval_summary = df_eval_detail.agg({\n",
    "    \"sim_answer_expected\": \"mean\",\n",
    "    \"sim_answer_context\": \"mean\",\n",
    "    \"relevant\": \"mean\",\n",
    "    \"recall@k\": \"mean\"\n",
    "}).to_frame(\"mean\").reset_index()\n",
    "\n",
    "print(\"\\n===== Resultados detallados =====\\n\")\n",
    "print(df_eval_detail)\n",
    "\n",
    "print(\"\\n===== Resumen global =====\\n\")\n",
    "print(df_eval_summary)\n",
    "\n",
    "\n",
    "# ============================\n",
    "# Visualización comparativa\n",
    "# ============================\n",
    "metrics = [\"sim_answer_expected\", \"sim_answer_context\", \"relevant\", \"recall@k\"]\n",
    "\n",
    "plt.figure(figsize=(8,5))\n",
    "plt.bar(df_eval_summary[\"index\"], df_eval_summary[\"mean\"], color=\"skyblue\")\n",
    "plt.title(\"Evaluación global del RAG\")\n",
    "plt.ylabel(\"Score promedio\")\n",
    "plt.ylim(0,1)\n",
    "plt.xticks(rotation=30)\n",
    "plt.grid(axis=\"y\", linestyle=\"--\", alpha=0.6)\n",
    "\n",
    "for i, val in enumerate(df_eval_summary[\"mean\"]):\n",
    "    plt.text(i, val+0.02, f\"{val:.2f}\", ha=\"center\")\n",
    "\n",
    "plt.show()\n"
   ]
  },
  {
   "cell_type": "markdown",
   "metadata": {},
   "source": [
    "# 11) DESPLIEGUE DEL RAG EN FORMA DE CHATBOT"
   ]
  },
  {
   "cell_type": "markdown",
   "metadata": {},
   "source": [
    "Finalmente se implementa una interfaz interactiva con Gradio para desplegar el sistema RAG en forma de chatbot. La función respond recibe una pregunta y un historial de chat, recupera los documentos relevantes mediante el retriever, y construye una lista de fuentes citando el archivo y la página de origen. Luego llama a la cadena qa para generar la respuesta, aplicando controles de calidad: elimina etiquetas redundantes como “Respuesta”, y si no encuentra información o el modelo tiende a alucinar, devuelve un mensaje por defecto (“No encontré esa información en los documentos”). El resultado se devuelve en un formato limpio, incluyendo tanto la respuesta como las fuentes consultadas. Por su parte, la función reset_chat permite reiniciar la conversación. Con gr.Blocks() se define la interfaz gráfica: un título, un chatbot interactivo, una caja de texto para ingresar preguntas y un botón para limpiar el historial. Al ejecutar demo.launch(share=True), se levanta la aplicación en un entorno accesible, incluso compartible desde Kaggle, lo que facilita probar el sistema en un modo conversacional y transparente en cuanto a fuentes."
   ]
  },
  {
   "cell_type": "code",
   "execution_count": 12,
   "metadata": {
    "execution": {
     "iopub.execute_input": "2025-09-28T21:42:41.911336Z",
     "iopub.status.busy": "2025-09-28T21:42:41.910535Z",
     "iopub.status.idle": "2025-09-28T21:42:48.243044Z",
     "shell.execute_reply": "2025-09-28T21:42:48.242402Z",
     "shell.execute_reply.started": "2025-09-28T21:42:41.911304Z"
    },
    "trusted": true
   },
   "outputs": [
    {
     "name": "stdout",
     "output_type": "stream",
     "text": [
      "* Running on local URL:  http://127.0.0.1:7860\n",
      "* Running on public URL: https://c7ce1449ea098fd920.gradio.live\n",
      "\n",
      "This share link expires in 1 week. For free permanent hosting and GPU upgrades, run `gradio deploy` from the terminal in the working directory to deploy to Hugging Face Spaces (https://huggingface.co/spaces)\n"
     ]
    },
    {
     "data": {
      "text/html": [
       "<div><iframe src=\"https://c7ce1449ea098fd920.gradio.live\" width=\"100%\" height=\"500\" allow=\"autoplay; camera; microphone; clipboard-read; clipboard-write;\" frameborder=\"0\" allowfullscreen></iframe></div>"
      ],
      "text/plain": [
       "<IPython.core.display.HTML object>"
      ]
     },
     "metadata": {},
     "output_type": "display_data"
    },
    {
     "data": {
      "text/plain": []
     },
     "execution_count": 12,
     "metadata": {},
     "output_type": "execute_result"
    }
   ],
   "source": [
    "import gradio as gr\n",
    "\n",
    "def respond(question, chat_history):\n",
    "    # Recuperar documentos relevantes\n",
    "    docs = retriever.get_relevant_documents(question)\n",
    "\n",
    "    if not docs:\n",
    "        answer = \"No encontré esa información en los documentos\"\n",
    "        sources = \"Ninguna fuente encontrada\"\n",
    "    else:\n",
    "        # Construir string con fuentes\n",
    "        sources_list = []\n",
    "        for d in docs:\n",
    "            source = d.metadata.get(\"source\", \"Desconocido\")\n",
    "            page = d.metadata.get(\"page\", \"N/A\")\n",
    "            sources_list.append(f\"📄 {source} - pág. {page}\")\n",
    "        sources = \"\\n\".join(sources_list)\n",
    "\n",
    "        # Llamar al RAG\n",
    "        raw_answer = qa.run(question).strip()\n",
    "\n",
    "        # Limpiar: si contiene \"Respuesta\" quedarnos con lo que sigue\n",
    "        if \"Respuesta\" in raw_answer:\n",
    "            answer = raw_answer.split(\"Respuesta\")[-1].strip()\n",
    "        else:\n",
    "            answer = raw_answer\n",
    "\n",
    "        # Si el modelo inventa o no devuelve nada, aplicar fallback\n",
    "        if not answer or answer.lower().startswith(\"responde en\"):\n",
    "            answer = \"No encontré esa información en los documentos\"\n",
    "\n",
    "    # Formato final\n",
    "    final_answer = f\"📘 **Respuesta:** {answer}\\n\\n📂 **Fuentes consultadas:**\\n{sources}\"\n",
    "\n",
    "    chat_history.append((question, final_answer))\n",
    "    return \"\", chat_history\n",
    "\n",
    "def reset_chat():\n",
    "    return []\n",
    "\n",
    "with gr.Blocks() as demo:\n",
    "    gr.Markdown(\"## 💬 Chatbot RAG (Modo Estricto)\")\n",
    "\n",
    "    chatbot = gr.Chatbot()\n",
    "    msg = gr.Textbox(\n",
    "        label=\"Pregunta:\",\n",
    "        placeholder=\"Haz tu consulta aquí sobre el POT...\",\n",
    "    )\n",
    "    clear = gr.Button(\"Limpiar\")\n",
    "\n",
    "    msg.submit(respond, [msg, chatbot], [msg, chatbot])\n",
    "    clear.click(reset_chat, None, chatbot, queue=False)\n",
    "\n",
    "# 🔹 Importante en Kaggle\n",
    "demo.launch(share=True)"
   ]
  },
  {
   "cell_type": "markdown",
   "metadata": {},
   "source": [
    "# CONCLUSIONES"
   ]
  },
  {
   "cell_type": "markdown",
   "metadata": {},
   "source": [
    "1. El taller permitió levantar un flujo RAG completo y funcional, que va desde la recolección de datos hasta la consulta final en un chatbot. Esto representa un avance importante en la capacidad de responder preguntas técnicas a partir de documentos propios.\n",
    "2. El sistema demostró que es capaz de localizar y citar fragmentos relevantes de los documentos, lo que da confianza al usuario al saber de dónde proviene cada respuesta.\n",
    "3. Aunque se observaron avances claros frente a pruebas iniciales, las respuestas generadas todavía presentan limitaciones, como repeticiones o frases poco precisas, lo que indica que el modelo necesita más ajuste.\n",
    "4. Al evaluar no solo con palabras clave sino también con similitud semántica, quedó en evidencia que el sistema todavía no logra captar completamente el sentido esperado de las respuestas, mostrando una brecha entre lo que recupera y lo que debería expresar.\n",
    "5. La implementación en Gradio permitió validar el sistema en una interfaz accesible, acercándolo a un uso real en contextos técnicos como el POT de Palmira, lo que muestra el potencial de la solución para apoyar procesos de consulta.\n",
    "6. Aunque se avanzó en robustez y coherencia, el sistema todavía depende mucho de la calidad y amplitud del corpus. Esto señala la importancia de enriquecer los datos, mejorar embeddings y explorar ajustes finos del modelo para alcanzar un rendimiento más confiable."
   ]
  },
  {
   "cell_type": "markdown",
   "metadata": {},
   "source": [
    "## 📷 Evidencia del Chatbot RAG\n",
    "\n",
    "La siguiente imagen muestra un ejemplo de interacción con el **chatbot RAG en modo estricto**, donde se observa la recuperación de fragmentos relevantes y la generación de respuestas acompañadas de sus fuentes."
   ]
  },
  {
   "cell_type": "code",
   "execution_count": 13,
   "metadata": {
    "execution": {
     "iopub.execute_input": "2025-09-28T21:42:48.244090Z",
     "iopub.status.busy": "2025-09-28T21:42:48.243801Z",
     "iopub.status.idle": "2025-09-28T21:42:52.025662Z",
     "shell.execute_reply": "2025-09-28T21:42:52.024694Z",
     "shell.execute_reply.started": "2025-09-28T21:42:48.244066Z"
    },
    "trusted": true
   },
   "outputs": [
    {
     "name": "stdout",
     "output_type": "stream",
     "text": [
      "📥 Descargando datos desde Google Drive...\n",
      "\n",
      "Retrieving folder contents\n",
      "Processing file 1azTRap_zH93tv2m77oo3KL0sbtCERtaC Eviddencia_ChatBot.JPG\n",
      "Retrieving folder contents completed\n",
      "Building directory structure\n",
      "Building directory structure completed\n",
      "Downloading...\n",
      "From: https://drive.google.com/uc?id=1azTRap_zH93tv2m77oo3KL0sbtCERtaC\n",
      "To: /kaggle/working/img_evidencias/Eviddencia_ChatBot.JPG\n",
      "100%|██████████████████████████████████████| 82.6k/82.6k [00:00<00:00, 73.4MB/s]\n",
      "Download completed\n",
      "/kaggle/working/img_evidencias/Eviddencia_ChatBot.JPG\n"
     ]
    },
    {
     "data": {
      "image/jpeg": "[encoded data removed]",
      "text/plain": [
       "<IPython.core.display.Image object>"
      ]
     },
     "metadata": {},
     "output_type": "display_data"
    }
   ],
   "source": [
    "drive_url = \"https://drive.google.com/drive/folders/164HzbFJ4F-RdysWEhp-6UlRk_4PP-zKb?usp=drive_link\"\n",
    "base_path = \"/kaggle/working/img_evidencias\"\n",
    "\n",
    "if not os.path.exists(base_path) or not any(os.scandir(base_path)):\n",
    "    print(\"📥 Descargando datos desde Google Drive...\\n\")\n",
    "    !gdown --folder \"{drive_url}\" -O {base_path} --remaining-ok\n",
    "else:\n",
    "    print(\"✅ Datos ya descargados. No se necesita volver a bajar.\")\n",
    "\n",
    "# Listar archivos encontrados\n",
    "for root, dirs, files in os.walk(base_path):\n",
    "    for f in files:\n",
    "        print(os.path.join(root, f))\n",
    "\n",
    "\n",
    "from IPython.display import Image, display\n",
    "\n",
    "display(Image(filename=\"/kaggle/working/img_evidencias/Eviddencia_ChatBot.JPG\"))"
   ]
  },
  {
   "cell_type": "markdown",
   "metadata": {},
   "source": [
    "\n"
   ]
  }
 ],
 "metadata": {
  "kaggle": {
   "accelerator": "gpu",
   "dataSources": [],
   "dockerImageVersionId": 31090,
   "isGpuEnabled": true,
   "isInternetEnabled": true,
   "language": "python",
   "sourceType": "notebook"
  },
  "kernelspec": {
   "display_name": "Python 3",
   "language": "python",
   "name": "python3"
  },
  "language_info": {
   "codemirror_mode": {
    "name": "ipython",
    "version": 3
   },
   "file_extension": ".py",
   "mimetype": "text/x-python",
   "name": "python",
   "nbconvert_exporter": "python",
   "pygments_lexer": "ipython3",
   "version": "3.11.13"
  }
 },
 "nbformat": 4,
 "nbformat_minor": 4
}
