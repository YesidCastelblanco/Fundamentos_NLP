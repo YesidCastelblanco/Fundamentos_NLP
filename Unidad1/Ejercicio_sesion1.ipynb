{
  "nbformat": 4,
  "nbformat_minor": 0,
  "metadata": {
    "colab": {
      "provenance": [],
      "gpuType": "T4"
    },
    "kernelspec": {
      "name": "python3",
      "display_name": "Python 3"
    },
    "language_info": {
      "name": "python"
    },
    "accelerator": "GPU"
  },
  "cells": [
    {
      "cell_type": "markdown",
      "source": [
        "---\n",
        "\n",
        "<div style=\"text-align: center; font-family: Arial, sans-serif; margin-top: 50px;\">\n",
        "    <h1 style=\"font-size: 36px; font-weight: bold;\"><b>Prácticas de NLP</b></h1>\n",
        "    <h2 style=\"font-size: 28px; color: #2E86C1;\"><b>NLP Basics Assessment  -  Clasificación de Sentimientos en Críticas de Películas</b></h2>\n",
        "    <p style=\"font-size: 20px; margin-top: 30px;\">\n",
        "        <b>Materia:</b> Procesamiento de Lenguaje Natural<br>\n",
        "        <b>Estudiantes:</b> Albin Rivera y Yesid Castelblanco<br>\n",
        "        <b>Fecha:</b> 16 de Agosto de 2025\n",
        "    </p>\n",
        "</div>\n",
        "\n",
        "---"
      ],
      "metadata": {
        "id": "NwEThRjMT4H2"
      }
    },
    {
      "cell_type": "markdown",
      "source": [
        "# **Configuración del Entorno y Preparación de Librerías**\n",
        "---"
      ],
      "metadata": {
        "id": "_IXarrBUfS5U"
      }
    },
    {
      "cell_type": "markdown",
      "source": [
        "**Importación de librerías necesarias para las dos prácticas**\n",
        "\n",
        "---"
      ],
      "metadata": {
        "id": "sJsvNEOHfOqe"
      }
    },
    {
      "cell_type": "code",
      "source": [
        "import warnings                     # Para manejar y suprimir mensajes de advertencia\n",
        "import spacy                        # Librería de Procesamiento de Lenguaje Natural (NLP)\n",
        "import re                           # Librería para trabajar con expresiones regulares, permite buscar, extraer y manipular patrones de texto de manera eficiente.\n",
        "from spacy.matcher import Matcher   # Herramienta de SpaCy para definir y buscar patrones en el texto\n",
        "import pkg_resources                # Para manejar recursos y dependencias de paquetes\n",
        "import pandas as pd                 # Manipulación y análisis de datos en estructuras tipo DataFrame\n",
        "import numpy as np                  # Operaciones numéricas y manejo de arreglos\n",
        "import nltk                         # Librería para procesamiento de lenguaje natural\n",
        "from nltk.sentiment.vader import SentimentIntensityAnalyzer  # Analizador de sentimiento VADER\n",
        "from sklearn.metrics import accuracy_score, confusion_matrix, classification_report     # Métricas de evaluación para modelos de clasificación\n",
        "import pkg_resources                # Permite acceder a recursos dentro de paquetes Python, verificar versiones de librerías y manejar dependencias de manera programática."
      ],
      "metadata": {
        "id": "lP-QxoelT3RV",
        "colab": {
          "base_uri": "https://localhost:8080/"
        },
        "outputId": "bc90903d-68d8-4070-9159-85c43d5ccfca"
      },
      "execution_count": 1,
      "outputs": [
        {
          "output_type": "stream",
          "name": "stderr",
          "text": [
            "/tmp/ipython-input-1440700270.py:5: DeprecationWarning: pkg_resources is deprecated as an API. See https://setuptools.pypa.io/en/latest/pkg_resources.html\n",
            "  import pkg_resources                # Para manejar recursos y dependencias de paquetes\n"
          ]
        }
      ]
    },
    {
      "cell_type": "code",
      "source": [
        "warnings.filterwarnings('ignore')   # Desactiva las advertencias para mantener la salida más limpia"
      ],
      "metadata": {
        "id": "Do5faIGtc44H"
      },
      "execution_count": 2,
      "outputs": []
    },
    {
      "cell_type": "markdown",
      "source": [
        "**Detección de entorno y configuración automática de dependencias en Google Colab**\n",
        "\n",
        "---"
      ],
      "metadata": {
        "id": "Uj7vEvHP7mw7"
      }
    },
    {
      "cell_type": "markdown",
      "source": [
        "<div align=\"justify\">\n",
        "Este bloque tiene como función principal detectar si el entorno de ejecución es Google Colab y, en caso afirmativo, instalar automáticamente las dependencias necesarias desde un archivo requirements.txt alojado en GitHub.\n",
        "</div>"
      ],
      "metadata": {
        "id": "RhUzcE4ZEYhd"
      }
    },
    {
      "cell_type": "code",
      "source": [
        "try:\n",
        "    import google.colab\n",
        "    IN_COLAB = True\n",
        "except ImportError:\n",
        "    IN_COLAB = False\n",
        "\n",
        "print(\"¿Ejecutando en Google Colab?:\", IN_COLAB)\n",
        "\n",
        "if IN_COLAB:\n",
        "    !wget https://raw.githubusercontent.com/YesidCastelblanco/Fundamentos_NLP/main/requirements.txt -O requirements.txt\n",
        "    !pip install -r requirements.txt\n",
        "else:\n",
        "    print(\"No estás en Google Colab. No se instalarán dependencias automáticamente.\")\n"
      ],
      "metadata": {
        "colab": {
          "base_uri": "https://localhost:8080/"
        },
        "id": "TiQLZakbI0wK",
        "outputId": "4e0c3293-86a6-43e4-aa58-0cb3885c9796"
      },
      "execution_count": 3,
      "outputs": [
        {
          "output_type": "stream",
          "name": "stdout",
          "text": [
            "¿Ejecutando en Google Colab?: True\n",
            "--2025-08-16 16:38:01--  https://raw.githubusercontent.com/YesidCastelblanco/Fundamentos_NLP/main/requirements.txt\n",
            "Resolving raw.githubusercontent.com (raw.githubusercontent.com)... 185.199.108.133, 185.199.109.133, 185.199.110.133, ...\n",
            "Connecting to raw.githubusercontent.com (raw.githubusercontent.com)|185.199.108.133|:443... connected.\n",
            "HTTP request sent, awaiting response... 200 OK\n",
            "Length: 350 [text/plain]\n",
            "Saving to: ‘requirements.txt’\n",
            "\n",
            "\rrequirements.txt      0%[                    ]       0  --.-KB/s               \rrequirements.txt    100%[===================>]     350  --.-KB/s    in 0s      \n",
            "\n",
            "2025-08-16 16:38:01 (9.57 MB/s) - ‘requirements.txt’ saved [350/350]\n",
            "\n",
            "Requirement already satisfied: pandas>=2.2.2 in /usr/local/lib/python3.11/dist-packages (from -r requirements.txt (line 1)) (2.2.2)\n",
            "Requirement already satisfied: matplotlib>=3.8.0 in /usr/local/lib/python3.11/dist-packages (from -r requirements.txt (line 2)) (3.10.0)\n",
            "Requirement already satisfied: seaborn>=0.12.2 in /usr/local/lib/python3.11/dist-packages (from -r requirements.txt (line 3)) (0.13.2)\n",
            "Requirement already satisfied: scikit-learn>=1.3.2 in /usr/local/lib/python3.11/dist-packages (from -r requirements.txt (line 4)) (1.6.1)\n",
            "Requirement already satisfied: statsmodels>=0.14.0 in /usr/local/lib/python3.11/dist-packages (from -r requirements.txt (line 5)) (0.14.5)\n",
            "Requirement already satisfied: tqdm>=4.67.0 in /usr/local/lib/python3.11/dist-packages (from -r requirements.txt (line 6)) (4.67.1)\n",
            "Requirement already satisfied: torch>=2.6.0 in /usr/local/lib/python3.11/dist-packages (from -r requirements.txt (line 7)) (2.6.0+cu124)\n",
            "Requirement already satisfied: lightning>=2.2.0.post0 in /usr/local/lib/python3.11/dist-packages (from -r requirements.txt (line 8)) (2.5.3)\n",
            "Requirement already satisfied: tensorboard>=2.19.0 in /usr/local/lib/python3.11/dist-packages (from -r requirements.txt (line 9)) (2.19.0)\n",
            "Requirement already satisfied: bokeh>=3.5.0 in /usr/local/lib/python3.11/dist-packages (from -r requirements.txt (line 10)) (3.7.3)\n",
            "Requirement already satisfied: transformers>=4.41.2 in /usr/local/lib/python3.11/dist-packages (from transformers[torch]>=4.41.2->-r requirements.txt (line 11)) (4.55.1)\n",
            "Requirement already satisfied: datasets>=2.19.1 in /usr/local/lib/python3.11/dist-packages (from -r requirements.txt (line 12)) (4.0.0)\n",
            "Requirement already satisfied: torchinfo>=1.8.0 in /usr/local/lib/python3.11/dist-packages (from -r requirements.txt (line 13)) (1.8.0)\n",
            "Requirement already satisfied: accelerate>=0.30.1 in /usr/local/lib/python3.11/dist-packages (from -r requirements.txt (line 14)) (1.10.0)\n",
            "Requirement already satisfied: evaluate>=0.4.2 in /usr/local/lib/python3.11/dist-packages (from -r requirements.txt (line 15)) (0.4.5)\n",
            "Requirement already satisfied: sentence-transformers>=3.0.1 in /usr/local/lib/python3.11/dist-packages (from -r requirements.txt (line 16)) (5.1.0)\n",
            "Requirement already satisfied: gradio>=4.36.1 in /usr/local/lib/python3.11/dist-packages (from -r requirements.txt (line 17)) (5.42.0)\n",
            "Requirement already satisfied: ollama>=0.2.1 in /usr/local/lib/python3.11/dist-packages (from -r requirements.txt (line 18)) (0.5.3)\n",
            "Requirement already satisfied: spacy>=3.8.7 in /usr/local/lib/python3.11/dist-packages (from -r requirements.txt (line 19)) (3.8.7)\n",
            "Requirement already satisfied: nltk>=3.9.1 in /usr/local/lib/python3.11/dist-packages (from -r requirements.txt (line 20)) (3.9.1)\n",
            "Requirement already satisfied: numpy>=1.23.2 in /usr/local/lib/python3.11/dist-packages (from pandas>=2.2.2->-r requirements.txt (line 1)) (2.0.2)\n",
            "Requirement already satisfied: python-dateutil>=2.8.2 in /usr/local/lib/python3.11/dist-packages (from pandas>=2.2.2->-r requirements.txt (line 1)) (2.9.0.post0)\n",
            "Requirement already satisfied: pytz>=2020.1 in /usr/local/lib/python3.11/dist-packages (from pandas>=2.2.2->-r requirements.txt (line 1)) (2025.2)\n",
            "Requirement already satisfied: tzdata>=2022.7 in /usr/local/lib/python3.11/dist-packages (from pandas>=2.2.2->-r requirements.txt (line 1)) (2025.2)\n",
            "Requirement already satisfied: contourpy>=1.0.1 in /usr/local/lib/python3.11/dist-packages (from matplotlib>=3.8.0->-r requirements.txt (line 2)) (1.3.3)\n",
            "Requirement already satisfied: cycler>=0.10 in /usr/local/lib/python3.11/dist-packages (from matplotlib>=3.8.0->-r requirements.txt (line 2)) (0.12.1)\n",
            "Requirement already satisfied: fonttools>=4.22.0 in /usr/local/lib/python3.11/dist-packages (from matplotlib>=3.8.0->-r requirements.txt (line 2)) (4.59.0)\n",
            "Requirement already satisfied: kiwisolver>=1.3.1 in /usr/local/lib/python3.11/dist-packages (from matplotlib>=3.8.0->-r requirements.txt (line 2)) (1.4.9)\n",
            "Requirement already satisfied: packaging>=20.0 in /usr/local/lib/python3.11/dist-packages (from matplotlib>=3.8.0->-r requirements.txt (line 2)) (25.0)\n",
            "Requirement already satisfied: pillow>=8 in /usr/local/lib/python3.11/dist-packages (from matplotlib>=3.8.0->-r requirements.txt (line 2)) (11.3.0)\n",
            "Requirement already satisfied: pyparsing>=2.3.1 in /usr/local/lib/python3.11/dist-packages (from matplotlib>=3.8.0->-r requirements.txt (line 2)) (3.2.3)\n",
            "Requirement already satisfied: scipy>=1.6.0 in /usr/local/lib/python3.11/dist-packages (from scikit-learn>=1.3.2->-r requirements.txt (line 4)) (1.16.1)\n",
            "Requirement already satisfied: joblib>=1.2.0 in /usr/local/lib/python3.11/dist-packages (from scikit-learn>=1.3.2->-r requirements.txt (line 4)) (1.5.1)\n",
            "Requirement already satisfied: threadpoolctl>=3.1.0 in /usr/local/lib/python3.11/dist-packages (from scikit-learn>=1.3.2->-r requirements.txt (line 4)) (3.6.0)\n",
            "Requirement already satisfied: patsy>=0.5.6 in /usr/local/lib/python3.11/dist-packages (from statsmodels>=0.14.0->-r requirements.txt (line 5)) (1.0.1)\n",
            "Requirement already satisfied: filelock in /usr/local/lib/python3.11/dist-packages (from torch>=2.6.0->-r requirements.txt (line 7)) (3.18.0)\n",
            "Requirement already satisfied: typing-extensions>=4.10.0 in /usr/local/lib/python3.11/dist-packages (from torch>=2.6.0->-r requirements.txt (line 7)) (4.14.1)\n",
            "Requirement already satisfied: networkx in /usr/local/lib/python3.11/dist-packages (from torch>=2.6.0->-r requirements.txt (line 7)) (3.5)\n",
            "Requirement already satisfied: jinja2 in /usr/local/lib/python3.11/dist-packages (from torch>=2.6.0->-r requirements.txt (line 7)) (3.1.6)\n",
            "Requirement already satisfied: fsspec in /usr/local/lib/python3.11/dist-packages (from torch>=2.6.0->-r requirements.txt (line 7)) (2025.3.0)\n",
            "Requirement already satisfied: nvidia-cuda-nvrtc-cu12==12.4.127 in /usr/local/lib/python3.11/dist-packages (from torch>=2.6.0->-r requirements.txt (line 7)) (12.4.127)\n",
            "Requirement already satisfied: nvidia-cuda-runtime-cu12==12.4.127 in /usr/local/lib/python3.11/dist-packages (from torch>=2.6.0->-r requirements.txt (line 7)) (12.4.127)\n",
            "Requirement already satisfied: nvidia-cuda-cupti-cu12==12.4.127 in /usr/local/lib/python3.11/dist-packages (from torch>=2.6.0->-r requirements.txt (line 7)) (12.4.127)\n",
            "Requirement already satisfied: nvidia-cudnn-cu12==9.1.0.70 in /usr/local/lib/python3.11/dist-packages (from torch>=2.6.0->-r requirements.txt (line 7)) (9.1.0.70)\n",
            "Requirement already satisfied: nvidia-cublas-cu12==12.4.5.8 in /usr/local/lib/python3.11/dist-packages (from torch>=2.6.0->-r requirements.txt (line 7)) (12.4.5.8)\n",
            "Requirement already satisfied: nvidia-cufft-cu12==11.2.1.3 in /usr/local/lib/python3.11/dist-packages (from torch>=2.6.0->-r requirements.txt (line 7)) (11.2.1.3)\n",
            "Requirement already satisfied: nvidia-curand-cu12==10.3.5.147 in /usr/local/lib/python3.11/dist-packages (from torch>=2.6.0->-r requirements.txt (line 7)) (10.3.5.147)\n",
            "Requirement already satisfied: nvidia-cusolver-cu12==11.6.1.9 in /usr/local/lib/python3.11/dist-packages (from torch>=2.6.0->-r requirements.txt (line 7)) (11.6.1.9)\n",
            "Requirement already satisfied: nvidia-cusparse-cu12==12.3.1.170 in /usr/local/lib/python3.11/dist-packages (from torch>=2.6.0->-r requirements.txt (line 7)) (12.3.1.170)\n",
            "Requirement already satisfied: nvidia-cusparselt-cu12==0.6.2 in /usr/local/lib/python3.11/dist-packages (from torch>=2.6.0->-r requirements.txt (line 7)) (0.6.2)\n",
            "Requirement already satisfied: nvidia-nccl-cu12==2.21.5 in /usr/local/lib/python3.11/dist-packages (from torch>=2.6.0->-r requirements.txt (line 7)) (2.21.5)\n",
            "Requirement already satisfied: nvidia-nvtx-cu12==12.4.127 in /usr/local/lib/python3.11/dist-packages (from torch>=2.6.0->-r requirements.txt (line 7)) (12.4.127)\n",
            "Requirement already satisfied: nvidia-nvjitlink-cu12==12.4.127 in /usr/local/lib/python3.11/dist-packages (from torch>=2.6.0->-r requirements.txt (line 7)) (12.4.127)\n",
            "Requirement already satisfied: triton==3.2.0 in /usr/local/lib/python3.11/dist-packages (from torch>=2.6.0->-r requirements.txt (line 7)) (3.2.0)\n",
            "Requirement already satisfied: sympy==1.13.1 in /usr/local/lib/python3.11/dist-packages (from torch>=2.6.0->-r requirements.txt (line 7)) (1.13.1)\n",
            "Requirement already satisfied: mpmath<1.4,>=1.1.0 in /usr/local/lib/python3.11/dist-packages (from sympy==1.13.1->torch>=2.6.0->-r requirements.txt (line 7)) (1.3.0)\n",
            "Requirement already satisfied: PyYAML<8.0,>5.4 in /usr/local/lib/python3.11/dist-packages (from lightning>=2.2.0.post0->-r requirements.txt (line 8)) (6.0.2)\n",
            "Requirement already satisfied: lightning-utilities<2.0,>=0.10.0 in /usr/local/lib/python3.11/dist-packages (from lightning>=2.2.0.post0->-r requirements.txt (line 8)) (0.15.2)\n",
            "Requirement already satisfied: torchmetrics<3.0,>0.7.0 in /usr/local/lib/python3.11/dist-packages (from lightning>=2.2.0.post0->-r requirements.txt (line 8)) (1.8.1)\n",
            "Requirement already satisfied: pytorch-lightning in /usr/local/lib/python3.11/dist-packages (from lightning>=2.2.0.post0->-r requirements.txt (line 8)) (2.5.3)\n",
            "Requirement already satisfied: absl-py>=0.4 in /usr/local/lib/python3.11/dist-packages (from tensorboard>=2.19.0->-r requirements.txt (line 9)) (1.4.0)\n",
            "Requirement already satisfied: grpcio>=1.48.2 in /usr/local/lib/python3.11/dist-packages (from tensorboard>=2.19.0->-r requirements.txt (line 9)) (1.74.0)\n",
            "Requirement already satisfied: markdown>=2.6.8 in /usr/local/lib/python3.11/dist-packages (from tensorboard>=2.19.0->-r requirements.txt (line 9)) (3.8.2)\n",
            "Requirement already satisfied: protobuf!=4.24.0,>=3.19.6 in /usr/local/lib/python3.11/dist-packages (from tensorboard>=2.19.0->-r requirements.txt (line 9)) (5.29.5)\n",
            "Requirement already satisfied: setuptools>=41.0.0 in /usr/local/lib/python3.11/dist-packages (from tensorboard>=2.19.0->-r requirements.txt (line 9)) (75.2.0)\n",
            "Requirement already satisfied: six>1.9 in /usr/local/lib/python3.11/dist-packages (from tensorboard>=2.19.0->-r requirements.txt (line 9)) (1.17.0)\n",
            "Requirement already satisfied: tensorboard-data-server<0.8.0,>=0.7.0 in /usr/local/lib/python3.11/dist-packages (from tensorboard>=2.19.0->-r requirements.txt (line 9)) (0.7.2)\n",
            "Requirement already satisfied: werkzeug>=1.0.1 in /usr/local/lib/python3.11/dist-packages (from tensorboard>=2.19.0->-r requirements.txt (line 9)) (3.1.3)\n",
            "Requirement already satisfied: narwhals>=1.13 in /usr/local/lib/python3.11/dist-packages (from bokeh>=3.5.0->-r requirements.txt (line 10)) (2.1.1)\n",
            "Requirement already satisfied: tornado>=6.2 in /usr/local/lib/python3.11/dist-packages (from bokeh>=3.5.0->-r requirements.txt (line 10)) (6.4.2)\n",
            "Requirement already satisfied: xyzservices>=2021.09.1 in /usr/local/lib/python3.11/dist-packages (from bokeh>=3.5.0->-r requirements.txt (line 10)) (2025.4.0)\n",
            "Requirement already satisfied: huggingface-hub<1.0,>=0.34.0 in /usr/local/lib/python3.11/dist-packages (from transformers>=4.41.2->transformers[torch]>=4.41.2->-r requirements.txt (line 11)) (0.34.4)\n",
            "Requirement already satisfied: regex!=2019.12.17 in /usr/local/lib/python3.11/dist-packages (from transformers>=4.41.2->transformers[torch]>=4.41.2->-r requirements.txt (line 11)) (2024.11.6)\n",
            "Requirement already satisfied: requests in /usr/local/lib/python3.11/dist-packages (from transformers>=4.41.2->transformers[torch]>=4.41.2->-r requirements.txt (line 11)) (2.32.3)\n",
            "Requirement already satisfied: tokenizers<0.22,>=0.21 in /usr/local/lib/python3.11/dist-packages (from transformers>=4.41.2->transformers[torch]>=4.41.2->-r requirements.txt (line 11)) (0.21.4)\n",
            "Requirement already satisfied: safetensors>=0.4.3 in /usr/local/lib/python3.11/dist-packages (from transformers>=4.41.2->transformers[torch]>=4.41.2->-r requirements.txt (line 11)) (0.6.2)\n",
            "Requirement already satisfied: pyarrow>=15.0.0 in /usr/local/lib/python3.11/dist-packages (from datasets>=2.19.1->-r requirements.txt (line 12)) (18.1.0)\n",
            "Requirement already satisfied: dill<0.3.9,>=0.3.0 in /usr/local/lib/python3.11/dist-packages (from datasets>=2.19.1->-r requirements.txt (line 12)) (0.3.8)\n",
            "Requirement already satisfied: xxhash in /usr/local/lib/python3.11/dist-packages (from datasets>=2.19.1->-r requirements.txt (line 12)) (3.5.0)\n",
            "Requirement already satisfied: multiprocess<0.70.17 in /usr/local/lib/python3.11/dist-packages (from datasets>=2.19.1->-r requirements.txt (line 12)) (0.70.16)\n",
            "Requirement already satisfied: psutil in /usr/local/lib/python3.11/dist-packages (from accelerate>=0.30.1->-r requirements.txt (line 14)) (5.9.5)\n",
            "Requirement already satisfied: aiofiles<25.0,>=22.0 in /usr/local/lib/python3.11/dist-packages (from gradio>=4.36.1->-r requirements.txt (line 17)) (24.1.0)\n",
            "Requirement already satisfied: anyio<5.0,>=3.0 in /usr/local/lib/python3.11/dist-packages (from gradio>=4.36.1->-r requirements.txt (line 17)) (4.10.0)\n",
            "Requirement already satisfied: brotli>=1.1.0 in /usr/local/lib/python3.11/dist-packages (from gradio>=4.36.1->-r requirements.txt (line 17)) (1.1.0)\n",
            "Requirement already satisfied: fastapi<1.0,>=0.115.2 in /usr/local/lib/python3.11/dist-packages (from gradio>=4.36.1->-r requirements.txt (line 17)) (0.116.1)\n",
            "Requirement already satisfied: ffmpy in /usr/local/lib/python3.11/dist-packages (from gradio>=4.36.1->-r requirements.txt (line 17)) (0.6.1)\n",
            "Requirement already satisfied: gradio-client==1.11.1 in /usr/local/lib/python3.11/dist-packages (from gradio>=4.36.1->-r requirements.txt (line 17)) (1.11.1)\n",
            "Requirement already satisfied: groovy~=0.1 in /usr/local/lib/python3.11/dist-packages (from gradio>=4.36.1->-r requirements.txt (line 17)) (0.1.2)\n",
            "Requirement already satisfied: httpx<1.0,>=0.24.1 in /usr/local/lib/python3.11/dist-packages (from gradio>=4.36.1->-r requirements.txt (line 17)) (0.28.1)\n",
            "Requirement already satisfied: markupsafe<4.0,>=2.0 in /usr/local/lib/python3.11/dist-packages (from gradio>=4.36.1->-r requirements.txt (line 17)) (3.0.2)\n",
            "Requirement already satisfied: orjson~=3.0 in /usr/local/lib/python3.11/dist-packages (from gradio>=4.36.1->-r requirements.txt (line 17)) (3.11.2)\n",
            "Requirement already satisfied: pydantic<2.12,>=2.0 in /usr/local/lib/python3.11/dist-packages (from gradio>=4.36.1->-r requirements.txt (line 17)) (2.11.7)\n",
            "Requirement already satisfied: pydub in /usr/local/lib/python3.11/dist-packages (from gradio>=4.36.1->-r requirements.txt (line 17)) (0.25.1)\n",
            "Requirement already satisfied: python-multipart>=0.0.18 in /usr/local/lib/python3.11/dist-packages (from gradio>=4.36.1->-r requirements.txt (line 17)) (0.0.20)\n",
            "Requirement already satisfied: ruff>=0.9.3 in /usr/local/lib/python3.11/dist-packages (from gradio>=4.36.1->-r requirements.txt (line 17)) (0.12.8)\n",
            "Requirement already satisfied: safehttpx<0.2.0,>=0.1.6 in /usr/local/lib/python3.11/dist-packages (from gradio>=4.36.1->-r requirements.txt (line 17)) (0.1.6)\n",
            "Requirement already satisfied: semantic-version~=2.0 in /usr/local/lib/python3.11/dist-packages (from gradio>=4.36.1->-r requirements.txt (line 17)) (2.10.0)\n",
            "Requirement already satisfied: starlette<1.0,>=0.40.0 in /usr/local/lib/python3.11/dist-packages (from gradio>=4.36.1->-r requirements.txt (line 17)) (0.47.2)\n",
            "Requirement already satisfied: tomlkit<0.14.0,>=0.12.0 in /usr/local/lib/python3.11/dist-packages (from gradio>=4.36.1->-r requirements.txt (line 17)) (0.13.3)\n",
            "Requirement already satisfied: typer<1.0,>=0.12 in /usr/local/lib/python3.11/dist-packages (from gradio>=4.36.1->-r requirements.txt (line 17)) (0.16.0)\n",
            "Requirement already satisfied: uvicorn>=0.14.0 in /usr/local/lib/python3.11/dist-packages (from gradio>=4.36.1->-r requirements.txt (line 17)) (0.35.0)\n",
            "Requirement already satisfied: websockets<16.0,>=10.0 in /usr/local/lib/python3.11/dist-packages (from gradio-client==1.11.1->gradio>=4.36.1->-r requirements.txt (line 17)) (15.0.1)\n",
            "Requirement already satisfied: spacy-legacy<3.1.0,>=3.0.11 in /usr/local/lib/python3.11/dist-packages (from spacy>=3.8.7->-r requirements.txt (line 19)) (3.0.12)\n",
            "Requirement already satisfied: spacy-loggers<2.0.0,>=1.0.0 in /usr/local/lib/python3.11/dist-packages (from spacy>=3.8.7->-r requirements.txt (line 19)) (1.0.5)\n",
            "Requirement already satisfied: murmurhash<1.1.0,>=0.28.0 in /usr/local/lib/python3.11/dist-packages (from spacy>=3.8.7->-r requirements.txt (line 19)) (1.0.13)\n",
            "Requirement already satisfied: cymem<2.1.0,>=2.0.2 in /usr/local/lib/python3.11/dist-packages (from spacy>=3.8.7->-r requirements.txt (line 19)) (2.0.11)\n",
            "Requirement already satisfied: preshed<3.1.0,>=3.0.2 in /usr/local/lib/python3.11/dist-packages (from spacy>=3.8.7->-r requirements.txt (line 19)) (3.0.10)\n",
            "Requirement already satisfied: thinc<8.4.0,>=8.3.4 in /usr/local/lib/python3.11/dist-packages (from spacy>=3.8.7->-r requirements.txt (line 19)) (8.3.6)\n",
            "Requirement already satisfied: wasabi<1.2.0,>=0.9.1 in /usr/local/lib/python3.11/dist-packages (from spacy>=3.8.7->-r requirements.txt (line 19)) (1.1.3)\n",
            "Requirement already satisfied: srsly<3.0.0,>=2.4.3 in /usr/local/lib/python3.11/dist-packages (from spacy>=3.8.7->-r requirements.txt (line 19)) (2.5.1)\n",
            "Requirement already satisfied: catalogue<2.1.0,>=2.0.6 in /usr/local/lib/python3.11/dist-packages (from spacy>=3.8.7->-r requirements.txt (line 19)) (2.0.10)\n",
            "Requirement already satisfied: weasel<0.5.0,>=0.1.0 in /usr/local/lib/python3.11/dist-packages (from spacy>=3.8.7->-r requirements.txt (line 19)) (0.4.1)\n",
            "Requirement already satisfied: langcodes<4.0.0,>=3.2.0 in /usr/local/lib/python3.11/dist-packages (from spacy>=3.8.7->-r requirements.txt (line 19)) (3.5.0)\n",
            "Requirement already satisfied: click in /usr/local/lib/python3.11/dist-packages (from nltk>=3.9.1->-r requirements.txt (line 20)) (8.2.1)\n",
            "Requirement already satisfied: idna>=2.8 in /usr/local/lib/python3.11/dist-packages (from anyio<5.0,>=3.0->gradio>=4.36.1->-r requirements.txt (line 17)) (3.10)\n",
            "Requirement already satisfied: sniffio>=1.1 in /usr/local/lib/python3.11/dist-packages (from anyio<5.0,>=3.0->gradio>=4.36.1->-r requirements.txt (line 17)) (1.3.1)\n",
            "Requirement already satisfied: aiohttp!=4.0.0a0,!=4.0.0a1 in /usr/local/lib/python3.11/dist-packages (from fsspec[http]<2027.0,>=2022.5.0->lightning>=2.2.0.post0->-r requirements.txt (line 8)) (3.12.15)\n",
            "Requirement already satisfied: certifi in /usr/local/lib/python3.11/dist-packages (from httpx<1.0,>=0.24.1->gradio>=4.36.1->-r requirements.txt (line 17)) (2025.8.3)\n",
            "Requirement already satisfied: httpcore==1.* in /usr/local/lib/python3.11/dist-packages (from httpx<1.0,>=0.24.1->gradio>=4.36.1->-r requirements.txt (line 17)) (1.0.9)\n",
            "Requirement already satisfied: h11>=0.16 in /usr/local/lib/python3.11/dist-packages (from httpcore==1.*->httpx<1.0,>=0.24.1->gradio>=4.36.1->-r requirements.txt (line 17)) (0.16.0)\n",
            "Requirement already satisfied: hf-xet<2.0.0,>=1.1.3 in /usr/local/lib/python3.11/dist-packages (from huggingface-hub<1.0,>=0.34.0->transformers>=4.41.2->transformers[torch]>=4.41.2->-r requirements.txt (line 11)) (1.1.7)\n",
            "Requirement already satisfied: language-data>=1.2 in /usr/local/lib/python3.11/dist-packages (from langcodes<4.0.0,>=3.2.0->spacy>=3.8.7->-r requirements.txt (line 19)) (1.3.0)\n",
            "Requirement already satisfied: annotated-types>=0.6.0 in /usr/local/lib/python3.11/dist-packages (from pydantic<2.12,>=2.0->gradio>=4.36.1->-r requirements.txt (line 17)) (0.7.0)\n",
            "Requirement already satisfied: pydantic-core==2.33.2 in /usr/local/lib/python3.11/dist-packages (from pydantic<2.12,>=2.0->gradio>=4.36.1->-r requirements.txt (line 17)) (2.33.2)\n",
            "Requirement already satisfied: typing-inspection>=0.4.0 in /usr/local/lib/python3.11/dist-packages (from pydantic<2.12,>=2.0->gradio>=4.36.1->-r requirements.txt (line 17)) (0.4.1)\n",
            "Requirement already satisfied: charset-normalizer<4,>=2 in /usr/local/lib/python3.11/dist-packages (from requests->transformers>=4.41.2->transformers[torch]>=4.41.2->-r requirements.txt (line 11)) (3.4.3)\n",
            "Requirement already satisfied: urllib3<3,>=1.21.1 in /usr/local/lib/python3.11/dist-packages (from requests->transformers>=4.41.2->transformers[torch]>=4.41.2->-r requirements.txt (line 11)) (2.5.0)\n",
            "Requirement already satisfied: blis<1.4.0,>=1.3.0 in /usr/local/lib/python3.11/dist-packages (from thinc<8.4.0,>=8.3.4->spacy>=3.8.7->-r requirements.txt (line 19)) (1.3.0)\n",
            "Requirement already satisfied: confection<1.0.0,>=0.0.1 in /usr/local/lib/python3.11/dist-packages (from thinc<8.4.0,>=8.3.4->spacy>=3.8.7->-r requirements.txt (line 19)) (0.1.5)\n",
            "Requirement already satisfied: shellingham>=1.3.0 in /usr/local/lib/python3.11/dist-packages (from typer<1.0,>=0.12->gradio>=4.36.1->-r requirements.txt (line 17)) (1.5.4)\n",
            "Requirement already satisfied: rich>=10.11.0 in /usr/local/lib/python3.11/dist-packages (from typer<1.0,>=0.12->gradio>=4.36.1->-r requirements.txt (line 17)) (13.9.4)\n",
            "Requirement already satisfied: cloudpathlib<1.0.0,>=0.7.0 in /usr/local/lib/python3.11/dist-packages (from weasel<0.5.0,>=0.1.0->spacy>=3.8.7->-r requirements.txt (line 19)) (0.21.1)\n",
            "Requirement already satisfied: smart-open<8.0.0,>=5.2.1 in /usr/local/lib/python3.11/dist-packages (from weasel<0.5.0,>=0.1.0->spacy>=3.8.7->-r requirements.txt (line 19)) (7.3.0.post1)\n",
            "Requirement already satisfied: aiohappyeyeballs>=2.5.0 in /usr/local/lib/python3.11/dist-packages (from aiohttp!=4.0.0a0,!=4.0.0a1->fsspec[http]<2027.0,>=2022.5.0->lightning>=2.2.0.post0->-r requirements.txt (line 8)) (2.6.1)\n",
            "Requirement already satisfied: aiosignal>=1.4.0 in /usr/local/lib/python3.11/dist-packages (from aiohttp!=4.0.0a0,!=4.0.0a1->fsspec[http]<2027.0,>=2022.5.0->lightning>=2.2.0.post0->-r requirements.txt (line 8)) (1.4.0)\n",
            "Requirement already satisfied: attrs>=17.3.0 in /usr/local/lib/python3.11/dist-packages (from aiohttp!=4.0.0a0,!=4.0.0a1->fsspec[http]<2027.0,>=2022.5.0->lightning>=2.2.0.post0->-r requirements.txt (line 8)) (25.3.0)\n",
            "Requirement already satisfied: frozenlist>=1.1.1 in /usr/local/lib/python3.11/dist-packages (from aiohttp!=4.0.0a0,!=4.0.0a1->fsspec[http]<2027.0,>=2022.5.0->lightning>=2.2.0.post0->-r requirements.txt (line 8)) (1.7.0)\n",
            "Requirement already satisfied: multidict<7.0,>=4.5 in /usr/local/lib/python3.11/dist-packages (from aiohttp!=4.0.0a0,!=4.0.0a1->fsspec[http]<2027.0,>=2022.5.0->lightning>=2.2.0.post0->-r requirements.txt (line 8)) (6.6.4)\n",
            "Requirement already satisfied: propcache>=0.2.0 in /usr/local/lib/python3.11/dist-packages (from aiohttp!=4.0.0a0,!=4.0.0a1->fsspec[http]<2027.0,>=2022.5.0->lightning>=2.2.0.post0->-r requirements.txt (line 8)) (0.3.2)\n",
            "Requirement already satisfied: yarl<2.0,>=1.17.0 in /usr/local/lib/python3.11/dist-packages (from aiohttp!=4.0.0a0,!=4.0.0a1->fsspec[http]<2027.0,>=2022.5.0->lightning>=2.2.0.post0->-r requirements.txt (line 8)) (1.20.1)\n",
            "Requirement already satisfied: marisa-trie>=1.1.0 in /usr/local/lib/python3.11/dist-packages (from language-data>=1.2->langcodes<4.0.0,>=3.2.0->spacy>=3.8.7->-r requirements.txt (line 19)) (1.2.1)\n",
            "Requirement already satisfied: markdown-it-py>=2.2.0 in /usr/local/lib/python3.11/dist-packages (from rich>=10.11.0->typer<1.0,>=0.12->gradio>=4.36.1->-r requirements.txt (line 17)) (4.0.0)\n",
            "Requirement already satisfied: pygments<3.0.0,>=2.13.0 in /usr/local/lib/python3.11/dist-packages (from rich>=10.11.0->typer<1.0,>=0.12->gradio>=4.36.1->-r requirements.txt (line 17)) (2.19.2)\n",
            "Requirement already satisfied: wrapt in /usr/local/lib/python3.11/dist-packages (from smart-open<8.0.0,>=5.2.1->weasel<0.5.0,>=0.1.0->spacy>=3.8.7->-r requirements.txt (line 19)) (1.17.3)\n",
            "Requirement already satisfied: mdurl~=0.1 in /usr/local/lib/python3.11/dist-packages (from markdown-it-py>=2.2.0->rich>=10.11.0->typer<1.0,>=0.12->gradio>=4.36.1->-r requirements.txt (line 17)) (0.1.2)\n"
          ]
        }
      ]
    },
    {
      "cell_type": "markdown",
      "source": [
        "# **NLP Basics Assessment**\n",
        "\n",
        "---"
      ],
      "metadata": {
        "id": "kW2trVtGdLbl"
      }
    },
    {
      "cell_type": "markdown",
      "source": [
        "<div align=\"justify\">\n",
        "En este notebook se aplican técnicas de procesamiento de lenguaje natural a un corpus específico: <b>The Adventures of Sherlock Holmes</b> de Arthur Conan Doyle (1892). Esta obra es de dominio público y el corpus fue obtenido de <b>Project Gutenberg.</b>\n",
        "</div>"
      ],
      "metadata": {
        "id": "mhBun1RjdR56"
      }
    },
    {
      "cell_type": "markdown",
      "source": [
        "**Creamos el documento desde el archivo sherlock_holmes.txt**\n",
        "\n",
        "---"
      ],
      "metadata": {
        "id": "V5bkOSDlVCaV"
      }
    },
    {
      "cell_type": "markdown",
      "source": [
        "<div align=\"justify\">\n",
        "Este es un comando de shell que se ejecuta directamente desde el notebook gracias al prefijo !. En lugar de ser interpretado por Python, se envía al sistema operativo como si lo escribieramos en la terminal de Linux que corre detrás de Google Colab.\n",
        "</div>"
      ],
      "metadata": {
        "id": "ZuL4SlQbFC8H"
      }
    },
    {
      "cell_type": "code",
      "source": [
        "!test '{IN_COLAB}' = 'True' && wget  https://raw.githubusercontent.com/YesidCastelblanco/Fundamentos_NLP/refs/heads/main/Unidad1/sherlock_holmes.txt"
      ],
      "metadata": {
        "colab": {
          "base_uri": "https://localhost:8080/"
        },
        "id": "Yg4UfMxjVNf1",
        "outputId": "648006d4-1f7f-4257-d88c-0a61a44497ec"
      },
      "execution_count": 4,
      "outputs": [
        {
          "output_type": "stream",
          "name": "stdout",
          "text": [
            "--2025-08-16 16:38:08--  https://raw.githubusercontent.com/YesidCastelblanco/Fundamentos_NLP/refs/heads/main/Unidad1/sherlock_holmes.txt\n",
            "Resolving raw.githubusercontent.com (raw.githubusercontent.com)... 185.199.109.133, 185.199.110.133, 185.199.111.133, ...\n",
            "Connecting to raw.githubusercontent.com (raw.githubusercontent.com)|185.199.109.133|:443... connected.\n",
            "HTTP request sent, awaiting response... 200 OK\n",
            "Length: 607648 (593K) [text/plain]\n",
            "Saving to: ‘sherlock_holmes.txt.1’\n",
            "\n",
            "\rsherlock_holmes.txt   0%[                    ]       0  --.-KB/s               \rsherlock_holmes.txt 100%[===================>] 593.41K  --.-KB/s    in 0.03s   \n",
            "\n",
            "2025-08-16 16:38:08 (17.0 MB/s) - ‘sherlock_holmes.txt.1’ saved [607648/607648]\n",
            "\n"
          ]
        }
      ]
    },
    {
      "cell_type": "markdown",
      "source": [
        "**Cargar, limpiar y procesar el texto de Sherlock Holmes con SpaCy**\n",
        "\n",
        "---"
      ],
      "metadata": {
        "id": "DKkRSi8R8yR6"
      }
    },
    {
      "cell_type": "markdown",
      "source": [
        "<div align=\"justify\">\n",
        "Este código carga el modelo de SpaCy en inglés (en_core_web_sm) y abre el archivo sherlock_holmes.txt para leer su contenido completo. Dado que los textos de Project Gutenberg incluyen encabezados y pies de página que no forman parte de la obra original, se emplean expresiones regulares para localizar las marcas *** START OF ... *** y *** END OF ... *** y así extraer únicamente el contenido entre ellas; en caso de no encontrarlas, se utiliza todo el texto. Una vez limpio, el corpus se procesa con SpaCy para generar un objeto doc, lo que permite aplicar técnicas de análisis lingüístico como tokenización, detección de oraciones o reconocimiento de entidades. Finalmente, se imprime la longitud del texto original frente al texto limpio, junto con una vista previa de los primeros 500 caracteres, lo que permite confirmar que la limpieza y carga del corpus se realizaron correctamente.\n",
        "</div>"
      ],
      "metadata": {
        "id": "7-cl8mfZFrZy"
      }
    },
    {
      "cell_type": "code",
      "source": [
        "# Cargar el modelo de SpaCy\n",
        "nlp = spacy.load(\"en_core_web_sm\")\n",
        "\n",
        "# Abrir y leer el archivo\n",
        "with open('sherlock_holmes.txt', 'r', encoding='utf-8') as file:\n",
        "    texto = file.read()\n",
        "\n",
        "# Eliminar encabezado y pie de página de Project Gutenberg\n",
        "inicio = re.search(r\"\\*\\*\\* START OF(.*?)\\*\\*\\*\", texto, re.DOTALL)\n",
        "fin = re.search(r\"\\*\\*\\* END OF(.*?)\\*\\*\\*\", texto, re.DOTALL)\n",
        "\n",
        "if inicio and fin:\n",
        "    texto_limpio = texto[inicio.end():fin.start()].strip()\n",
        "else:\n",
        "    texto_limpio = texto  # Si no encuentra marcas, usa todo el texto\n",
        "\n",
        "# Procesar el texto limpio con Spacy\n",
        "doc = nlp(texto_limpio)\n",
        "\n",
        "# Información básica\n",
        "print(f\"Texto original: {len(texto)} caracteres\")\n",
        "print(f\"Texto limpio: {len(texto_limpio)} caracteres\\n\")\n",
        "\n",
        "# Mostrar primeros 500 caracteres del texto limpio\n",
        "print(\"Primeros 500 caracteres del texto limpio:\\n\")\n",
        "print(texto_limpio[:500])\n"
      ],
      "metadata": {
        "colab": {
          "base_uri": "https://localhost:8080/"
        },
        "id": "hBT93svJXZ0X",
        "outputId": "f9e6dfcd-9a25-438c-b17b-e79da992d803"
      },
      "execution_count": 5,
      "outputs": [
        {
          "output_type": "stream",
          "name": "stdout",
          "text": [
            "Texto original: 581565 caracteres\n",
            "Texto limpio: 562202 caracteres\n",
            "\n",
            "Primeros 500 caracteres del texto limpio:\n",
            "\n",
            "The Adventures of Sherlock Holmes\n",
            "\n",
            "by Arthur Conan Doyle\n",
            "\n",
            "\n",
            "Contents\n",
            "\n",
            "   I.     A Scandal in Bohemia\n",
            "   II.    The Red-Headed League\n",
            "   III.   A Case of Identity\n",
            "   IV.    The Boscombe Valley Mystery\n",
            "   V.     The Five Orange Pips\n",
            "   VI.    The Man with the Twisted Lip\n",
            "   VII.   The Adventure of the Blue Carbuncle\n",
            "   VIII.  The Adventure of the Speckled Band\n",
            "   IX.    The Adventure of the Engineer’s Thumb\n",
            "   X.     The Adventure of the Noble Bachelor\n",
            "   XI.    The Adventure of the Beryl Coronet\n",
            " \n"
          ]
        }
      ]
    },
    {
      "cell_type": "markdown",
      "source": [
        "**Visualizar los primeros 50 tokens del texto procesado**\n",
        "\n",
        "---"
      ],
      "metadata": {
        "id": "1Ko9Xk6L9D_T"
      }
    },
    {
      "cell_type": "code",
      "source": [
        "doc[:50]"
      ],
      "metadata": {
        "colab": {
          "base_uri": "https://localhost:8080/"
        },
        "id": "V06h9kAaX2WU",
        "outputId": "b4cc8a09-7974-49e9-aa5d-4779cad38136"
      },
      "execution_count": 6,
      "outputs": [
        {
          "output_type": "execute_result",
          "data": {
            "text/plain": [
              "The Adventures of Sherlock Holmes\n",
              "\n",
              "by Arthur Conan Doyle\n",
              "\n",
              "\n",
              "Contents\n",
              "\n",
              "   I.     A Scandal in Bohemia\n",
              "   II.    The Red-Headed League\n",
              "   III.   A Case of Identity\n",
              "   IV.    The Boscombe Valley Mystery\n",
              "   V.     The Five Orange"
            ]
          },
          "metadata": {},
          "execution_count": 6
        }
      ]
    },
    {
      "cell_type": "markdown",
      "source": [
        "**Cuantos tokens hay en el archivo?**\n",
        "\n",
        "---"
      ],
      "metadata": {
        "id": "PfB6bbw-ebgZ"
      }
    },
    {
      "cell_type": "markdown",
      "source": [
        "<div align=\"justify\">\n",
        "La instrucción len(doc) devuelve la cantidad total de tokens presentes en el objeto doc, es decir, el número de unidades lingüísticas que SpaCy identificó en el texto después de procesarlo. Cada token puede corresponder a una palabra, un signo de puntuación, un número u otros elementos del lenguaje. Este valor ofrece una primera idea de la extensión del corpus en términos de elementos analizados por el modelo de procesamiento de lenguaje natural.\n",
        "</div>"
      ],
      "metadata": {
        "id": "8srbSmChGPhx"
      }
    },
    {
      "cell_type": "code",
      "source": [
        "len(doc)"
      ],
      "metadata": {
        "colab": {
          "base_uri": "https://localhost:8080/"
        },
        "id": "cMJ2P1QReTVZ",
        "outputId": "66fb318e-b1ae-4633-97ad-2605ff7ba3ef"
      },
      "execution_count": 7,
      "outputs": [
        {
          "output_type": "execute_result",
          "data": {
            "text/plain": [
              "136993"
            ]
          },
          "metadata": {},
          "execution_count": 7
        }
      ]
    },
    {
      "cell_type": "markdown",
      "source": [
        "**Cuantas oraciones hay en el archivo?**\n",
        "\n",
        "---\n"
      ],
      "metadata": {
        "id": "mZe05uOOelc8"
      }
    },
    {
      "cell_type": "markdown",
      "source": [
        "<div align=\"justify\">\n",
        "La instrucción sentences = list(doc.sents) convierte en una lista todas las oraciones que SpaCy detecta en el texto procesado, aprovechando su capacidad de segmentación en frases. Posteriormente, len(sentences) devuelve el número total de oraciones identificadas en el corpus. Este resultado permite tener una medida de la extensión del texto no solo en tokens, sino también en unidades sintácticas más amplias, lo cual es útil para tareas de análisis lingüístico y de comprensión de la estructura narrativa.\n",
        "</div>"
      ],
      "metadata": {
        "id": "TNrLy_XPGkId"
      }
    },
    {
      "cell_type": "code",
      "source": [
        "sentences = list(doc.sents)\n",
        "len(sentences)"
      ],
      "metadata": {
        "colab": {
          "base_uri": "https://localhost:8080/"
        },
        "id": "QeZ3M955eqa0",
        "outputId": "cc1cdc69-9dc9-4124-ffd0-14afaa0af88d"
      },
      "execution_count": 8,
      "outputs": [
        {
          "output_type": "execute_result",
          "data": {
            "text/plain": [
              "5800"
            ]
          },
          "metadata": {},
          "execution_count": 8
        }
      ]
    },
    {
      "cell_type": "markdown",
      "source": [
        "**Imprime la segunda oración del documento**\n",
        "\n",
        "---\n"
      ],
      "metadata": {
        "id": "Z3htjkSVe7Vz"
      }
    },
    {
      "cell_type": "markdown",
      "source": [
        "<div align=\"justify\">\n",
        "La instrucción sentences[1] devuelve la segunda oración del texto procesado. Dado que en Python los índices comienzan en cero, sentences[0] corresponde a la primera oración, mientras que sentences[1] accede a la siguiente. Esta operación resulta útil para inspeccionar ejemplos concretos de cómo SpaCy ha segmentado el corpus y verificar que la detección de oraciones se esté realizando de manera adecuada.\n",
        "</div>"
      ],
      "metadata": {
        "id": "_2CHdvG_G2vD"
      }
    },
    {
      "cell_type": "code",
      "source": [
        "sentences[1]"
      ],
      "metadata": {
        "colab": {
          "base_uri": "https://localhost:8080/"
        },
        "id": "pRZxDJNhe_xk",
        "outputId": "df37b6f1-eb42-4db3-fc69-055eea675e5e"
      },
      "execution_count": 9,
      "outputs": [
        {
          "output_type": "execute_result",
          "data": {
            "text/plain": [
              "The Red-Headed League\n",
              "   III.   "
            ]
          },
          "metadata": {},
          "execution_count": 9
        }
      ]
    },
    {
      "cell_type": "markdown",
      "source": [
        "**Por cada token en la oración anterior, imprime su `text`, `POS` tag, `dep` tag y `lemma`**\n",
        "<br>\n",
        "\n",
        "---"
      ],
      "metadata": {
        "id": "BVBu6zFtfTvJ"
      }
    },
    {
      "cell_type": "markdown",
      "source": [
        "<div align=\"justify\">\n",
        "Imprime una tabla con información lingüística de cada token en la segunda oración del texto. En primer lugar, se define un encabezado con las columnas Text, POS, dep y lemma, que corresponden respectivamente al texto original del token, su categoría gramatical (Part of Speech), la relación de dependencia sintáctica dentro de la oración y la forma lematizada o base del término. Luego, mediante un bucle for, se recorren los tokens de sentences[1] y se imprime para cada uno el valor de estas propiedades. De esta manera, el resultado permite visualizar cómo SpaCy analiza los componentes gramaticales y semánticos de una oración en detalle, mostrando no solo las palabras, sino también su función sintáctica y su raíz léxica.\n",
        "</div>"
      ],
      "metadata": {
        "id": "tNUSfHDvHIRS"
      }
    },
    {
      "cell_type": "code",
      "source": [
        "print(\"{:20}{:20}{:20}{:20}\".format(\"Text\", \"POS\", \"dep\", \"lemma\"))\n",
        "for token in sentences[1]:\n",
        "    print(f\"{token.text:{20}}{token.pos_:{20}}{token.dep_:{20}}{token.lemma_:{20}}\")"
      ],
      "metadata": {
        "colab": {
          "base_uri": "https://localhost:8080/"
        },
        "id": "olv_STFefqlR",
        "outputId": "980d343d-bc07-4b92-eee6-eb82d224039b"
      },
      "execution_count": 10,
      "outputs": [
        {
          "output_type": "stream",
          "name": "stdout",
          "text": [
            "Text                POS                 dep                 lemma               \n",
            "The                 DET                 det                 the                 \n",
            "Red                 PROPN               compound            Red                 \n",
            "-                   PUNCT               punct               -                   \n",
            "Headed              PROPN               compound            Headed              \n",
            "League              PROPN               compound            League              \n",
            "\n",
            "                   SPACE               dep                 \n",
            "                   \n",
            "III                 PROPN               ROOT                III                 \n",
            ".                   PUNCT               punct               .                   \n",
            "                    SPACE               dep                                     \n"
          ]
        }
      ]
    },
    {
      "cell_type": "markdown",
      "source": [
        "**Definir patrón en SpaCy para detectar la frase \"Baker Street\"**\n",
        "\n",
        "---\n"
      ],
      "metadata": {
        "id": "JRMdDH5Tf-RS"
      }
    },
    {
      "cell_type": "markdown",
      "source": [
        "<div align=\"justify\">\n",
        "Matcher de SpaCy, una herramienta diseñada para buscar patrones específicos en un texto. Primero, se crea el objeto matcher = Matcher(nlp.vocab), que se apoya en el vocabulario del modelo cargado (nlp.vocab) para poder reconocer palabras y sus atributos. Después, se define un patrón pattern = [{'LOWER': 'baker'}, {'IS_SPACE': True}, {'LOWER': 'street'}]. Este patrón indica que se quiere identificar la secuencia exacta “baker street”, sin importar si está escrita en mayúsculas o minúsculas (gracias al atributo LOWER), y considerando que entre ambas palabras debe existir un espacio (IS_SPACE: True). Finalmente, con matcher.add(\"baker\", [pattern]), se registra este patrón dentro del matcher bajo la etiqueta \"baker\". Así, posteriormente será posible buscar dentro del documento cualquier ocurrencia de “baker street” y obtener su posición en el texto.\n",
        "</div>"
      ],
      "metadata": {
        "id": "Pyckw32pHfx_"
      }
    },
    {
      "cell_type": "code",
      "source": [
        "matcher = Matcher(nlp.vocab)\n",
        "pattern = [{'LOWER': 'baker'}, {'IS_SPACE': True}, {'LOWER': 'street'}]\n",
        "matcher.add(\"baker\", [pattern])"
      ],
      "metadata": {
        "id": "4zAS2ByQgHH6"
      },
      "execution_count": 11,
      "outputs": []
    },
    {
      "cell_type": "markdown",
      "source": [
        "**Ejecutar el matcher en el documento y obtener coincidencias**\n",
        "\n",
        "---"
      ],
      "metadata": {
        "id": "JAt90PRg-Bmv"
      }
    },
    {
      "cell_type": "markdown",
      "source": [
        "<div align=\"justify\">\n",
        "Cuando se ejecuta found_matches = matcher(doc), el objeto matcher busca dentro del documento doc todas las coincidencias que correspondan al patrón previamente definido (en este caso, la secuencia “baker street”). El resultado se guarda en found_matches, que es una lista de tuplas. Cada tupla contiene tres elementos: el ID del patrón (internamente un número que corresponde al nombre “baker”), el índice inicial del fragmento en el documento, y el índice final. Estos índices permiten identificar con precisión la posición de la coincidencia dentro del texto. Al imprimir found_matches, no se verá directamente el texto encontrado, sino estos identificadores numéricos que luego se pueden usar para extraer los fragmentos coincidentes desde doc.\n",
        "</div>"
      ],
      "metadata": {
        "id": "7nCAwbGoIG2K"
      }
    },
    {
      "cell_type": "code",
      "source": [
        "found_matches = matcher(doc)\n",
        "found_matches"
      ],
      "metadata": {
        "colab": {
          "base_uri": "https://localhost:8080/"
        },
        "id": "3pZgNx5cgwCe",
        "outputId": "331df206-54e8-40de-e29c-fbbd7f78cdb3"
      },
      "execution_count": 12,
      "outputs": [
        {
          "output_type": "execute_result",
          "data": {
            "text/plain": [
              "[(9822559787564794947, 40299, 40302),\n",
              " (9822559787564794947, 66767, 66770),\n",
              " (9822559787564794947, 70527, 70530),\n",
              " (9822559787564794947, 74770, 74773)]"
            ]
          },
          "metadata": {},
          "execution_count": 12
        }
      ]
    },
    {
      "cell_type": "markdown",
      "source": [
        "**Imprime el texto al rededor de cada match encontrado**\n",
        "\n",
        "---"
      ],
      "metadata": {
        "id": "idUDcU_lg8qX"
      }
    },
    {
      "cell_type": "markdown",
      "source": [
        "<div align=\"justify\">\n",
        "El código start, end = found_matches[0][1:] toma la primera coincidencia encontrada por el matcher (found_matches[0]) y extrae únicamente los índices de inicio y fin de esa coincidencia dentro del documento doc. Luego, con doc[start-9:end+13], se está ampliando artificialmente ese rango: en lugar de mostrar solo la coincidencia exacta (“baker street”), se retrocede 9 tokens antes de la coincidencia y se avanza 13 tokens después. El resultado es un fragmento más grande del texto que incluye la coincidencia en su contexto. Esto es útil porque permite no solo identificar dónde apareció el patrón, sino también leer la frase o pasaje alrededor de él para entender mejor el sentido en el que se usó.\n",
        "</div>"
      ],
      "metadata": {
        "id": "iwbgXudrIuAW"
      }
    },
    {
      "cell_type": "code",
      "source": [
        "start, end = found_matches[0][1:]\n",
        "doc[start-9:end+13]"
      ],
      "metadata": {
        "colab": {
          "base_uri": "https://localhost:8080/"
        },
        "id": "Gthy850Ng_xR",
        "outputId": "6c19df2a-b565-4c16-e912-e0232cbb9e2c"
      },
      "execution_count": 13,
      "outputs": [
        {
          "output_type": "execute_result",
          "data": {
            "text/plain": [
              "had only known the quiet thinker and logician of Baker\n",
              "Street would have failed to recognise him. His face flushed and\n",
              "darkened"
            ]
          },
          "metadata": {},
          "execution_count": 13
        }
      ]
    },
    {
      "cell_type": "markdown",
      "source": [
        "**Imprime la oración que contiene cada match encontrado**\n",
        "\n",
        "---"
      ],
      "metadata": {
        "id": "22hJA_sAhHhb"
      }
    },
    {
      "cell_type": "markdown",
      "source": [
        "<div align=\"justify\">\n",
        "Este código recorre todas las oraciones del documento (for sentence in sentences:) y, dentro de cada una, recorre las coincidencias encontradas por el matcher (for _, start, end in found_matches:). Luego, verifica si los índices de la coincidencia (start y end) caen dentro de los límites de esa oración (if sentence.start <= start and sentence.end >= end:). Si la coincidencia está efectivamente contenida dentro de la oración, se imprime el texto completo de la oración (print(sentence.text, '\\n')).\n",
        "En otras palabras, este fragmento permite encontrar la oración completa en la que apareció un patrón (por ejemplo, “baker street”), mostrando el contexto exacto de esa coincidencia.\n",
        "</div>"
      ],
      "metadata": {
        "id": "E4LsH6EYJBrL"
      }
    },
    {
      "cell_type": "code",
      "source": [
        "for sentence in sentences:\n",
        "    for _, start, end in found_matches:\n",
        "        if sentence.start <= start and sentence.end >= end:\n",
        "            print(sentence.text, '\\n')"
      ],
      "metadata": {
        "id": "FsQBXRf9hN2e",
        "colab": {
          "base_uri": "https://localhost:8080/"
        },
        "outputId": "364cd4e6-c368-4f84-87ce-b476d0417bb6"
      },
      "execution_count": 14,
      "outputs": [
        {
          "output_type": "stream",
          "name": "stdout",
          "text": [
            "Men who had only known the quiet thinker and logician of Baker\n",
            "Street would have failed to recognise him. \n",
            "\n",
            "I think, Watson, that if we drive to Baker\n",
            "Street we shall just be in time for breakfast.”\n",
            "\n",
            "\n",
            "\n",
            "\n",
            "VII. \n",
            "\n",
            "Mr. Henry Baker\n",
            "can have the same by applying at 6:30 this evening at 221B, Baker\n",
            "Street.’ \n",
            "\n",
            "Then he stepped into\n",
            "the cab, and in half an hour we were back in the sitting-room at Baker\n",
            "Street. \n",
            "\n"
          ]
        }
      ]
    },
    {
      "cell_type": "markdown",
      "source": [
        "\n",
        "\n",
        " **CONCLUSIONES**\n",
        "\n",
        "---"
      ],
      "metadata": {
        "id": "1RgMONLUPWPG"
      }
    },
    {
      "cell_type": "markdown",
      "source": [
        "<div align=\"justify\">\n",
        "<b>1.Procesamiento con spaCy:</b><br>\n",
        "El uso de spaCy permitió dividir el texto en oraciones y aplicar el Matcher para identificar patrones específicos, como expresiones o nombres relevantes dentro del corpus.\n",
        "<br><br>\n",
        "<b>2.Extracción contextual:</b><br>\n",
        "El código no solo detectó coincidencias, sino que también mostró la oración completa en la que aparecía cada patrón. Esto aporta un contexto semántico, mucho más útil que una simple búsqueda de palabras aisladas.\n",
        "<br><br>\n",
        "<b>3.Flexibilidad del Matcher:</b><br>\n",
        "El Matcher de spaCy resultó una herramienta poderosa para definir y encontrar patrones lingüísticos de manera más estructurada que con expresiones regulares, aprovechando el análisis morfosintáctico del lenguaje natural.\n",
        "<br><br>\n",
        "<b>4.Aplicabilidad en tareas reales:</b><br>\n",
        "Este enfoque puede aplicarse para construir sistemas de búsqueda de información en textos largos (por ejemplo, detectar personajes, lugares o temas clave en novelas, noticias o documentos jurídicos), siempre con el beneficio del análisis contextual.\n",
        "<br><br>\n",
        "La actividad evidenció que spaCy es una herramienta suficiente y eficiente para la detección de patrones lingüísticos y la extracción de oraciones completas con contexto, gracias a su capacidad de análisis morfosintáctico y al uso del Matcher, lo que permite un procesamiento del texto preciso y flexible."
      ],
      "metadata": {
        "id": "mRLlwl2QPZwh"
      }
    },
    {
      "cell_type": "markdown",
      "source": [
        "---\n",
        "\n",
        "# **Clasificación de Sentimientos en Críticas Cinematográficas.**\n",
        "<div align=\"justify\">\n",
        "Para esta práctica, realizaremos un análisis de sentimientos sobre reseñas de películas. El objetivo es clasificar cada reseña como positiva o negativa, aplicando técnicas de preprocesamiento de texto antes de entrenar o evaluar un modelo de clasificación.\n",
        "\n",
        "---"
      ],
      "metadata": {
        "id": "DizXsg2rh0MK"
      }
    },
    {
      "cell_type": "markdown",
      "source": [
        "**Creamos el documento desde el archivo filmreviews_sentiment.tsv**\n",
        "\n",
        "---"
      ],
      "metadata": {
        "id": "nQIOjxREer3M"
      }
    },
    {
      "cell_type": "markdown",
      "source": [
        "<div align=\"justify\">\n",
        "Este es un comando de shell que se ejecuta directamente desde el notebook gracias al prefijo !. En lugar de ser interpretado por Python, se envía al sistema operativo como si lo escribieramos en la terminal de Linux que corre detrás de Google Colab.\n",
        "</div>"
      ],
      "metadata": {
        "id": "HQVSEvdRfC5u"
      }
    },
    {
      "cell_type": "code",
      "source": [
        "!test '{IN_COLAB}' = 'True' && wget  https://raw.githubusercontent.com/YesidCastelblanco/Fundamentos_NLP/refs/heads/main/Unidad1/filmreviews_sentiment.tsv"
      ],
      "metadata": {
        "colab": {
          "base_uri": "https://localhost:8080/"
        },
        "id": "72L8T1T3imfI",
        "outputId": "9e4ca31a-f0ef-4884-bcb0-84d65fc73ac0"
      },
      "execution_count": 15,
      "outputs": [
        {
          "output_type": "stream",
          "name": "stdout",
          "text": [
            "--2025-08-16 16:38:44--  https://raw.githubusercontent.com/YesidCastelblanco/Fundamentos_NLP/refs/heads/main/Unidad1/filmreviews_sentiment.tsv\n",
            "Resolving raw.githubusercontent.com (raw.githubusercontent.com)... 185.199.108.133, 185.199.109.133, 185.199.110.133, ...\n",
            "Connecting to raw.githubusercontent.com (raw.githubusercontent.com)|185.199.108.133|:443... connected.\n",
            "HTTP request sent, awaiting response... 200 OK\n",
            "Length: 650 [text/plain]\n",
            "Saving to: ‘filmreviews_sentiment.tsv.1’\n",
            "\n",
            "\r          filmrevie   0%[                    ]       0  --.-KB/s               \rfilmreviews_sentime 100%[===================>]     650  --.-KB/s    in 0s      \n",
            "\n",
            "2025-08-16 16:38:44 (39.3 MB/s) - ‘filmreviews_sentiment.tsv.1’ saved [650/650]\n",
            "\n"
          ]
        }
      ]
    },
    {
      "cell_type": "markdown",
      "source": [
        "**Empecemos por cargar el dataset:**\n",
        "\n",
        "---"
      ],
      "metadata": {
        "id": "PzzxAao1iuoR"
      }
    },
    {
      "cell_type": "markdown",
      "source": [
        "<div align=\"justify\">\n",
        "Cargamos el dataset de reseñas de películas desde un archivo .tsv usando pandas, creando un DataFrame con las columnas label (sentimiento) y review (texto de la reseña). Luego, reviews.head() muestra las primeras cinco filas para inspeccionar rápidamente la estructura y verificar que los datos se cargaron correctamente."
      ],
      "metadata": {
        "id": "sLJbmuirjtPc"
      }
    },
    {
      "cell_type": "code",
      "source": [
        "reviews = pd.read_csv('./filmreviews_sentiment.tsv', sep='\\t')\n",
        "reviews.head()"
      ],
      "metadata": {
        "colab": {
          "base_uri": "https://localhost:8080/",
          "height": 206
        },
        "id": "FrfM9_JPi8M_",
        "outputId": "8e8acece-217a-49ed-9bca-720dc26cb904"
      },
      "execution_count": 16,
      "outputs": [
        {
          "output_type": "execute_result",
          "data": {
            "text/plain": [
              "                                              review label\n",
              "0  La trama fue predecible y aburrida, esperaba m...   neg\n",
              "1  Una obra maestra, la actuación principal fue i...   pos\n",
              "2  Los efectos especiales eran mediocres y mal ej...   neg\n",
              "3  Una historia conmovedora que me hizo llorar de...   pos\n",
              "4  El guion tenía huecos enormes y personajes poc...   neg"
            ],
            "text/html": [
              "\n",
              "  <div id=\"df-1b0f7072-7e28-4727-8481-960c15959fd6\" class=\"colab-df-container\">\n",
              "    <div>\n",
              "<style scoped>\n",
              "    .dataframe tbody tr th:only-of-type {\n",
              "        vertical-align: middle;\n",
              "    }\n",
              "\n",
              "    .dataframe tbody tr th {\n",
              "        vertical-align: top;\n",
              "    }\n",
              "\n",
              "    .dataframe thead th {\n",
              "        text-align: right;\n",
              "    }\n",
              "</style>\n",
              "<table border=\"1\" class=\"dataframe\">\n",
              "  <thead>\n",
              "    <tr style=\"text-align: right;\">\n",
              "      <th></th>\n",
              "      <th>review</th>\n",
              "      <th>label</th>\n",
              "    </tr>\n",
              "  </thead>\n",
              "  <tbody>\n",
              "    <tr>\n",
              "      <th>0</th>\n",
              "      <td>La trama fue predecible y aburrida, esperaba m...</td>\n",
              "      <td>neg</td>\n",
              "    </tr>\n",
              "    <tr>\n",
              "      <th>1</th>\n",
              "      <td>Una obra maestra, la actuación principal fue i...</td>\n",
              "      <td>pos</td>\n",
              "    </tr>\n",
              "    <tr>\n",
              "      <th>2</th>\n",
              "      <td>Los efectos especiales eran mediocres y mal ej...</td>\n",
              "      <td>neg</td>\n",
              "    </tr>\n",
              "    <tr>\n",
              "      <th>3</th>\n",
              "      <td>Una historia conmovedora que me hizo llorar de...</td>\n",
              "      <td>pos</td>\n",
              "    </tr>\n",
              "    <tr>\n",
              "      <th>4</th>\n",
              "      <td>El guion tenía huecos enormes y personajes poc...</td>\n",
              "      <td>neg</td>\n",
              "    </tr>\n",
              "  </tbody>\n",
              "</table>\n",
              "</div>\n",
              "    <div class=\"colab-df-buttons\">\n",
              "\n",
              "  <div class=\"colab-df-container\">\n",
              "    <button class=\"colab-df-convert\" onclick=\"convertToInteractive('df-1b0f7072-7e28-4727-8481-960c15959fd6')\"\n",
              "            title=\"Convert this dataframe to an interactive table.\"\n",
              "            style=\"display:none;\">\n",
              "\n",
              "  <svg xmlns=\"http://www.w3.org/2000/svg\" height=\"24px\" viewBox=\"0 -960 960 960\">\n",
              "    <path d=\"M120-120v-720h720v720H120Zm60-500h600v-160H180v160Zm220 220h160v-160H400v160Zm0 220h160v-160H400v160ZM180-400h160v-160H180v160Zm440 0h160v-160H620v160ZM180-180h160v-160H180v160Zm440 0h160v-160H620v160Z\"/>\n",
              "  </svg>\n",
              "    </button>\n",
              "\n",
              "  <style>\n",
              "    .colab-df-container {\n",
              "      display:flex;\n",
              "      gap: 12px;\n",
              "    }\n",
              "\n",
              "    .colab-df-convert {\n",
              "      background-color: #E8F0FE;\n",
              "      border: none;\n",
              "      border-radius: 50%;\n",
              "      cursor: pointer;\n",
              "      display: none;\n",
              "      fill: #1967D2;\n",
              "      height: 32px;\n",
              "      padding: 0 0 0 0;\n",
              "      width: 32px;\n",
              "    }\n",
              "\n",
              "    .colab-df-convert:hover {\n",
              "      background-color: #E2EBFA;\n",
              "      box-shadow: 0px 1px 2px rgba(60, 64, 67, 0.3), 0px 1px 3px 1px rgba(60, 64, 67, 0.15);\n",
              "      fill: #174EA6;\n",
              "    }\n",
              "\n",
              "    .colab-df-buttons div {\n",
              "      margin-bottom: 4px;\n",
              "    }\n",
              "\n",
              "    [theme=dark] .colab-df-convert {\n",
              "      background-color: #3B4455;\n",
              "      fill: #D2E3FC;\n",
              "    }\n",
              "\n",
              "    [theme=dark] .colab-df-convert:hover {\n",
              "      background-color: #434B5C;\n",
              "      box-shadow: 0px 1px 3px 1px rgba(0, 0, 0, 0.15);\n",
              "      filter: drop-shadow(0px 1px 2px rgba(0, 0, 0, 0.3));\n",
              "      fill: #FFFFFF;\n",
              "    }\n",
              "  </style>\n",
              "\n",
              "    <script>\n",
              "      const buttonEl =\n",
              "        document.querySelector('#df-1b0f7072-7e28-4727-8481-960c15959fd6 button.colab-df-convert');\n",
              "      buttonEl.style.display =\n",
              "        google.colab.kernel.accessAllowed ? 'block' : 'none';\n",
              "\n",
              "      async function convertToInteractive(key) {\n",
              "        const element = document.querySelector('#df-1b0f7072-7e28-4727-8481-960c15959fd6');\n",
              "        const dataTable =\n",
              "          await google.colab.kernel.invokeFunction('convertToInteractive',\n",
              "                                                    [key], {});\n",
              "        if (!dataTable) return;\n",
              "\n",
              "        const docLinkHtml = 'Like what you see? Visit the ' +\n",
              "          '<a target=\"_blank\" href=https://colab.research.google.com/notebooks/data_table.ipynb>data table notebook</a>'\n",
              "          + ' to learn more about interactive tables.';\n",
              "        element.innerHTML = '';\n",
              "        dataTable['output_type'] = 'display_data';\n",
              "        await google.colab.output.renderOutput(dataTable, element);\n",
              "        const docLink = document.createElement('div');\n",
              "        docLink.innerHTML = docLinkHtml;\n",
              "        element.appendChild(docLink);\n",
              "      }\n",
              "    </script>\n",
              "  </div>\n",
              "\n",
              "\n",
              "    <div id=\"df-d944e4da-c6d3-4025-a242-0c3ba7a556ea\">\n",
              "      <button class=\"colab-df-quickchart\" onclick=\"quickchart('df-d944e4da-c6d3-4025-a242-0c3ba7a556ea')\"\n",
              "                title=\"Suggest charts\"\n",
              "                style=\"display:none;\">\n",
              "\n",
              "<svg xmlns=\"http://www.w3.org/2000/svg\" height=\"24px\"viewBox=\"0 0 24 24\"\n",
              "     width=\"24px\">\n",
              "    <g>\n",
              "        <path d=\"M19 3H5c-1.1 0-2 .9-2 2v14c0 1.1.9 2 2 2h14c1.1 0 2-.9 2-2V5c0-1.1-.9-2-2-2zM9 17H7v-7h2v7zm4 0h-2V7h2v10zm4 0h-2v-4h2v4z\"/>\n",
              "    </g>\n",
              "</svg>\n",
              "      </button>\n",
              "\n",
              "<style>\n",
              "  .colab-df-quickchart {\n",
              "      --bg-color: #E8F0FE;\n",
              "      --fill-color: #1967D2;\n",
              "      --hover-bg-color: #E2EBFA;\n",
              "      --hover-fill-color: #174EA6;\n",
              "      --disabled-fill-color: #AAA;\n",
              "      --disabled-bg-color: #DDD;\n",
              "  }\n",
              "\n",
              "  [theme=dark] .colab-df-quickchart {\n",
              "      --bg-color: #3B4455;\n",
              "      --fill-color: #D2E3FC;\n",
              "      --hover-bg-color: #434B5C;\n",
              "      --hover-fill-color: #FFFFFF;\n",
              "      --disabled-bg-color: #3B4455;\n",
              "      --disabled-fill-color: #666;\n",
              "  }\n",
              "\n",
              "  .colab-df-quickchart {\n",
              "    background-color: var(--bg-color);\n",
              "    border: none;\n",
              "    border-radius: 50%;\n",
              "    cursor: pointer;\n",
              "    display: none;\n",
              "    fill: var(--fill-color);\n",
              "    height: 32px;\n",
              "    padding: 0;\n",
              "    width: 32px;\n",
              "  }\n",
              "\n",
              "  .colab-df-quickchart:hover {\n",
              "    background-color: var(--hover-bg-color);\n",
              "    box-shadow: 0 1px 2px rgba(60, 64, 67, 0.3), 0 1px 3px 1px rgba(60, 64, 67, 0.15);\n",
              "    fill: var(--button-hover-fill-color);\n",
              "  }\n",
              "\n",
              "  .colab-df-quickchart-complete:disabled,\n",
              "  .colab-df-quickchart-complete:disabled:hover {\n",
              "    background-color: var(--disabled-bg-color);\n",
              "    fill: var(--disabled-fill-color);\n",
              "    box-shadow: none;\n",
              "  }\n",
              "\n",
              "  .colab-df-spinner {\n",
              "    border: 2px solid var(--fill-color);\n",
              "    border-color: transparent;\n",
              "    border-bottom-color: var(--fill-color);\n",
              "    animation:\n",
              "      spin 1s steps(1) infinite;\n",
              "  }\n",
              "\n",
              "  @keyframes spin {\n",
              "    0% {\n",
              "      border-color: transparent;\n",
              "      border-bottom-color: var(--fill-color);\n",
              "      border-left-color: var(--fill-color);\n",
              "    }\n",
              "    20% {\n",
              "      border-color: transparent;\n",
              "      border-left-color: var(--fill-color);\n",
              "      border-top-color: var(--fill-color);\n",
              "    }\n",
              "    30% {\n",
              "      border-color: transparent;\n",
              "      border-left-color: var(--fill-color);\n",
              "      border-top-color: var(--fill-color);\n",
              "      border-right-color: var(--fill-color);\n",
              "    }\n",
              "    40% {\n",
              "      border-color: transparent;\n",
              "      border-right-color: var(--fill-color);\n",
              "      border-top-color: var(--fill-color);\n",
              "    }\n",
              "    60% {\n",
              "      border-color: transparent;\n",
              "      border-right-color: var(--fill-color);\n",
              "    }\n",
              "    80% {\n",
              "      border-color: transparent;\n",
              "      border-right-color: var(--fill-color);\n",
              "      border-bottom-color: var(--fill-color);\n",
              "    }\n",
              "    90% {\n",
              "      border-color: transparent;\n",
              "      border-bottom-color: var(--fill-color);\n",
              "    }\n",
              "  }\n",
              "</style>\n",
              "\n",
              "      <script>\n",
              "        async function quickchart(key) {\n",
              "          const quickchartButtonEl =\n",
              "            document.querySelector('#' + key + ' button');\n",
              "          quickchartButtonEl.disabled = true;  // To prevent multiple clicks.\n",
              "          quickchartButtonEl.classList.add('colab-df-spinner');\n",
              "          try {\n",
              "            const charts = await google.colab.kernel.invokeFunction(\n",
              "                'suggestCharts', [key], {});\n",
              "          } catch (error) {\n",
              "            console.error('Error during call to suggestCharts:', error);\n",
              "          }\n",
              "          quickchartButtonEl.classList.remove('colab-df-spinner');\n",
              "          quickchartButtonEl.classList.add('colab-df-quickchart-complete');\n",
              "        }\n",
              "        (() => {\n",
              "          let quickchartButtonEl =\n",
              "            document.querySelector('#df-d944e4da-c6d3-4025-a242-0c3ba7a556ea button');\n",
              "          quickchartButtonEl.style.display =\n",
              "            google.colab.kernel.accessAllowed ? 'block' : 'none';\n",
              "        })();\n",
              "      </script>\n",
              "    </div>\n",
              "\n",
              "    </div>\n",
              "  </div>\n"
            ],
            "application/vnd.google.colaboratory.intrinsic+json": {
              "type": "dataframe",
              "variable_name": "reviews",
              "summary": "{\n  \"name\": \"reviews\",\n  \"rows\": 10,\n  \"fields\": [\n    {\n      \"column\": \"review\",\n      \"properties\": {\n        \"dtype\": \"string\",\n        \"num_unique_values\": 10,\n        \"samples\": [\n          \"La m\\u00fasica no encajaba con las escenas, un desastre total.\",\n          \"Una obra maestra, la actuaci\\u00f3n principal fue impresionante.\",\n          \"Una pel\\u00edcula brillante, con direcci\\u00f3n impecable y gran fotograf\\u00eda.\"\n        ],\n        \"semantic_type\": \"\",\n        \"description\": \"\"\n      }\n    },\n    {\n      \"column\": \"label\",\n      \"properties\": {\n        \"dtype\": \"category\",\n        \"num_unique_values\": 2,\n        \"samples\": [\n          \"pos\",\n          \"neg\"\n        ],\n        \"semantic_type\": \"\",\n        \"description\": \"\"\n      }\n    }\n  ]\n}"
            }
          },
          "metadata": {},
          "execution_count": 16
        }
      ]
    },
    {
      "cell_type": "markdown",
      "source": [
        "**Limpieza de datos**\n",
        "\n",
        "---\n",
        "\n"
      ],
      "metadata": {
        "id": "FuoukZDrjI0n"
      }
    },
    {
      "cell_type": "markdown",
      "source": [
        "<div align=\"justify\">\n",
        "Elimina valores faltantes (NaN) en el DataFrame y limpia los textos de las reseñas eliminando espacios en blanco al inicio y final de cada texto. También identifica y elimina filas que quedaron vacías tras el proceso, asegurando que todas las reseñas contengan contenido válido para el análisis."
      ],
      "metadata": {
        "id": "r35pq42tk7rr"
      }
    },
    {
      "cell_type": "code",
      "source": [
        "reviews.dropna(inplace=True)\n",
        "reviews.review = reviews.review.apply(lambda r: r.strip())\n",
        "blanks = reviews[reviews.review == ''].index\n",
        "reviews.drop(blanks, inplace=True)\n",
        "reviews[reviews.review == ''].index"
      ],
      "metadata": {
        "colab": {
          "base_uri": "https://localhost:8080/"
        },
        "id": "MnrvmhtljOHo",
        "outputId": "a6d6eb78-c8ad-4e1e-d218-1b792656213a"
      },
      "execution_count": 17,
      "outputs": [
        {
          "output_type": "execute_result",
          "data": {
            "text/plain": [
              "Index([], dtype='int64')"
            ]
          },
          "metadata": {},
          "execution_count": 17
        }
      ]
    },
    {
      "cell_type": "markdown",
      "source": [
        "**Conteo de clases de sentimiento**\n",
        "\n",
        "---"
      ],
      "metadata": {
        "id": "YcKeIfslnzZm"
      }
    },
    {
      "cell_type": "markdown",
      "source": [
        "<div align=\"justify\">\n",
        "Muestra la cantidad de reseñas positivas (pos) y negativas (neg) en el dataset, permitiendo inspeccionar la distribución de clases antes de realizar el análisis de sentimientos o entrenar un modelo de clasificación."
      ],
      "metadata": {
        "id": "pAIMekGKn_d8"
      }
    },
    {
      "cell_type": "code",
      "source": [
        "reviews.label.value_counts()"
      ],
      "metadata": {
        "colab": {
          "base_uri": "https://localhost:8080/",
          "height": 178
        },
        "id": "l6fiQA98jbFR",
        "outputId": "839eb97e-cf41-4597-e180-debf8c04d517"
      },
      "execution_count": 18,
      "outputs": [
        {
          "output_type": "execute_result",
          "data": {
            "text/plain": [
              "label\n",
              "neg    5\n",
              "pos    5\n",
              "Name: count, dtype: int64"
            ],
            "text/html": [
              "<div>\n",
              "<style scoped>\n",
              "    .dataframe tbody tr th:only-of-type {\n",
              "        vertical-align: middle;\n",
              "    }\n",
              "\n",
              "    .dataframe tbody tr th {\n",
              "        vertical-align: top;\n",
              "    }\n",
              "\n",
              "    .dataframe thead th {\n",
              "        text-align: right;\n",
              "    }\n",
              "</style>\n",
              "<table border=\"1\" class=\"dataframe\">\n",
              "  <thead>\n",
              "    <tr style=\"text-align: right;\">\n",
              "      <th></th>\n",
              "      <th>count</th>\n",
              "    </tr>\n",
              "    <tr>\n",
              "      <th>label</th>\n",
              "      <th></th>\n",
              "    </tr>\n",
              "  </thead>\n",
              "  <tbody>\n",
              "    <tr>\n",
              "      <th>neg</th>\n",
              "      <td>5</td>\n",
              "    </tr>\n",
              "    <tr>\n",
              "      <th>pos</th>\n",
              "      <td>5</td>\n",
              "    </tr>\n",
              "  </tbody>\n",
              "</table>\n",
              "</div><br><label><b>dtype:</b> int64</label>"
            ]
          },
          "metadata": {},
          "execution_count": 18
        }
      ]
    },
    {
      "cell_type": "markdown",
      "source": [
        "**Descarga del léxico VADER**\n",
        "\n",
        "---"
      ],
      "metadata": {
        "id": "Es6TO4AsjtY1"
      }
    },
    {
      "cell_type": "markdown",
      "source": [
        "<div align=\"justify\">\n",
        "Descarga el léxico de VADER necesario para el análisis de sentimientos con NLTK. El léxico contiene palabras con puntuaciones de polaridad que permiten al analizador determinar si un texto tiene un sentimiento positivo, negativo o neutral."
      ],
      "metadata": {
        "id": "NBUYDKm7oZKv"
      }
    },
    {
      "cell_type": "code",
      "source": [
        "nltk.download('vader_lexicon')"
      ],
      "metadata": {
        "colab": {
          "base_uri": "https://localhost:8080/"
        },
        "id": "DB_XYrRPj1v4",
        "outputId": "946b3071-49b3-4ce5-a609-e07488235935"
      },
      "execution_count": 19,
      "outputs": [
        {
          "output_type": "stream",
          "name": "stderr",
          "text": [
            "[nltk_data] Downloading package vader_lexicon to /root/nltk_data...\n",
            "[nltk_data]   Package vader_lexicon is already up-to-date!\n"
          ]
        },
        {
          "output_type": "execute_result",
          "data": {
            "text/plain": [
              "True"
            ]
          },
          "metadata": {},
          "execution_count": 19
        }
      ]
    },
    {
      "cell_type": "markdown",
      "source": [
        "**Cálculo de puntajes de sentimiento**\n",
        "\n",
        "---"
      ],
      "metadata": {
        "id": "B_DpIWvroqk-"
      }
    },
    {
      "cell_type": "markdown",
      "source": [
        "<div align=\"justify\">\n",
        "Crea un analizador de sentimientos VADER (SentimentIntensityAnalyzer) y aplica su método polarity_scores a cada reseña. El resultado se guarda en una nueva columna scores, donde se incluyen las puntuaciones de sentimiento positivo, negativo, neutral y compuesto para cada texto. reviews.head() permite visualizar los primeros registros con los puntajes calculados."
      ],
      "metadata": {
        "id": "0R4Ctz00ovtb"
      }
    },
    {
      "cell_type": "code",
      "source": [
        "sid = SentimentIntensityAnalyzer()\n",
        "reviews['scores'] = reviews.review.apply(lambda r: sid.polarity_scores(r))\n",
        "reviews.head()"
      ],
      "metadata": {
        "colab": {
          "base_uri": "https://localhost:8080/",
          "height": 206
        },
        "id": "vv2X0IJUkAtn",
        "outputId": "bf615897-0a61-4891-8480-471f28b7820c"
      },
      "execution_count": 20,
      "outputs": [
        {
          "output_type": "execute_result",
          "data": {
            "text/plain": [
              "                                              review label  \\\n",
              "0  La trama fue predecible y aburrida, esperaba m...   neg   \n",
              "1  Una obra maestra, la actuación principal fue i...   pos   \n",
              "2  Los efectos especiales eran mediocres y mal ej...   neg   \n",
              "3  Una historia conmovedora que me hizo llorar de...   pos   \n",
              "4  El guion tenía huecos enormes y personajes poc...   neg   \n",
              "\n",
              "                                              scores  \n",
              "0  {'neg': 0.0, 'neu': 1.0, 'pos': 0.0, 'compound...  \n",
              "1  {'neg': 0.0, 'neu': 1.0, 'pos': 0.0, 'compound...  \n",
              "2  {'neg': 0.0, 'neu': 1.0, 'pos': 0.0, 'compound...  \n",
              "3  {'neg': 0.0, 'neu': 1.0, 'pos': 0.0, 'compound...  \n",
              "4  {'neg': 0.0, 'neu': 1.0, 'pos': 0.0, 'compound...  "
            ],
            "text/html": [
              "\n",
              "  <div id=\"df-b7491ff2-5049-46c1-ae16-958077445925\" class=\"colab-df-container\">\n",
              "    <div>\n",
              "<style scoped>\n",
              "    .dataframe tbody tr th:only-of-type {\n",
              "        vertical-align: middle;\n",
              "    }\n",
              "\n",
              "    .dataframe tbody tr th {\n",
              "        vertical-align: top;\n",
              "    }\n",
              "\n",
              "    .dataframe thead th {\n",
              "        text-align: right;\n",
              "    }\n",
              "</style>\n",
              "<table border=\"1\" class=\"dataframe\">\n",
              "  <thead>\n",
              "    <tr style=\"text-align: right;\">\n",
              "      <th></th>\n",
              "      <th>review</th>\n",
              "      <th>label</th>\n",
              "      <th>scores</th>\n",
              "    </tr>\n",
              "  </thead>\n",
              "  <tbody>\n",
              "    <tr>\n",
              "      <th>0</th>\n",
              "      <td>La trama fue predecible y aburrida, esperaba m...</td>\n",
              "      <td>neg</td>\n",
              "      <td>{'neg': 0.0, 'neu': 1.0, 'pos': 0.0, 'compound...</td>\n",
              "    </tr>\n",
              "    <tr>\n",
              "      <th>1</th>\n",
              "      <td>Una obra maestra, la actuación principal fue i...</td>\n",
              "      <td>pos</td>\n",
              "      <td>{'neg': 0.0, 'neu': 1.0, 'pos': 0.0, 'compound...</td>\n",
              "    </tr>\n",
              "    <tr>\n",
              "      <th>2</th>\n",
              "      <td>Los efectos especiales eran mediocres y mal ej...</td>\n",
              "      <td>neg</td>\n",
              "      <td>{'neg': 0.0, 'neu': 1.0, 'pos': 0.0, 'compound...</td>\n",
              "    </tr>\n",
              "    <tr>\n",
              "      <th>3</th>\n",
              "      <td>Una historia conmovedora que me hizo llorar de...</td>\n",
              "      <td>pos</td>\n",
              "      <td>{'neg': 0.0, 'neu': 1.0, 'pos': 0.0, 'compound...</td>\n",
              "    </tr>\n",
              "    <tr>\n",
              "      <th>4</th>\n",
              "      <td>El guion tenía huecos enormes y personajes poc...</td>\n",
              "      <td>neg</td>\n",
              "      <td>{'neg': 0.0, 'neu': 1.0, 'pos': 0.0, 'compound...</td>\n",
              "    </tr>\n",
              "  </tbody>\n",
              "</table>\n",
              "</div>\n",
              "    <div class=\"colab-df-buttons\">\n",
              "\n",
              "  <div class=\"colab-df-container\">\n",
              "    <button class=\"colab-df-convert\" onclick=\"convertToInteractive('df-b7491ff2-5049-46c1-ae16-958077445925')\"\n",
              "            title=\"Convert this dataframe to an interactive table.\"\n",
              "            style=\"display:none;\">\n",
              "\n",
              "  <svg xmlns=\"http://www.w3.org/2000/svg\" height=\"24px\" viewBox=\"0 -960 960 960\">\n",
              "    <path d=\"M120-120v-720h720v720H120Zm60-500h600v-160H180v160Zm220 220h160v-160H400v160Zm0 220h160v-160H400v160ZM180-400h160v-160H180v160Zm440 0h160v-160H620v160ZM180-180h160v-160H180v160Zm440 0h160v-160H620v160Z\"/>\n",
              "  </svg>\n",
              "    </button>\n",
              "\n",
              "  <style>\n",
              "    .colab-df-container {\n",
              "      display:flex;\n",
              "      gap: 12px;\n",
              "    }\n",
              "\n",
              "    .colab-df-convert {\n",
              "      background-color: #E8F0FE;\n",
              "      border: none;\n",
              "      border-radius: 50%;\n",
              "      cursor: pointer;\n",
              "      display: none;\n",
              "      fill: #1967D2;\n",
              "      height: 32px;\n",
              "      padding: 0 0 0 0;\n",
              "      width: 32px;\n",
              "    }\n",
              "\n",
              "    .colab-df-convert:hover {\n",
              "      background-color: #E2EBFA;\n",
              "      box-shadow: 0px 1px 2px rgba(60, 64, 67, 0.3), 0px 1px 3px 1px rgba(60, 64, 67, 0.15);\n",
              "      fill: #174EA6;\n",
              "    }\n",
              "\n",
              "    .colab-df-buttons div {\n",
              "      margin-bottom: 4px;\n",
              "    }\n",
              "\n",
              "    [theme=dark] .colab-df-convert {\n",
              "      background-color: #3B4455;\n",
              "      fill: #D2E3FC;\n",
              "    }\n",
              "\n",
              "    [theme=dark] .colab-df-convert:hover {\n",
              "      background-color: #434B5C;\n",
              "      box-shadow: 0px 1px 3px 1px rgba(0, 0, 0, 0.15);\n",
              "      filter: drop-shadow(0px 1px 2px rgba(0, 0, 0, 0.3));\n",
              "      fill: #FFFFFF;\n",
              "    }\n",
              "  </style>\n",
              "\n",
              "    <script>\n",
              "      const buttonEl =\n",
              "        document.querySelector('#df-b7491ff2-5049-46c1-ae16-958077445925 button.colab-df-convert');\n",
              "      buttonEl.style.display =\n",
              "        google.colab.kernel.accessAllowed ? 'block' : 'none';\n",
              "\n",
              "      async function convertToInteractive(key) {\n",
              "        const element = document.querySelector('#df-b7491ff2-5049-46c1-ae16-958077445925');\n",
              "        const dataTable =\n",
              "          await google.colab.kernel.invokeFunction('convertToInteractive',\n",
              "                                                    [key], {});\n",
              "        if (!dataTable) return;\n",
              "\n",
              "        const docLinkHtml = 'Like what you see? Visit the ' +\n",
              "          '<a target=\"_blank\" href=https://colab.research.google.com/notebooks/data_table.ipynb>data table notebook</a>'\n",
              "          + ' to learn more about interactive tables.';\n",
              "        element.innerHTML = '';\n",
              "        dataTable['output_type'] = 'display_data';\n",
              "        await google.colab.output.renderOutput(dataTable, element);\n",
              "        const docLink = document.createElement('div');\n",
              "        docLink.innerHTML = docLinkHtml;\n",
              "        element.appendChild(docLink);\n",
              "      }\n",
              "    </script>\n",
              "  </div>\n",
              "\n",
              "\n",
              "    <div id=\"df-db3a02ff-be01-442c-958a-2d3905ef87c6\">\n",
              "      <button class=\"colab-df-quickchart\" onclick=\"quickchart('df-db3a02ff-be01-442c-958a-2d3905ef87c6')\"\n",
              "                title=\"Suggest charts\"\n",
              "                style=\"display:none;\">\n",
              "\n",
              "<svg xmlns=\"http://www.w3.org/2000/svg\" height=\"24px\"viewBox=\"0 0 24 24\"\n",
              "     width=\"24px\">\n",
              "    <g>\n",
              "        <path d=\"M19 3H5c-1.1 0-2 .9-2 2v14c0 1.1.9 2 2 2h14c1.1 0 2-.9 2-2V5c0-1.1-.9-2-2-2zM9 17H7v-7h2v7zm4 0h-2V7h2v10zm4 0h-2v-4h2v4z\"/>\n",
              "    </g>\n",
              "</svg>\n",
              "      </button>\n",
              "\n",
              "<style>\n",
              "  .colab-df-quickchart {\n",
              "      --bg-color: #E8F0FE;\n",
              "      --fill-color: #1967D2;\n",
              "      --hover-bg-color: #E2EBFA;\n",
              "      --hover-fill-color: #174EA6;\n",
              "      --disabled-fill-color: #AAA;\n",
              "      --disabled-bg-color: #DDD;\n",
              "  }\n",
              "\n",
              "  [theme=dark] .colab-df-quickchart {\n",
              "      --bg-color: #3B4455;\n",
              "      --fill-color: #D2E3FC;\n",
              "      --hover-bg-color: #434B5C;\n",
              "      --hover-fill-color: #FFFFFF;\n",
              "      --disabled-bg-color: #3B4455;\n",
              "      --disabled-fill-color: #666;\n",
              "  }\n",
              "\n",
              "  .colab-df-quickchart {\n",
              "    background-color: var(--bg-color);\n",
              "    border: none;\n",
              "    border-radius: 50%;\n",
              "    cursor: pointer;\n",
              "    display: none;\n",
              "    fill: var(--fill-color);\n",
              "    height: 32px;\n",
              "    padding: 0;\n",
              "    width: 32px;\n",
              "  }\n",
              "\n",
              "  .colab-df-quickchart:hover {\n",
              "    background-color: var(--hover-bg-color);\n",
              "    box-shadow: 0 1px 2px rgba(60, 64, 67, 0.3), 0 1px 3px 1px rgba(60, 64, 67, 0.15);\n",
              "    fill: var(--button-hover-fill-color);\n",
              "  }\n",
              "\n",
              "  .colab-df-quickchart-complete:disabled,\n",
              "  .colab-df-quickchart-complete:disabled:hover {\n",
              "    background-color: var(--disabled-bg-color);\n",
              "    fill: var(--disabled-fill-color);\n",
              "    box-shadow: none;\n",
              "  }\n",
              "\n",
              "  .colab-df-spinner {\n",
              "    border: 2px solid var(--fill-color);\n",
              "    border-color: transparent;\n",
              "    border-bottom-color: var(--fill-color);\n",
              "    animation:\n",
              "      spin 1s steps(1) infinite;\n",
              "  }\n",
              "\n",
              "  @keyframes spin {\n",
              "    0% {\n",
              "      border-color: transparent;\n",
              "      border-bottom-color: var(--fill-color);\n",
              "      border-left-color: var(--fill-color);\n",
              "    }\n",
              "    20% {\n",
              "      border-color: transparent;\n",
              "      border-left-color: var(--fill-color);\n",
              "      border-top-color: var(--fill-color);\n",
              "    }\n",
              "    30% {\n",
              "      border-color: transparent;\n",
              "      border-left-color: var(--fill-color);\n",
              "      border-top-color: var(--fill-color);\n",
              "      border-right-color: var(--fill-color);\n",
              "    }\n",
              "    40% {\n",
              "      border-color: transparent;\n",
              "      border-right-color: var(--fill-color);\n",
              "      border-top-color: var(--fill-color);\n",
              "    }\n",
              "    60% {\n",
              "      border-color: transparent;\n",
              "      border-right-color: var(--fill-color);\n",
              "    }\n",
              "    80% {\n",
              "      border-color: transparent;\n",
              "      border-right-color: var(--fill-color);\n",
              "      border-bottom-color: var(--fill-color);\n",
              "    }\n",
              "    90% {\n",
              "      border-color: transparent;\n",
              "      border-bottom-color: var(--fill-color);\n",
              "    }\n",
              "  }\n",
              "</style>\n",
              "\n",
              "      <script>\n",
              "        async function quickchart(key) {\n",
              "          const quickchartButtonEl =\n",
              "            document.querySelector('#' + key + ' button');\n",
              "          quickchartButtonEl.disabled = true;  // To prevent multiple clicks.\n",
              "          quickchartButtonEl.classList.add('colab-df-spinner');\n",
              "          try {\n",
              "            const charts = await google.colab.kernel.invokeFunction(\n",
              "                'suggestCharts', [key], {});\n",
              "          } catch (error) {\n",
              "            console.error('Error during call to suggestCharts:', error);\n",
              "          }\n",
              "          quickchartButtonEl.classList.remove('colab-df-spinner');\n",
              "          quickchartButtonEl.classList.add('colab-df-quickchart-complete');\n",
              "        }\n",
              "        (() => {\n",
              "          let quickchartButtonEl =\n",
              "            document.querySelector('#df-db3a02ff-be01-442c-958a-2d3905ef87c6 button');\n",
              "          quickchartButtonEl.style.display =\n",
              "            google.colab.kernel.accessAllowed ? 'block' : 'none';\n",
              "        })();\n",
              "      </script>\n",
              "    </div>\n",
              "\n",
              "    </div>\n",
              "  </div>\n"
            ],
            "application/vnd.google.colaboratory.intrinsic+json": {
              "type": "dataframe",
              "variable_name": "reviews",
              "summary": "{\n  \"name\": \"reviews\",\n  \"rows\": 10,\n  \"fields\": [\n    {\n      \"column\": \"review\",\n      \"properties\": {\n        \"dtype\": \"string\",\n        \"num_unique_values\": 10,\n        \"samples\": [\n          \"La m\\u00fasica no encajaba con las escenas, un desastre total.\",\n          \"Una obra maestra, la actuaci\\u00f3n principal fue impresionante.\",\n          \"Una pel\\u00edcula brillante, con direcci\\u00f3n impecable y gran fotograf\\u00eda.\"\n        ],\n        \"semantic_type\": \"\",\n        \"description\": \"\"\n      }\n    },\n    {\n      \"column\": \"label\",\n      \"properties\": {\n        \"dtype\": \"category\",\n        \"num_unique_values\": 2,\n        \"samples\": [\n          \"pos\",\n          \"neg\"\n        ],\n        \"semantic_type\": \"\",\n        \"description\": \"\"\n      }\n    },\n    {\n      \"column\": \"scores\",\n      \"properties\": {\n        \"dtype\": \"object\",\n        \"semantic_type\": \"\",\n        \"description\": \"\"\n      }\n    }\n  ]\n}"
            }
          },
          "metadata": {},
          "execution_count": 20
        }
      ]
    },
    {
      "cell_type": "markdown",
      "source": [
        "**Generación de predicciones de sentimiento**\n",
        "\n",
        "---"
      ],
      "metadata": {
        "id": "yo6avzvukHWF"
      }
    },
    {
      "cell_type": "markdown",
      "source": [
        "<div align=\"justify\">\n",
        "Extrae el puntaje compuesto (compound) de cada reseña a partir de los scores de VADER y genera una predicción binaria: pos si el puntaje es mayor a 0 y neg en caso contrario. reviews.head() muestra los primeros registros con las predicciones añadidas."
      ],
      "metadata": {
        "id": "hi8Cd0-JpU5r"
      }
    },
    {
      "cell_type": "code",
      "source": [
        "reviews['compound'] = reviews.scores.apply(lambda s: s['compound'])\n",
        "reviews['prediction'] = reviews['compound'].apply(lambda c: 'pos' if c > 0 else 'neg')\n",
        "reviews.head()"
      ],
      "metadata": {
        "colab": {
          "base_uri": "https://localhost:8080/",
          "height": 206
        },
        "id": "6O1Kew59kShH",
        "outputId": "7c05f3b4-a1b7-45f7-848f-eccf659b4b4c"
      },
      "execution_count": 21,
      "outputs": [
        {
          "output_type": "execute_result",
          "data": {
            "text/plain": [
              "                                              review label  \\\n",
              "0  La trama fue predecible y aburrida, esperaba m...   neg   \n",
              "1  Una obra maestra, la actuación principal fue i...   pos   \n",
              "2  Los efectos especiales eran mediocres y mal ej...   neg   \n",
              "3  Una historia conmovedora que me hizo llorar de...   pos   \n",
              "4  El guion tenía huecos enormes y personajes poc...   neg   \n",
              "\n",
              "                                              scores  compound prediction  \n",
              "0  {'neg': 0.0, 'neu': 1.0, 'pos': 0.0, 'compound...       0.0        neg  \n",
              "1  {'neg': 0.0, 'neu': 1.0, 'pos': 0.0, 'compound...       0.0        neg  \n",
              "2  {'neg': 0.0, 'neu': 1.0, 'pos': 0.0, 'compound...       0.0        neg  \n",
              "3  {'neg': 0.0, 'neu': 1.0, 'pos': 0.0, 'compound...       0.0        neg  \n",
              "4  {'neg': 0.0, 'neu': 1.0, 'pos': 0.0, 'compound...       0.0        neg  "
            ],
            "text/html": [
              "\n",
              "  <div id=\"df-322115a0-0124-450f-8712-5c06965ae4c2\" class=\"colab-df-container\">\n",
              "    <div>\n",
              "<style scoped>\n",
              "    .dataframe tbody tr th:only-of-type {\n",
              "        vertical-align: middle;\n",
              "    }\n",
              "\n",
              "    .dataframe tbody tr th {\n",
              "        vertical-align: top;\n",
              "    }\n",
              "\n",
              "    .dataframe thead th {\n",
              "        text-align: right;\n",
              "    }\n",
              "</style>\n",
              "<table border=\"1\" class=\"dataframe\">\n",
              "  <thead>\n",
              "    <tr style=\"text-align: right;\">\n",
              "      <th></th>\n",
              "      <th>review</th>\n",
              "      <th>label</th>\n",
              "      <th>scores</th>\n",
              "      <th>compound</th>\n",
              "      <th>prediction</th>\n",
              "    </tr>\n",
              "  </thead>\n",
              "  <tbody>\n",
              "    <tr>\n",
              "      <th>0</th>\n",
              "      <td>La trama fue predecible y aburrida, esperaba m...</td>\n",
              "      <td>neg</td>\n",
              "      <td>{'neg': 0.0, 'neu': 1.0, 'pos': 0.0, 'compound...</td>\n",
              "      <td>0.0</td>\n",
              "      <td>neg</td>\n",
              "    </tr>\n",
              "    <tr>\n",
              "      <th>1</th>\n",
              "      <td>Una obra maestra, la actuación principal fue i...</td>\n",
              "      <td>pos</td>\n",
              "      <td>{'neg': 0.0, 'neu': 1.0, 'pos': 0.0, 'compound...</td>\n",
              "      <td>0.0</td>\n",
              "      <td>neg</td>\n",
              "    </tr>\n",
              "    <tr>\n",
              "      <th>2</th>\n",
              "      <td>Los efectos especiales eran mediocres y mal ej...</td>\n",
              "      <td>neg</td>\n",
              "      <td>{'neg': 0.0, 'neu': 1.0, 'pos': 0.0, 'compound...</td>\n",
              "      <td>0.0</td>\n",
              "      <td>neg</td>\n",
              "    </tr>\n",
              "    <tr>\n",
              "      <th>3</th>\n",
              "      <td>Una historia conmovedora que me hizo llorar de...</td>\n",
              "      <td>pos</td>\n",
              "      <td>{'neg': 0.0, 'neu': 1.0, 'pos': 0.0, 'compound...</td>\n",
              "      <td>0.0</td>\n",
              "      <td>neg</td>\n",
              "    </tr>\n",
              "    <tr>\n",
              "      <th>4</th>\n",
              "      <td>El guion tenía huecos enormes y personajes poc...</td>\n",
              "      <td>neg</td>\n",
              "      <td>{'neg': 0.0, 'neu': 1.0, 'pos': 0.0, 'compound...</td>\n",
              "      <td>0.0</td>\n",
              "      <td>neg</td>\n",
              "    </tr>\n",
              "  </tbody>\n",
              "</table>\n",
              "</div>\n",
              "    <div class=\"colab-df-buttons\">\n",
              "\n",
              "  <div class=\"colab-df-container\">\n",
              "    <button class=\"colab-df-convert\" onclick=\"convertToInteractive('df-322115a0-0124-450f-8712-5c06965ae4c2')\"\n",
              "            title=\"Convert this dataframe to an interactive table.\"\n",
              "            style=\"display:none;\">\n",
              "\n",
              "  <svg xmlns=\"http://www.w3.org/2000/svg\" height=\"24px\" viewBox=\"0 -960 960 960\">\n",
              "    <path d=\"M120-120v-720h720v720H120Zm60-500h600v-160H180v160Zm220 220h160v-160H400v160Zm0 220h160v-160H400v160ZM180-400h160v-160H180v160Zm440 0h160v-160H620v160ZM180-180h160v-160H180v160Zm440 0h160v-160H620v160Z\"/>\n",
              "  </svg>\n",
              "    </button>\n",
              "\n",
              "  <style>\n",
              "    .colab-df-container {\n",
              "      display:flex;\n",
              "      gap: 12px;\n",
              "    }\n",
              "\n",
              "    .colab-df-convert {\n",
              "      background-color: #E8F0FE;\n",
              "      border: none;\n",
              "      border-radius: 50%;\n",
              "      cursor: pointer;\n",
              "      display: none;\n",
              "      fill: #1967D2;\n",
              "      height: 32px;\n",
              "      padding: 0 0 0 0;\n",
              "      width: 32px;\n",
              "    }\n",
              "\n",
              "    .colab-df-convert:hover {\n",
              "      background-color: #E2EBFA;\n",
              "      box-shadow: 0px 1px 2px rgba(60, 64, 67, 0.3), 0px 1px 3px 1px rgba(60, 64, 67, 0.15);\n",
              "      fill: #174EA6;\n",
              "    }\n",
              "\n",
              "    .colab-df-buttons div {\n",
              "      margin-bottom: 4px;\n",
              "    }\n",
              "\n",
              "    [theme=dark] .colab-df-convert {\n",
              "      background-color: #3B4455;\n",
              "      fill: #D2E3FC;\n",
              "    }\n",
              "\n",
              "    [theme=dark] .colab-df-convert:hover {\n",
              "      background-color: #434B5C;\n",
              "      box-shadow: 0px 1px 3px 1px rgba(0, 0, 0, 0.15);\n",
              "      filter: drop-shadow(0px 1px 2px rgba(0, 0, 0, 0.3));\n",
              "      fill: #FFFFFF;\n",
              "    }\n",
              "  </style>\n",
              "\n",
              "    <script>\n",
              "      const buttonEl =\n",
              "        document.querySelector('#df-322115a0-0124-450f-8712-5c06965ae4c2 button.colab-df-convert');\n",
              "      buttonEl.style.display =\n",
              "        google.colab.kernel.accessAllowed ? 'block' : 'none';\n",
              "\n",
              "      async function convertToInteractive(key) {\n",
              "        const element = document.querySelector('#df-322115a0-0124-450f-8712-5c06965ae4c2');\n",
              "        const dataTable =\n",
              "          await google.colab.kernel.invokeFunction('convertToInteractive',\n",
              "                                                    [key], {});\n",
              "        if (!dataTable) return;\n",
              "\n",
              "        const docLinkHtml = 'Like what you see? Visit the ' +\n",
              "          '<a target=\"_blank\" href=https://colab.research.google.com/notebooks/data_table.ipynb>data table notebook</a>'\n",
              "          + ' to learn more about interactive tables.';\n",
              "        element.innerHTML = '';\n",
              "        dataTable['output_type'] = 'display_data';\n",
              "        await google.colab.output.renderOutput(dataTable, element);\n",
              "        const docLink = document.createElement('div');\n",
              "        docLink.innerHTML = docLinkHtml;\n",
              "        element.appendChild(docLink);\n",
              "      }\n",
              "    </script>\n",
              "  </div>\n",
              "\n",
              "\n",
              "    <div id=\"df-64e6052b-6ed8-4163-91be-ffe121f3b365\">\n",
              "      <button class=\"colab-df-quickchart\" onclick=\"quickchart('df-64e6052b-6ed8-4163-91be-ffe121f3b365')\"\n",
              "                title=\"Suggest charts\"\n",
              "                style=\"display:none;\">\n",
              "\n",
              "<svg xmlns=\"http://www.w3.org/2000/svg\" height=\"24px\"viewBox=\"0 0 24 24\"\n",
              "     width=\"24px\">\n",
              "    <g>\n",
              "        <path d=\"M19 3H5c-1.1 0-2 .9-2 2v14c0 1.1.9 2 2 2h14c1.1 0 2-.9 2-2V5c0-1.1-.9-2-2-2zM9 17H7v-7h2v7zm4 0h-2V7h2v10zm4 0h-2v-4h2v4z\"/>\n",
              "    </g>\n",
              "</svg>\n",
              "      </button>\n",
              "\n",
              "<style>\n",
              "  .colab-df-quickchart {\n",
              "      --bg-color: #E8F0FE;\n",
              "      --fill-color: #1967D2;\n",
              "      --hover-bg-color: #E2EBFA;\n",
              "      --hover-fill-color: #174EA6;\n",
              "      --disabled-fill-color: #AAA;\n",
              "      --disabled-bg-color: #DDD;\n",
              "  }\n",
              "\n",
              "  [theme=dark] .colab-df-quickchart {\n",
              "      --bg-color: #3B4455;\n",
              "      --fill-color: #D2E3FC;\n",
              "      --hover-bg-color: #434B5C;\n",
              "      --hover-fill-color: #FFFFFF;\n",
              "      --disabled-bg-color: #3B4455;\n",
              "      --disabled-fill-color: #666;\n",
              "  }\n",
              "\n",
              "  .colab-df-quickchart {\n",
              "    background-color: var(--bg-color);\n",
              "    border: none;\n",
              "    border-radius: 50%;\n",
              "    cursor: pointer;\n",
              "    display: none;\n",
              "    fill: var(--fill-color);\n",
              "    height: 32px;\n",
              "    padding: 0;\n",
              "    width: 32px;\n",
              "  }\n",
              "\n",
              "  .colab-df-quickchart:hover {\n",
              "    background-color: var(--hover-bg-color);\n",
              "    box-shadow: 0 1px 2px rgba(60, 64, 67, 0.3), 0 1px 3px 1px rgba(60, 64, 67, 0.15);\n",
              "    fill: var(--button-hover-fill-color);\n",
              "  }\n",
              "\n",
              "  .colab-df-quickchart-complete:disabled,\n",
              "  .colab-df-quickchart-complete:disabled:hover {\n",
              "    background-color: var(--disabled-bg-color);\n",
              "    fill: var(--disabled-fill-color);\n",
              "    box-shadow: none;\n",
              "  }\n",
              "\n",
              "  .colab-df-spinner {\n",
              "    border: 2px solid var(--fill-color);\n",
              "    border-color: transparent;\n",
              "    border-bottom-color: var(--fill-color);\n",
              "    animation:\n",
              "      spin 1s steps(1) infinite;\n",
              "  }\n",
              "\n",
              "  @keyframes spin {\n",
              "    0% {\n",
              "      border-color: transparent;\n",
              "      border-bottom-color: var(--fill-color);\n",
              "      border-left-color: var(--fill-color);\n",
              "    }\n",
              "    20% {\n",
              "      border-color: transparent;\n",
              "      border-left-color: var(--fill-color);\n",
              "      border-top-color: var(--fill-color);\n",
              "    }\n",
              "    30% {\n",
              "      border-color: transparent;\n",
              "      border-left-color: var(--fill-color);\n",
              "      border-top-color: var(--fill-color);\n",
              "      border-right-color: var(--fill-color);\n",
              "    }\n",
              "    40% {\n",
              "      border-color: transparent;\n",
              "      border-right-color: var(--fill-color);\n",
              "      border-top-color: var(--fill-color);\n",
              "    }\n",
              "    60% {\n",
              "      border-color: transparent;\n",
              "      border-right-color: var(--fill-color);\n",
              "    }\n",
              "    80% {\n",
              "      border-color: transparent;\n",
              "      border-right-color: var(--fill-color);\n",
              "      border-bottom-color: var(--fill-color);\n",
              "    }\n",
              "    90% {\n",
              "      border-color: transparent;\n",
              "      border-bottom-color: var(--fill-color);\n",
              "    }\n",
              "  }\n",
              "</style>\n",
              "\n",
              "      <script>\n",
              "        async function quickchart(key) {\n",
              "          const quickchartButtonEl =\n",
              "            document.querySelector('#' + key + ' button');\n",
              "          quickchartButtonEl.disabled = true;  // To prevent multiple clicks.\n",
              "          quickchartButtonEl.classList.add('colab-df-spinner');\n",
              "          try {\n",
              "            const charts = await google.colab.kernel.invokeFunction(\n",
              "                'suggestCharts', [key], {});\n",
              "          } catch (error) {\n",
              "            console.error('Error during call to suggestCharts:', error);\n",
              "          }\n",
              "          quickchartButtonEl.classList.remove('colab-df-spinner');\n",
              "          quickchartButtonEl.classList.add('colab-df-quickchart-complete');\n",
              "        }\n",
              "        (() => {\n",
              "          let quickchartButtonEl =\n",
              "            document.querySelector('#df-64e6052b-6ed8-4163-91be-ffe121f3b365 button');\n",
              "          quickchartButtonEl.style.display =\n",
              "            google.colab.kernel.accessAllowed ? 'block' : 'none';\n",
              "        })();\n",
              "      </script>\n",
              "    </div>\n",
              "\n",
              "    </div>\n",
              "  </div>\n"
            ],
            "application/vnd.google.colaboratory.intrinsic+json": {
              "type": "dataframe",
              "variable_name": "reviews",
              "summary": "{\n  \"name\": \"reviews\",\n  \"rows\": 10,\n  \"fields\": [\n    {\n      \"column\": \"review\",\n      \"properties\": {\n        \"dtype\": \"string\",\n        \"num_unique_values\": 10,\n        \"samples\": [\n          \"La m\\u00fasica no encajaba con las escenas, un desastre total.\",\n          \"Una obra maestra, la actuaci\\u00f3n principal fue impresionante.\",\n          \"Una pel\\u00edcula brillante, con direcci\\u00f3n impecable y gran fotograf\\u00eda.\"\n        ],\n        \"semantic_type\": \"\",\n        \"description\": \"\"\n      }\n    },\n    {\n      \"column\": \"label\",\n      \"properties\": {\n        \"dtype\": \"category\",\n        \"num_unique_values\": 2,\n        \"samples\": [\n          \"pos\",\n          \"neg\"\n        ],\n        \"semantic_type\": \"\",\n        \"description\": \"\"\n      }\n    },\n    {\n      \"column\": \"scores\",\n      \"properties\": {\n        \"dtype\": \"object\",\n        \"semantic_type\": \"\",\n        \"description\": \"\"\n      }\n    },\n    {\n      \"column\": \"compound\",\n      \"properties\": {\n        \"dtype\": \"number\",\n        \"std\": 0.09360341874098402,\n        \"min\": -0.296,\n        \"max\": 0.0,\n        \"num_unique_values\": 2,\n        \"samples\": [\n          -0.296,\n          0.0\n        ],\n        \"semantic_type\": \"\",\n        \"description\": \"\"\n      }\n    },\n    {\n      \"column\": \"prediction\",\n      \"properties\": {\n        \"dtype\": \"category\",\n        \"num_unique_values\": 1,\n        \"samples\": [\n          \"neg\"\n        ],\n        \"semantic_type\": \"\",\n        \"description\": \"\"\n      }\n    }\n  ]\n}"
            }
          },
          "metadata": {},
          "execution_count": 21
        }
      ]
    },
    {
      "cell_type": "markdown",
      "source": [
        "**Evaluación del modelo de sentimiento**\n",
        "\n",
        "---"
      ],
      "metadata": {
        "id": "-jtVL56QkYvT"
      }
    },
    {
      "cell_type": "markdown",
      "source": [
        "<div align=\"justify\">\n",
        "Se compara las predicciones del analizador de sentimientos con las etiquetas reales. Calcula la precisión (accuracy), genera un reporte de clasificación con métricas detalladas y una matriz de confusión, permitiendo evaluar el desempeño del modelo de manera completa."
      ],
      "metadata": {
        "id": "BV0TYdckpyiU"
      }
    },
    {
      "cell_type": "code",
      "source": [
        "y_true = reviews.label.values\n",
        "y_pred = reviews.prediction.values\n",
        "\n",
        "acc = accuracy_score(y_true, y_pred)\n",
        "cm = confusion_matrix(y_true, y_pred)\n",
        "cr = classification_report(y_true, y_pred)\n",
        "\n",
        "\n",
        "print(f\"Accuracy:\\n{acc}\\n\")\n",
        "print(f\"Classification Report:\\n{cr}\")\n",
        "print(f\"Confusion Matrix:\\n{cm}\")"
      ],
      "metadata": {
        "colab": {
          "base_uri": "https://localhost:8080/"
        },
        "id": "I_72wUDNkgdf",
        "outputId": "0d82c671-9bbd-4fcf-bfe5-9a514223a9a5"
      },
      "execution_count": 22,
      "outputs": [
        {
          "output_type": "stream",
          "name": "stdout",
          "text": [
            "Accuracy:\n",
            "0.5\n",
            "\n",
            "Classification Report:\n",
            "              precision    recall  f1-score   support\n",
            "\n",
            "         neg       0.50      1.00      0.67         5\n",
            "         pos       0.00      0.00      0.00         5\n",
            "\n",
            "    accuracy                           0.50        10\n",
            "   macro avg       0.25      0.50      0.33        10\n",
            "weighted avg       0.25      0.50      0.33        10\n",
            "\n",
            "Confusion Matrix:\n",
            "[[5 0]\n",
            " [5 0]]\n"
          ]
        }
      ]
    },
    {
      "cell_type": "markdown",
      "source": [
        "**CONCLUSIONES**"
      ],
      "metadata": {
        "id": "U3KOEBPUrJRn"
      }
    },
    {
      "cell_type": "markdown",
      "source": [
        "<div align=\"justify\">\n",
        "<b>1.Preprocesamiento de datos:</b><br>\n",
        "La limpieza de los textos y la eliminación de valores nulos o vacíos permitió trabajar con un dataset consistente, asegurando que cada reseña contuviera información válida para el análisis de sentimientos.\n",
        "<br><br>\n",
        "<b>2.Uso de VADER para análisis de sentimientos:</b><br>\n",
        "El analizador VADER demostró ser una herramienta efectiva para evaluar la polaridad de las reseñas de películas, generando puntuaciones compuestas que reflejan el sentimiento positivo, negativo o neutral de cada texto.\n",
        "<br><br>\n",
        "<b>3.Generación de predicciones:</b><br>\n",
        "A partir de los puntajes compuestos, se pudo construir un modelo de clasificación binaria sencillo (pos/neg) que asigna automáticamente un sentimiento a cada reseña.\n",
        "<br><br>\n",
        "<b>4.Evaluación del modelo:</b><br>\n",
        "El cálculo de precisión, matriz de confusión y reporte de clasificación permitió evaluar el desempeño del modelo, destacando la importancia de métricas para comprender tanto la exactitud general como el comportamiento en cada clase.\n",
        "<br><br>\n",
        "Este enfoque puede aplicarse a sistemas de análisis de opiniones, reseñas de productos, comentarios en redes sociales o cualquier texto donde sea necesario detectar sentimientos, permitiendo decisiones basadas en la percepción de los usuarios."
      ],
      "metadata": {
        "id": "WZgh5vuDrM4I"
      }
    }
  ]
}